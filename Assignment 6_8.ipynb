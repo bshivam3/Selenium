{
 "cells": [
  {
   "cell_type": "code",
   "execution_count": 21,
   "metadata": {},
   "outputs": [],
   "source": [
    "import selenium"
   ]
  },
  {
   "cell_type": "code",
   "execution_count": 22,
   "metadata": {},
   "outputs": [],
   "source": [
    "from selenium import webdriver"
   ]
  },
  {
   "cell_type": "code",
   "execution_count": 23,
   "metadata": {},
   "outputs": [],
   "source": [
    "import pandas as pd"
   ]
  },
  {
   "cell_type": "code",
   "execution_count": 24,
   "metadata": {},
   "outputs": [
    {
     "name": "stderr",
     "output_type": "stream",
     "text": [
      "<ipython-input-24-ec23c7972a0a>:1: DeprecationWarning: executable_path has been deprecated, please pass in a Service object\n",
      "  driver=webdriver.Chrome('chromedriver.exe')\n"
     ]
    }
   ],
   "source": [
    "driver=webdriver.Chrome('chromedriver.exe')"
   ]
  },
  {
   "cell_type": "code",
   "execution_count": 25,
   "metadata": {},
   "outputs": [],
   "source": [
    "driver.get('https://www.flipkart.com/')"
   ]
  },
  {
   "cell_type": "code",
   "execution_count": 26,
   "metadata": {},
   "outputs": [
    {
     "name": "stderr",
     "output_type": "stream",
     "text": [
      "<ipython-input-26-acab2ce5c210>:1: DeprecationWarning: find_element_by_* commands are deprecated. Please use find_element() instead\n",
      "  search_name=driver.find_element_by_xpath(\"//input[@class='_3704LK']\")\n"
     ]
    }
   ],
   "source": [
    "search_name=driver.find_element_by_xpath(\"//input[@class='_3704LK']\")"
   ]
  },
  {
   "cell_type": "code",
   "execution_count": 27,
   "metadata": {},
   "outputs": [],
   "source": [
    "search_name.send_keys('sneakers')"
   ]
  },
  {
   "cell_type": "code",
   "execution_count": 29,
   "metadata": {},
   "outputs": [
    {
     "name": "stderr",
     "output_type": "stream",
     "text": [
      "<ipython-input-29-40f259b4d750>:1: DeprecationWarning: find_element_by_* commands are deprecated. Please use find_element() instead\n",
      "  search_btn=driver.find_element_by_xpath(\"//div[@class='col-12-12 _2oO9oE']/button\")\n"
     ]
    }
   ],
   "source": [
    "search_btn=driver.find_element_by_xpath(\"//div[@class='col-12-12 _2oO9oE']/button\")"
   ]
  },
  {
   "cell_type": "code",
   "execution_count": 31,
   "metadata": {},
   "outputs": [],
   "source": [
    "search_btn.click()"
   ]
  },
  {
   "cell_type": "code",
   "execution_count": 32,
   "metadata": {},
   "outputs": [],
   "source": [
    "brand=[]"
   ]
  },
  {
   "cell_type": "code",
   "execution_count": 33,
   "metadata": {},
   "outputs": [
    {
     "name": "stderr",
     "output_type": "stream",
     "text": [
      "<ipython-input-33-77df57c83b76>:1: DeprecationWarning: find_elements_by_* commands are deprecated. Please use find_elements() instead\n",
      "  brand_tag=driver.find_elements_by_xpath(\"//div[@class='_2WkVRV']\")\n"
     ]
    }
   ],
   "source": [
    "brand_tag=driver.find_elements_by_xpath(\"//div[@class='_2WkVRV']\")"
   ]
  },
  {
   "cell_type": "code",
   "execution_count": 34,
   "metadata": {},
   "outputs": [
    {
     "data": {
      "text/plain": [
       "['PUMA',\n",
       " 'BIRDE',\n",
       " 'HOTSTYLE',\n",
       " 'Magnolia',\n",
       " 'BRUTON',\n",
       " 'BIRDE',\n",
       " 'BRUTON',\n",
       " 'PUMA',\n",
       " 'D-SNEAKERZ',\n",
       " 'luxury fashion']"
      ]
     },
     "execution_count": 34,
     "metadata": {},
     "output_type": "execute_result"
    }
   ],
   "source": [
    "for i in brand_tag:\n",
    "    bra=i.text\n",
    "    brand.append(bra)\n",
    "brand[0:10]"
   ]
  },
  {
   "cell_type": "code",
   "execution_count": 35,
   "metadata": {},
   "outputs": [],
   "source": [
    "product=[]"
   ]
  },
  {
   "cell_type": "code",
   "execution_count": 36,
   "metadata": {},
   "outputs": [
    {
     "name": "stderr",
     "output_type": "stream",
     "text": [
      "<ipython-input-36-8527c300d5fd>:1: DeprecationWarning: find_elements_by_* commands are deprecated. Please use find_elements() instead\n",
      "  product_tags=driver.find_elements_by_xpath(\"//a[@class='IRpwTa']\")\n"
     ]
    }
   ],
   "source": [
    "product_tags=driver.find_elements_by_xpath(\"//a[@class='IRpwTa']\")"
   ]
  },
  {
   "cell_type": "code",
   "execution_count": 37,
   "metadata": {},
   "outputs": [
    {
     "data": {
      "text/plain": [
       "['one8 V2 IDP Sneakers For Men',\n",
       " 'Casual Shoes For Men Sneakers For Men',\n",
       " 'Sneakers For Men',\n",
       " 'Sneakers For Men',\n",
       " 'Combo Pack Of 4 Casual Shoes Loafer Shoes Sneakers For ...',\n",
       " 'Birde Trendy Casual Shoes Sneakers For Men',\n",
       " 'Modern Trendy Sneakers Shoes Sneakers For Men',\n",
       " 'Caven Sneakers For Men',\n",
       " \"Casual , Partywear Sneakers Shoes For Men's And Boys Wh...\",\n",
       " 'Sneakers for men(black_6) Sneakers For Men']"
      ]
     },
     "execution_count": 37,
     "metadata": {},
     "output_type": "execute_result"
    }
   ],
   "source": [
    "for i in product_tags:\n",
    "    pro=i.text\n",
    "    product.append(pro)\n",
    "product[0:10]"
   ]
  },
  {
   "cell_type": "code",
   "execution_count": 38,
   "metadata": {},
   "outputs": [],
   "source": [
    "price=[]"
   ]
  },
  {
   "cell_type": "code",
   "execution_count": 39,
   "metadata": {},
   "outputs": [
    {
     "name": "stderr",
     "output_type": "stream",
     "text": [
      "<ipython-input-39-6cff3ff29f09>:1: DeprecationWarning: find_elements_by_* commands are deprecated. Please use find_elements() instead\n",
      "  price_tags=driver.find_elements_by_xpath(\"//div[@class='_30jeq3']\")\n"
     ]
    }
   ],
   "source": [
    "price_tags=driver.find_elements_by_xpath(\"//div[@class='_30jeq3']\")"
   ]
  },
  {
   "cell_type": "code",
   "execution_count": 40,
   "metadata": {},
   "outputs": [
    {
     "data": {
      "text/plain": [
       "['₹1,711',\n",
       " '₹279',\n",
       " '₹279',\n",
       " '₹398',\n",
       " '₹424',\n",
       " '₹303',\n",
       " '₹299',\n",
       " '₹2,749',\n",
       " '₹348',\n",
       " '₹449']"
      ]
     },
     "execution_count": 40,
     "metadata": {},
     "output_type": "execute_result"
    }
   ],
   "source": [
    "for i in price_tags:\n",
    "    pri=i.text\n",
    "    price.append(pri)\n",
    "price[0:10]"
   ]
  },
  {
   "cell_type": "code",
   "execution_count": 41,
   "metadata": {},
   "outputs": [],
   "source": [
    "discount=[]"
   ]
  },
  {
   "cell_type": "code",
   "execution_count": 42,
   "metadata": {},
   "outputs": [
    {
     "name": "stderr",
     "output_type": "stream",
     "text": [
      "<ipython-input-42-3961f7362c95>:1: DeprecationWarning: find_elements_by_* commands are deprecated. Please use find_elements() instead\n",
      "  discount_tags=driver.find_elements_by_xpath(\"//div[@class='_3Ay6Sb']\")\n"
     ]
    }
   ],
   "source": [
    "discount_tags=driver.find_elements_by_xpath(\"//div[@class='_3Ay6Sb']\")"
   ]
  },
  {
   "cell_type": "code",
   "execution_count": 44,
   "metadata": {},
   "outputs": [
    {
     "data": {
      "text/plain": [
       "['48% off',\n",
       " '44% off',\n",
       " '44% off',\n",
       " '60% off',\n",
       " '87% off',\n",
       " '39% off',\n",
       " '76% off',\n",
       " '50% off',\n",
       " '47% off',\n",
       " '65% off']"
      ]
     },
     "execution_count": 44,
     "metadata": {},
     "output_type": "execute_result"
    }
   ],
   "source": [
    "for i in discount_tags:\n",
    "    dis=i.text\n",
    "    discount.append(dis)\n",
    "discount[0:10]"
   ]
  },
  {
   "cell_type": "code",
   "execution_count": 45,
   "metadata": {},
   "outputs": [],
   "source": [
    "flipkart=pd.DataFrame({})"
   ]
  },
  {
   "cell_type": "code",
   "execution_count": 46,
   "metadata": {},
   "outputs": [],
   "source": [
    "flipkart['Brand']=brand[0:20]"
   ]
  },
  {
   "cell_type": "code",
   "execution_count": 47,
   "metadata": {},
   "outputs": [],
   "source": [
    "flipkart['Product']=product[0:20]"
   ]
  },
  {
   "cell_type": "code",
   "execution_count": 48,
   "metadata": {},
   "outputs": [],
   "source": [
    "flipkart['Price']=price[0:20]"
   ]
  },
  {
   "cell_type": "code",
   "execution_count": 49,
   "metadata": {},
   "outputs": [],
   "source": [
    "flipkart['Discount']=discount[0:20]"
   ]
  },
  {
   "cell_type": "code",
   "execution_count": 50,
   "metadata": {},
   "outputs": [
    {
     "data": {
      "text/html": [
       "<div>\n",
       "<style scoped>\n",
       "    .dataframe tbody tr th:only-of-type {\n",
       "        vertical-align: middle;\n",
       "    }\n",
       "\n",
       "    .dataframe tbody tr th {\n",
       "        vertical-align: top;\n",
       "    }\n",
       "\n",
       "    .dataframe thead th {\n",
       "        text-align: right;\n",
       "    }\n",
       "</style>\n",
       "<table border=\"1\" class=\"dataframe\">\n",
       "  <thead>\n",
       "    <tr style=\"text-align: right;\">\n",
       "      <th></th>\n",
       "      <th>Brand</th>\n",
       "      <th>Product</th>\n",
       "      <th>Price</th>\n",
       "      <th>Discount</th>\n",
       "    </tr>\n",
       "  </thead>\n",
       "  <tbody>\n",
       "    <tr>\n",
       "      <th>0</th>\n",
       "      <td>PUMA</td>\n",
       "      <td>one8 V2 IDP Sneakers For Men</td>\n",
       "      <td>₹1,711</td>\n",
       "      <td>48% off</td>\n",
       "    </tr>\n",
       "    <tr>\n",
       "      <th>1</th>\n",
       "      <td>BIRDE</td>\n",
       "      <td>Casual Shoes For Men Sneakers For Men</td>\n",
       "      <td>₹279</td>\n",
       "      <td>44% off</td>\n",
       "    </tr>\n",
       "    <tr>\n",
       "      <th>2</th>\n",
       "      <td>HOTSTYLE</td>\n",
       "      <td>Sneakers For Men</td>\n",
       "      <td>₹279</td>\n",
       "      <td>44% off</td>\n",
       "    </tr>\n",
       "    <tr>\n",
       "      <th>3</th>\n",
       "      <td>Magnolia</td>\n",
       "      <td>Sneakers For Men</td>\n",
       "      <td>₹398</td>\n",
       "      <td>60% off</td>\n",
       "    </tr>\n",
       "    <tr>\n",
       "      <th>4</th>\n",
       "      <td>BRUTON</td>\n",
       "      <td>Combo Pack Of 4 Casual Shoes Loafer Shoes Snea...</td>\n",
       "      <td>₹424</td>\n",
       "      <td>87% off</td>\n",
       "    </tr>\n",
       "    <tr>\n",
       "      <th>5</th>\n",
       "      <td>BIRDE</td>\n",
       "      <td>Birde Trendy Casual Shoes Sneakers For Men</td>\n",
       "      <td>₹303</td>\n",
       "      <td>39% off</td>\n",
       "    </tr>\n",
       "    <tr>\n",
       "      <th>6</th>\n",
       "      <td>BRUTON</td>\n",
       "      <td>Modern Trendy Sneakers Shoes Sneakers For Men</td>\n",
       "      <td>₹299</td>\n",
       "      <td>76% off</td>\n",
       "    </tr>\n",
       "    <tr>\n",
       "      <th>7</th>\n",
       "      <td>PUMA</td>\n",
       "      <td>Caven Sneakers For Men</td>\n",
       "      <td>₹2,749</td>\n",
       "      <td>50% off</td>\n",
       "    </tr>\n",
       "    <tr>\n",
       "      <th>8</th>\n",
       "      <td>D-SNEAKERZ</td>\n",
       "      <td>Casual , Partywear Sneakers Shoes For Men's An...</td>\n",
       "      <td>₹348</td>\n",
       "      <td>47% off</td>\n",
       "    </tr>\n",
       "    <tr>\n",
       "      <th>9</th>\n",
       "      <td>luxury fashion</td>\n",
       "      <td>Sneakers for men(black_6) Sneakers For Men</td>\n",
       "      <td>₹449</td>\n",
       "      <td>65% off</td>\n",
       "    </tr>\n",
       "    <tr>\n",
       "      <th>10</th>\n",
       "      <td>believe</td>\n",
       "      <td>Men's Stylish Casual Shoes Sneakers For Men</td>\n",
       "      <td>₹374</td>\n",
       "      <td>62% off</td>\n",
       "    </tr>\n",
       "    <tr>\n",
       "      <th>11</th>\n",
       "      <td>BIRDE</td>\n",
       "      <td>411 Casual Sneakers For Men</td>\n",
       "      <td>₹322</td>\n",
       "      <td>35% off</td>\n",
       "    </tr>\n",
       "    <tr>\n",
       "      <th>12</th>\n",
       "      <td>Numenzo</td>\n",
       "      <td>Casual Sneakers Shoes For Men Sneakers For Men</td>\n",
       "      <td>₹499</td>\n",
       "      <td>75% off</td>\n",
       "    </tr>\n",
       "    <tr>\n",
       "      <th>13</th>\n",
       "      <td>Robbie jones</td>\n",
       "      <td>Sneakers For Men</td>\n",
       "      <td>₹379</td>\n",
       "      <td>62% off</td>\n",
       "    </tr>\n",
       "    <tr>\n",
       "      <th>14</th>\n",
       "      <td>Numenzo</td>\n",
       "      <td>Sneakers For Men</td>\n",
       "      <td>₹407</td>\n",
       "      <td>68% off</td>\n",
       "    </tr>\n",
       "    <tr>\n",
       "      <th>15</th>\n",
       "      <td>WROGN</td>\n",
       "      <td>casual for men Sneakers For Men</td>\n",
       "      <td>₹737</td>\n",
       "      <td>63% off</td>\n",
       "    </tr>\n",
       "    <tr>\n",
       "      <th>16</th>\n",
       "      <td>bluemaker</td>\n",
       "      <td>Luxury Branded Fashionable Men's Casual Walkin...</td>\n",
       "      <td>₹424</td>\n",
       "      <td>57% off</td>\n",
       "    </tr>\n",
       "    <tr>\n",
       "      <th>17</th>\n",
       "      <td>Edoeviv</td>\n",
       "      <td>Sneakers For Men</td>\n",
       "      <td>₹499</td>\n",
       "      <td>37% off</td>\n",
       "    </tr>\n",
       "    <tr>\n",
       "      <th>18</th>\n",
       "      <td>Robbie jones</td>\n",
       "      <td>Court Point Vulc SL V4 MU IDP Sneakers For Men</td>\n",
       "      <td>₹474</td>\n",
       "      <td>52% off</td>\n",
       "    </tr>\n",
       "    <tr>\n",
       "      <th>19</th>\n",
       "      <td>PUMA</td>\n",
       "      <td>Sneakers For Men</td>\n",
       "      <td>₹1,599</td>\n",
       "      <td>60% off</td>\n",
       "    </tr>\n",
       "  </tbody>\n",
       "</table>\n",
       "</div>"
      ],
      "text/plain": [
       "             Brand                                            Product   Price  \\\n",
       "0             PUMA                       one8 V2 IDP Sneakers For Men  ₹1,711   \n",
       "1            BIRDE              Casual Shoes For Men Sneakers For Men    ₹279   \n",
       "2         HOTSTYLE                                   Sneakers For Men    ₹279   \n",
       "3         Magnolia                                   Sneakers For Men    ₹398   \n",
       "4           BRUTON  Combo Pack Of 4 Casual Shoes Loafer Shoes Snea...    ₹424   \n",
       "5            BIRDE         Birde Trendy Casual Shoes Sneakers For Men    ₹303   \n",
       "6           BRUTON      Modern Trendy Sneakers Shoes Sneakers For Men    ₹299   \n",
       "7             PUMA                             Caven Sneakers For Men  ₹2,749   \n",
       "8       D-SNEAKERZ  Casual , Partywear Sneakers Shoes For Men's An...    ₹348   \n",
       "9   luxury fashion         Sneakers for men(black_6) Sneakers For Men    ₹449   \n",
       "10         believe        Men's Stylish Casual Shoes Sneakers For Men    ₹374   \n",
       "11           BIRDE                        411 Casual Sneakers For Men    ₹322   \n",
       "12         Numenzo     Casual Sneakers Shoes For Men Sneakers For Men    ₹499   \n",
       "13    Robbie jones                                   Sneakers For Men    ₹379   \n",
       "14         Numenzo                                   Sneakers For Men    ₹407   \n",
       "15           WROGN                    casual for men Sneakers For Men    ₹737   \n",
       "16       bluemaker  Luxury Branded Fashionable Men's Casual Walkin...    ₹424   \n",
       "17         Edoeviv                                   Sneakers For Men    ₹499   \n",
       "18    Robbie jones     Court Point Vulc SL V4 MU IDP Sneakers For Men    ₹474   \n",
       "19            PUMA                                   Sneakers For Men  ₹1,599   \n",
       "\n",
       "   Discount  \n",
       "0   48% off  \n",
       "1   44% off  \n",
       "2   44% off  \n",
       "3   60% off  \n",
       "4   87% off  \n",
       "5   39% off  \n",
       "6   76% off  \n",
       "7   50% off  \n",
       "8   47% off  \n",
       "9   65% off  \n",
       "10  62% off  \n",
       "11  35% off  \n",
       "12  75% off  \n",
       "13  62% off  \n",
       "14  68% off  \n",
       "15  63% off  \n",
       "16  57% off  \n",
       "17  37% off  \n",
       "18  52% off  \n",
       "19  60% off  "
      ]
     },
     "execution_count": 50,
     "metadata": {},
     "output_type": "execute_result"
    }
   ],
   "source": [
    "flipkart"
   ]
  },
  {
   "cell_type": "markdown",
   "metadata": {},
   "source": [
    "assignment 6"
   ]
  },
  {
   "cell_type": "code",
   "execution_count": null,
   "metadata": {},
   "outputs": [],
   "source": []
  },
  {
   "cell_type": "code",
   "execution_count": 51,
   "metadata": {},
   "outputs": [],
   "source": [
    "import selenium"
   ]
  },
  {
   "cell_type": "code",
   "execution_count": 52,
   "metadata": {},
   "outputs": [],
   "source": [
    "from selenium import webdriver"
   ]
  },
  {
   "cell_type": "code",
   "execution_count": 53,
   "metadata": {},
   "outputs": [],
   "source": [
    "import pandas as pd"
   ]
  },
  {
   "cell_type": "code",
   "execution_count": 54,
   "metadata": {},
   "outputs": [
    {
     "name": "stderr",
     "output_type": "stream",
     "text": [
      "<ipython-input-54-ec23c7972a0a>:1: DeprecationWarning: executable_path has been deprecated, please pass in a Service object\n",
      "  driver=webdriver.Chrome('chromedriver.exe')\n"
     ]
    }
   ],
   "source": [
    "driver=webdriver.Chrome('chromedriver.exe')"
   ]
  },
  {
   "cell_type": "code",
   "execution_count": 55,
   "metadata": {},
   "outputs": [],
   "source": [
    "driver.get('https://www.flipkart.com/')"
   ]
  },
  {
   "cell_type": "code",
   "execution_count": 56,
   "metadata": {},
   "outputs": [
    {
     "name": "stderr",
     "output_type": "stream",
     "text": [
      "<ipython-input-56-acab2ce5c210>:1: DeprecationWarning: find_element_by_* commands are deprecated. Please use find_element() instead\n",
      "  search_name=driver.find_element_by_xpath(\"//input[@class='_3704LK']\")\n"
     ]
    }
   ],
   "source": [
    "search_name=driver.find_element_by_xpath(\"//input[@class='_3704LK']\")"
   ]
  },
  {
   "cell_type": "code",
   "execution_count": 58,
   "metadata": {},
   "outputs": [],
   "source": [
    "search_name.send_keys('sunglasses')"
   ]
  },
  {
   "cell_type": "code",
   "execution_count": 59,
   "metadata": {},
   "outputs": [
    {
     "name": "stderr",
     "output_type": "stream",
     "text": [
      "<ipython-input-59-74d49fb027d8>:1: DeprecationWarning: find_element_by_* commands are deprecated. Please use find_element() instead\n",
      "  search_btn=driver.find_element_by_xpath(\"//div[@class='col-12-12 _2oO9oE']/button\")\n"
     ]
    }
   ],
   "source": [
    "search_btn=driver.find_element_by_xpath(\"//div[@class='col-12-12 _2oO9oE']/button\")\n",
    "\n",
    "search_btn.click()"
   ]
  },
  {
   "cell_type": "code",
   "execution_count": 60,
   "metadata": {},
   "outputs": [],
   "source": [
    "brand=[]"
   ]
  },
  {
   "cell_type": "code",
   "execution_count": 61,
   "metadata": {},
   "outputs": [],
   "source": [
    "description=[]"
   ]
  },
  {
   "cell_type": "code",
   "execution_count": 62,
   "metadata": {},
   "outputs": [],
   "source": [
    "price=[]"
   ]
  },
  {
   "cell_type": "code",
   "execution_count": 63,
   "metadata": {},
   "outputs": [],
   "source": [
    "discount=[]"
   ]
  },
  {
   "cell_type": "code",
   "execution_count": 64,
   "metadata": {},
   "outputs": [
    {
     "name": "stderr",
     "output_type": "stream",
     "text": [
      "<ipython-input-64-cc73911ad7dc>:1: DeprecationWarning: find_elements_by_* commands are deprecated. Please use find_elements() instead\n",
      "  brand_tags=driver.find_elements_by_xpath(\"//div[@class='_2WkVRV']\")\n",
      "<ipython-input-64-cc73911ad7dc>:2: DeprecationWarning: find_elements_by_* commands are deprecated. Please use find_elements() instead\n",
      "  description_tags=driver.find_elements_by_xpath(\"//a[@class='IRpwTa']\")\n",
      "<ipython-input-64-cc73911ad7dc>:3: DeprecationWarning: find_elements_by_* commands are deprecated. Please use find_elements() instead\n",
      "  price_tags=driver.find_elements_by_xpath(\"//div[@class='_30jeq3']\")\n",
      "<ipython-input-64-cc73911ad7dc>:4: DeprecationWarning: find_elements_by_* commands are deprecated. Please use find_elements() instead\n",
      "  discount_tags=driver.find_elements_by_xpath(\"//div[@class='_3Ay6Sb']\")\n"
     ]
    }
   ],
   "source": [
    "brand_tags=driver.find_elements_by_xpath(\"//div[@class='_2WkVRV']\")\n",
    "description_tags=driver.find_elements_by_xpath(\"//a[@class='IRpwTa']\")\n",
    "price_tags=driver.find_elements_by_xpath(\"//div[@class='_30jeq3']\")\n",
    "discount_tags=driver.find_elements_by_xpath(\"//div[@class='_3Ay6Sb']\")"
   ]
  },
  {
   "cell_type": "code",
   "execution_count": 65,
   "metadata": {},
   "outputs": [
    {
     "data": {
      "text/plain": [
       "['PIRASO',\n",
       " 'Fastrack',\n",
       " 'PIRASO',\n",
       " 'VINCENT CHASE',\n",
       " 'Elligator',\n",
       " 'PIRASO',\n",
       " 'SHAAH COLLECTIONS',\n",
       " 'VINCENT CHASE',\n",
       " 'ROZZETTA CRAFT',\n",
       " 'Silver Kartz',\n",
       " 'Rich Club',\n",
       " 'VINCENT CHASE',\n",
       " 'GANSTA',\n",
       " 'SHAAH COLLECTIONS',\n",
       " 'PHENOMENAL',\n",
       " 'ROYAL SON',\n",
       " 'kingsunglasses',\n",
       " 'New Specs',\n",
       " 'NuVew',\n",
       " 'VINCENT CHASE',\n",
       " 'Singco India',\n",
       " 'Fastrack',\n",
       " 'kingsunglasses',\n",
       " 'VINCENT CHASE',\n",
       " 'Silver Kartz',\n",
       " 'Elligator',\n",
       " 'Fastrack',\n",
       " 'VINCENT CHASE',\n",
       " 'PHENOMENAL',\n",
       " 'NuVew',\n",
       " 'PIRASO',\n",
       " 'VINCENT CHASE',\n",
       " 'Fastrack',\n",
       " 'ROYAL SON',\n",
       " 'Fastrack',\n",
       " 'ROZZETTA CRAFT',\n",
       " 'GANSTA',\n",
       " 'GANSTA',\n",
       " 'SUNBEE',\n",
       " 'VINCENT CHASE']"
      ]
     },
     "execution_count": 65,
     "metadata": {},
     "output_type": "execute_result"
    }
   ],
   "source": [
    "for i in brand_tags:\n",
    "    bra=i.text\n",
    "    brand.append(bra)\n",
    "brand[0:40]"
   ]
  },
  {
   "cell_type": "code",
   "execution_count": 66,
   "metadata": {},
   "outputs": [
    {
     "data": {
      "text/plain": [
       "['UV Protection Aviator Sunglasses (54)',\n",
       " 'UV Protection Wayfarer Sunglasses (Free Size)',\n",
       " 'UV Protection Aviator Sunglasses (54)',\n",
       " 'by Lenskart UV Protection Wayfarer Sunglasses (51)',\n",
       " 'UV Protection Round Sunglasses (54)',\n",
       " 'UV Protection Aviator Sunglasses (54)',\n",
       " 'UV Protection, Polarized, Mirrored Rectangular Sunglass...',\n",
       " 'Polarized, UV Protection Wayfarer Sunglasses (57)',\n",
       " 'UV Protection Retro Square Sunglasses (Free Size)',\n",
       " 'UV Protection Wayfarer Sunglasses (Free Size)',\n",
       " 'Polarized Round Sunglasses (48)',\n",
       " 'Polarized, UV Protection Wayfarer Sunglasses (53)',\n",
       " 'UV Protection Aviator Sunglasses (57)',\n",
       " 'UV Protection, Polarized, Mirrored Rectangular Sunglass...',\n",
       " 'UV Protection, Mirrored Retro Square Sunglasses (53)',\n",
       " 'Polarized, UV Protection Rectangular Sunglasses (59)',\n",
       " 'Mirrored, UV Protection Wayfarer Sunglasses (Free Size)',\n",
       " 'Mirrored, UV Protection, Riding Glasses, Others Round S...',\n",
       " 'UV Protection, Night Vision, Riding Glasses Sports Sung...',\n",
       " 'UV Protection Aviator Sunglasses (Free Size)',\n",
       " 'UV Protection Round Sunglasses (Free Size)',\n",
       " 'Gradient, UV Protection Wayfarer Sunglasses (Free Size)',\n",
       " 'UV Protection Round Sunglasses (54)',\n",
       " 'UV Protection Aviator Sunglasses (Free Size)',\n",
       " 'UV Protection Oval Sunglasses (56)',\n",
       " 'UV Protection Round Sunglasses (55)',\n",
       " 'UV Protection Rectangular Sunglasses (Free Size)',\n",
       " 'by Lenskart UV Protection Rectangular Sunglasses (54)',\n",
       " 'UV Protection Retro Square Sunglasses (Free Size)',\n",
       " 'UV Protection, Mirrored Aviator Sunglasses (58)',\n",
       " 'UV Protection Aviator Sunglasses (58)',\n",
       " 'UV Protection Wayfarer Sunglasses (51)',\n",
       " 'UV Protection Aviator Sunglasses (58)',\n",
       " 'Polarized, UV Protection Aviator Sunglasses (58)',\n",
       " 'Mirrored, UV Protection Wayfarer Sunglasses (Free Size)',\n",
       " 'UV Protection, Riding Glasses Rectangular Sunglasses (F...',\n",
       " 'UV Protection, Night Vision, Riding Glasses Aviator Sun...',\n",
       " 'UV Protection, Riding Glasses Wayfarer Sunglasses (53)',\n",
       " 'UV Protection, Polarized, Mirrored Wayfarer Sunglasses ...',\n",
       " 'Polarized, UV Protection Aviator Sunglasses (58)']"
      ]
     },
     "execution_count": 66,
     "metadata": {},
     "output_type": "execute_result"
    }
   ],
   "source": [
    "for i in description_tags:\n",
    "    des=i.text\n",
    "    description.append(des)\n",
    "description[0:40]"
   ]
  },
  {
   "cell_type": "code",
   "execution_count": 67,
   "metadata": {},
   "outputs": [
    {
     "data": {
      "text/plain": [
       "['₹200',\n",
       " '₹467',\n",
       " '₹200',\n",
       " '₹999',\n",
       " '₹295',\n",
       " '₹200',\n",
       " '₹198',\n",
       " '₹799',\n",
       " '₹474',\n",
       " '₹194',\n",
       " '₹199',\n",
       " '₹799',\n",
       " '₹239',\n",
       " '₹215',\n",
       " '₹319',\n",
       " '₹559',\n",
       " '₹284',\n",
       " '₹299',\n",
       " '₹216',\n",
       " '₹999',\n",
       " '₹183',\n",
       " '₹404',\n",
       " '₹213',\n",
       " '₹999',\n",
       " '₹224',\n",
       " '₹266',\n",
       " '₹517',\n",
       " '₹639',\n",
       " '₹379',\n",
       " '₹185',\n",
       " '₹319',\n",
       " '₹943',\n",
       " '₹703',\n",
       " '₹599',\n",
       " '₹503',\n",
       " '₹426',\n",
       " '₹248',\n",
       " '₹209',\n",
       " '₹265',\n",
       " '₹799']"
      ]
     },
     "execution_count": 67,
     "metadata": {},
     "output_type": "execute_result"
    }
   ],
   "source": [
    "for i in price_tags:\n",
    "    pri=i.text\n",
    "    price.append(pri)\n",
    "price[0:40]"
   ]
  },
  {
   "cell_type": "code",
   "execution_count": 68,
   "metadata": {},
   "outputs": [
    {
     "data": {
      "text/plain": [
       "['87% off',\n",
       " '48% off',\n",
       " '87% off',\n",
       " '50% off',\n",
       " '88% off',\n",
       " '87% off',\n",
       " '88% off',\n",
       " '60% off',\n",
       " '78% off',\n",
       " '87% off',\n",
       " '60% off',\n",
       " '60% off',\n",
       " '88% off',\n",
       " '78% off',\n",
       " '84% off',\n",
       " '62% off',\n",
       " '89% off',\n",
       " '81% off',\n",
       " '72% off',\n",
       " '50% off',\n",
       " '81% off',\n",
       " '49% off',\n",
       " '80% off',\n",
       " '50% off',\n",
       " '81% off',\n",
       " '86% off',\n",
       " '35% off',\n",
       " '68% off',\n",
       " '81% off',\n",
       " '78% off',\n",
       " '87% off',\n",
       " '52% off',\n",
       " '45% off',\n",
       " '70% off',\n",
       " '49% off',\n",
       " '80% off',\n",
       " '87% off',\n",
       " '88% off',\n",
       " '73% off',\n",
       " '68% off']"
      ]
     },
     "execution_count": 68,
     "metadata": {},
     "output_type": "execute_result"
    }
   ],
   "source": [
    "for i in discount_tags:\n",
    "    dis=i.text\n",
    "    discount.append(dis)\n",
    "discount[0:40]"
   ]
  },
  {
   "cell_type": "code",
   "execution_count": 69,
   "metadata": {},
   "outputs": [],
   "source": [
    "sunglasses=pd.DataFrame({})"
   ]
  },
  {
   "cell_type": "code",
   "execution_count": 70,
   "metadata": {},
   "outputs": [],
   "source": [
    "sunglasses['Brand']=brand[0:40]"
   ]
  },
  {
   "cell_type": "code",
   "execution_count": 71,
   "metadata": {},
   "outputs": [],
   "source": [
    "sunglasses['Description']=description[0:40]"
   ]
  },
  {
   "cell_type": "code",
   "execution_count": 72,
   "metadata": {},
   "outputs": [],
   "source": [
    "sunglasses['Price']=price[0:40]"
   ]
  },
  {
   "cell_type": "code",
   "execution_count": 73,
   "metadata": {},
   "outputs": [],
   "source": [
    "sunglasses['Discount']=discount[0:40]"
   ]
  },
  {
   "cell_type": "code",
   "execution_count": 74,
   "metadata": {},
   "outputs": [
    {
     "data": {
      "text/html": [
       "<div>\n",
       "<style scoped>\n",
       "    .dataframe tbody tr th:only-of-type {\n",
       "        vertical-align: middle;\n",
       "    }\n",
       "\n",
       "    .dataframe tbody tr th {\n",
       "        vertical-align: top;\n",
       "    }\n",
       "\n",
       "    .dataframe thead th {\n",
       "        text-align: right;\n",
       "    }\n",
       "</style>\n",
       "<table border=\"1\" class=\"dataframe\">\n",
       "  <thead>\n",
       "    <tr style=\"text-align: right;\">\n",
       "      <th></th>\n",
       "      <th>Brand</th>\n",
       "      <th>Description</th>\n",
       "      <th>Price</th>\n",
       "      <th>Discount</th>\n",
       "    </tr>\n",
       "  </thead>\n",
       "  <tbody>\n",
       "    <tr>\n",
       "      <th>0</th>\n",
       "      <td>PIRASO</td>\n",
       "      <td>UV Protection Aviator Sunglasses (54)</td>\n",
       "      <td>₹200</td>\n",
       "      <td>87% off</td>\n",
       "    </tr>\n",
       "    <tr>\n",
       "      <th>1</th>\n",
       "      <td>Fastrack</td>\n",
       "      <td>UV Protection Wayfarer Sunglasses (Free Size)</td>\n",
       "      <td>₹467</td>\n",
       "      <td>48% off</td>\n",
       "    </tr>\n",
       "    <tr>\n",
       "      <th>2</th>\n",
       "      <td>PIRASO</td>\n",
       "      <td>UV Protection Aviator Sunglasses (54)</td>\n",
       "      <td>₹200</td>\n",
       "      <td>87% off</td>\n",
       "    </tr>\n",
       "    <tr>\n",
       "      <th>3</th>\n",
       "      <td>VINCENT CHASE</td>\n",
       "      <td>by Lenskart UV Protection Wayfarer Sunglasses ...</td>\n",
       "      <td>₹999</td>\n",
       "      <td>50% off</td>\n",
       "    </tr>\n",
       "    <tr>\n",
       "      <th>4</th>\n",
       "      <td>Elligator</td>\n",
       "      <td>UV Protection Round Sunglasses (54)</td>\n",
       "      <td>₹295</td>\n",
       "      <td>88% off</td>\n",
       "    </tr>\n",
       "    <tr>\n",
       "      <th>5</th>\n",
       "      <td>PIRASO</td>\n",
       "      <td>UV Protection Aviator Sunglasses (54)</td>\n",
       "      <td>₹200</td>\n",
       "      <td>87% off</td>\n",
       "    </tr>\n",
       "    <tr>\n",
       "      <th>6</th>\n",
       "      <td>SHAAH COLLECTIONS</td>\n",
       "      <td>UV Protection, Polarized, Mirrored Rectangular...</td>\n",
       "      <td>₹198</td>\n",
       "      <td>88% off</td>\n",
       "    </tr>\n",
       "    <tr>\n",
       "      <th>7</th>\n",
       "      <td>VINCENT CHASE</td>\n",
       "      <td>Polarized, UV Protection Wayfarer Sunglasses (57)</td>\n",
       "      <td>₹799</td>\n",
       "      <td>60% off</td>\n",
       "    </tr>\n",
       "    <tr>\n",
       "      <th>8</th>\n",
       "      <td>ROZZETTA CRAFT</td>\n",
       "      <td>UV Protection Retro Square Sunglasses (Free Size)</td>\n",
       "      <td>₹474</td>\n",
       "      <td>78% off</td>\n",
       "    </tr>\n",
       "    <tr>\n",
       "      <th>9</th>\n",
       "      <td>Silver Kartz</td>\n",
       "      <td>UV Protection Wayfarer Sunglasses (Free Size)</td>\n",
       "      <td>₹194</td>\n",
       "      <td>87% off</td>\n",
       "    </tr>\n",
       "    <tr>\n",
       "      <th>10</th>\n",
       "      <td>Rich Club</td>\n",
       "      <td>Polarized Round Sunglasses (48)</td>\n",
       "      <td>₹199</td>\n",
       "      <td>60% off</td>\n",
       "    </tr>\n",
       "    <tr>\n",
       "      <th>11</th>\n",
       "      <td>VINCENT CHASE</td>\n",
       "      <td>Polarized, UV Protection Wayfarer Sunglasses (53)</td>\n",
       "      <td>₹799</td>\n",
       "      <td>60% off</td>\n",
       "    </tr>\n",
       "    <tr>\n",
       "      <th>12</th>\n",
       "      <td>GANSTA</td>\n",
       "      <td>UV Protection Aviator Sunglasses (57)</td>\n",
       "      <td>₹239</td>\n",
       "      <td>88% off</td>\n",
       "    </tr>\n",
       "    <tr>\n",
       "      <th>13</th>\n",
       "      <td>SHAAH COLLECTIONS</td>\n",
       "      <td>UV Protection, Polarized, Mirrored Rectangular...</td>\n",
       "      <td>₹215</td>\n",
       "      <td>78% off</td>\n",
       "    </tr>\n",
       "    <tr>\n",
       "      <th>14</th>\n",
       "      <td>PHENOMENAL</td>\n",
       "      <td>UV Protection, Mirrored Retro Square Sunglasse...</td>\n",
       "      <td>₹319</td>\n",
       "      <td>84% off</td>\n",
       "    </tr>\n",
       "    <tr>\n",
       "      <th>15</th>\n",
       "      <td>ROYAL SON</td>\n",
       "      <td>Polarized, UV Protection Rectangular Sunglasse...</td>\n",
       "      <td>₹559</td>\n",
       "      <td>62% off</td>\n",
       "    </tr>\n",
       "    <tr>\n",
       "      <th>16</th>\n",
       "      <td>kingsunglasses</td>\n",
       "      <td>Mirrored, UV Protection Wayfarer Sunglasses (F...</td>\n",
       "      <td>₹284</td>\n",
       "      <td>89% off</td>\n",
       "    </tr>\n",
       "    <tr>\n",
       "      <th>17</th>\n",
       "      <td>New Specs</td>\n",
       "      <td>Mirrored, UV Protection, Riding Glasses, Other...</td>\n",
       "      <td>₹299</td>\n",
       "      <td>81% off</td>\n",
       "    </tr>\n",
       "    <tr>\n",
       "      <th>18</th>\n",
       "      <td>NuVew</td>\n",
       "      <td>UV Protection, Night Vision, Riding Glasses Sp...</td>\n",
       "      <td>₹216</td>\n",
       "      <td>72% off</td>\n",
       "    </tr>\n",
       "    <tr>\n",
       "      <th>19</th>\n",
       "      <td>VINCENT CHASE</td>\n",
       "      <td>UV Protection Aviator Sunglasses (Free Size)</td>\n",
       "      <td>₹999</td>\n",
       "      <td>50% off</td>\n",
       "    </tr>\n",
       "    <tr>\n",
       "      <th>20</th>\n",
       "      <td>Singco India</td>\n",
       "      <td>UV Protection Round Sunglasses (Free Size)</td>\n",
       "      <td>₹183</td>\n",
       "      <td>81% off</td>\n",
       "    </tr>\n",
       "    <tr>\n",
       "      <th>21</th>\n",
       "      <td>Fastrack</td>\n",
       "      <td>Gradient, UV Protection Wayfarer Sunglasses (F...</td>\n",
       "      <td>₹404</td>\n",
       "      <td>49% off</td>\n",
       "    </tr>\n",
       "    <tr>\n",
       "      <th>22</th>\n",
       "      <td>kingsunglasses</td>\n",
       "      <td>UV Protection Round Sunglasses (54)</td>\n",
       "      <td>₹213</td>\n",
       "      <td>80% off</td>\n",
       "    </tr>\n",
       "    <tr>\n",
       "      <th>23</th>\n",
       "      <td>VINCENT CHASE</td>\n",
       "      <td>UV Protection Aviator Sunglasses (Free Size)</td>\n",
       "      <td>₹999</td>\n",
       "      <td>50% off</td>\n",
       "    </tr>\n",
       "    <tr>\n",
       "      <th>24</th>\n",
       "      <td>Silver Kartz</td>\n",
       "      <td>UV Protection Oval Sunglasses (56)</td>\n",
       "      <td>₹224</td>\n",
       "      <td>81% off</td>\n",
       "    </tr>\n",
       "    <tr>\n",
       "      <th>25</th>\n",
       "      <td>Elligator</td>\n",
       "      <td>UV Protection Round Sunglasses (55)</td>\n",
       "      <td>₹266</td>\n",
       "      <td>86% off</td>\n",
       "    </tr>\n",
       "    <tr>\n",
       "      <th>26</th>\n",
       "      <td>Fastrack</td>\n",
       "      <td>UV Protection Rectangular Sunglasses (Free Size)</td>\n",
       "      <td>₹517</td>\n",
       "      <td>35% off</td>\n",
       "    </tr>\n",
       "    <tr>\n",
       "      <th>27</th>\n",
       "      <td>VINCENT CHASE</td>\n",
       "      <td>by Lenskart UV Protection Rectangular Sunglass...</td>\n",
       "      <td>₹639</td>\n",
       "      <td>68% off</td>\n",
       "    </tr>\n",
       "    <tr>\n",
       "      <th>28</th>\n",
       "      <td>PHENOMENAL</td>\n",
       "      <td>UV Protection Retro Square Sunglasses (Free Size)</td>\n",
       "      <td>₹379</td>\n",
       "      <td>81% off</td>\n",
       "    </tr>\n",
       "    <tr>\n",
       "      <th>29</th>\n",
       "      <td>NuVew</td>\n",
       "      <td>UV Protection, Mirrored Aviator Sunglasses (58)</td>\n",
       "      <td>₹185</td>\n",
       "      <td>78% off</td>\n",
       "    </tr>\n",
       "    <tr>\n",
       "      <th>30</th>\n",
       "      <td>PIRASO</td>\n",
       "      <td>UV Protection Aviator Sunglasses (58)</td>\n",
       "      <td>₹319</td>\n",
       "      <td>87% off</td>\n",
       "    </tr>\n",
       "    <tr>\n",
       "      <th>31</th>\n",
       "      <td>VINCENT CHASE</td>\n",
       "      <td>UV Protection Wayfarer Sunglasses (51)</td>\n",
       "      <td>₹943</td>\n",
       "      <td>52% off</td>\n",
       "    </tr>\n",
       "    <tr>\n",
       "      <th>32</th>\n",
       "      <td>Fastrack</td>\n",
       "      <td>UV Protection Aviator Sunglasses (58)</td>\n",
       "      <td>₹703</td>\n",
       "      <td>45% off</td>\n",
       "    </tr>\n",
       "    <tr>\n",
       "      <th>33</th>\n",
       "      <td>ROYAL SON</td>\n",
       "      <td>Polarized, UV Protection Aviator Sunglasses (58)</td>\n",
       "      <td>₹599</td>\n",
       "      <td>70% off</td>\n",
       "    </tr>\n",
       "    <tr>\n",
       "      <th>34</th>\n",
       "      <td>Fastrack</td>\n",
       "      <td>Mirrored, UV Protection Wayfarer Sunglasses (F...</td>\n",
       "      <td>₹503</td>\n",
       "      <td>49% off</td>\n",
       "    </tr>\n",
       "    <tr>\n",
       "      <th>35</th>\n",
       "      <td>ROZZETTA CRAFT</td>\n",
       "      <td>UV Protection, Riding Glasses Rectangular Sung...</td>\n",
       "      <td>₹426</td>\n",
       "      <td>80% off</td>\n",
       "    </tr>\n",
       "    <tr>\n",
       "      <th>36</th>\n",
       "      <td>GANSTA</td>\n",
       "      <td>UV Protection, Night Vision, Riding Glasses Av...</td>\n",
       "      <td>₹248</td>\n",
       "      <td>87% off</td>\n",
       "    </tr>\n",
       "    <tr>\n",
       "      <th>37</th>\n",
       "      <td>GANSTA</td>\n",
       "      <td>UV Protection, Riding Glasses Wayfarer Sunglas...</td>\n",
       "      <td>₹209</td>\n",
       "      <td>88% off</td>\n",
       "    </tr>\n",
       "    <tr>\n",
       "      <th>38</th>\n",
       "      <td>SUNBEE</td>\n",
       "      <td>UV Protection, Polarized, Mirrored Wayfarer Su...</td>\n",
       "      <td>₹265</td>\n",
       "      <td>73% off</td>\n",
       "    </tr>\n",
       "    <tr>\n",
       "      <th>39</th>\n",
       "      <td>VINCENT CHASE</td>\n",
       "      <td>Polarized, UV Protection Aviator Sunglasses (58)</td>\n",
       "      <td>₹799</td>\n",
       "      <td>68% off</td>\n",
       "    </tr>\n",
       "  </tbody>\n",
       "</table>\n",
       "</div>"
      ],
      "text/plain": [
       "                Brand                                        Description  \\\n",
       "0              PIRASO              UV Protection Aviator Sunglasses (54)   \n",
       "1            Fastrack      UV Protection Wayfarer Sunglasses (Free Size)   \n",
       "2              PIRASO              UV Protection Aviator Sunglasses (54)   \n",
       "3       VINCENT CHASE  by Lenskart UV Protection Wayfarer Sunglasses ...   \n",
       "4           Elligator                UV Protection Round Sunglasses (54)   \n",
       "5              PIRASO              UV Protection Aviator Sunglasses (54)   \n",
       "6   SHAAH COLLECTIONS  UV Protection, Polarized, Mirrored Rectangular...   \n",
       "7       VINCENT CHASE  Polarized, UV Protection Wayfarer Sunglasses (57)   \n",
       "8      ROZZETTA CRAFT  UV Protection Retro Square Sunglasses (Free Size)   \n",
       "9        Silver Kartz      UV Protection Wayfarer Sunglasses (Free Size)   \n",
       "10          Rich Club                    Polarized Round Sunglasses (48)   \n",
       "11      VINCENT CHASE  Polarized, UV Protection Wayfarer Sunglasses (53)   \n",
       "12             GANSTA              UV Protection Aviator Sunglasses (57)   \n",
       "13  SHAAH COLLECTIONS  UV Protection, Polarized, Mirrored Rectangular...   \n",
       "14         PHENOMENAL  UV Protection, Mirrored Retro Square Sunglasse...   \n",
       "15          ROYAL SON  Polarized, UV Protection Rectangular Sunglasse...   \n",
       "16     kingsunglasses  Mirrored, UV Protection Wayfarer Sunglasses (F...   \n",
       "17          New Specs  Mirrored, UV Protection, Riding Glasses, Other...   \n",
       "18              NuVew  UV Protection, Night Vision, Riding Glasses Sp...   \n",
       "19      VINCENT CHASE       UV Protection Aviator Sunglasses (Free Size)   \n",
       "20       Singco India         UV Protection Round Sunglasses (Free Size)   \n",
       "21           Fastrack  Gradient, UV Protection Wayfarer Sunglasses (F...   \n",
       "22     kingsunglasses                UV Protection Round Sunglasses (54)   \n",
       "23      VINCENT CHASE       UV Protection Aviator Sunglasses (Free Size)   \n",
       "24       Silver Kartz                 UV Protection Oval Sunglasses (56)   \n",
       "25          Elligator                UV Protection Round Sunglasses (55)   \n",
       "26           Fastrack   UV Protection Rectangular Sunglasses (Free Size)   \n",
       "27      VINCENT CHASE  by Lenskart UV Protection Rectangular Sunglass...   \n",
       "28         PHENOMENAL  UV Protection Retro Square Sunglasses (Free Size)   \n",
       "29              NuVew    UV Protection, Mirrored Aviator Sunglasses (58)   \n",
       "30             PIRASO              UV Protection Aviator Sunglasses (58)   \n",
       "31      VINCENT CHASE             UV Protection Wayfarer Sunglasses (51)   \n",
       "32           Fastrack              UV Protection Aviator Sunglasses (58)   \n",
       "33          ROYAL SON   Polarized, UV Protection Aviator Sunglasses (58)   \n",
       "34           Fastrack  Mirrored, UV Protection Wayfarer Sunglasses (F...   \n",
       "35     ROZZETTA CRAFT  UV Protection, Riding Glasses Rectangular Sung...   \n",
       "36             GANSTA  UV Protection, Night Vision, Riding Glasses Av...   \n",
       "37             GANSTA  UV Protection, Riding Glasses Wayfarer Sunglas...   \n",
       "38             SUNBEE  UV Protection, Polarized, Mirrored Wayfarer Su...   \n",
       "39      VINCENT CHASE   Polarized, UV Protection Aviator Sunglasses (58)   \n",
       "\n",
       "   Price Discount  \n",
       "0   ₹200  87% off  \n",
       "1   ₹467  48% off  \n",
       "2   ₹200  87% off  \n",
       "3   ₹999  50% off  \n",
       "4   ₹295  88% off  \n",
       "5   ₹200  87% off  \n",
       "6   ₹198  88% off  \n",
       "7   ₹799  60% off  \n",
       "8   ₹474  78% off  \n",
       "9   ₹194  87% off  \n",
       "10  ₹199  60% off  \n",
       "11  ₹799  60% off  \n",
       "12  ₹239  88% off  \n",
       "13  ₹215  78% off  \n",
       "14  ₹319  84% off  \n",
       "15  ₹559  62% off  \n",
       "16  ₹284  89% off  \n",
       "17  ₹299  81% off  \n",
       "18  ₹216  72% off  \n",
       "19  ₹999  50% off  \n",
       "20  ₹183  81% off  \n",
       "21  ₹404  49% off  \n",
       "22  ₹213  80% off  \n",
       "23  ₹999  50% off  \n",
       "24  ₹224  81% off  \n",
       "25  ₹266  86% off  \n",
       "26  ₹517  35% off  \n",
       "27  ₹639  68% off  \n",
       "28  ₹379  81% off  \n",
       "29  ₹185  78% off  \n",
       "30  ₹319  87% off  \n",
       "31  ₹943  52% off  \n",
       "32  ₹703  45% off  \n",
       "33  ₹599  70% off  \n",
       "34  ₹503  49% off  \n",
       "35  ₹426  80% off  \n",
       "36  ₹248  87% off  \n",
       "37  ₹209  88% off  \n",
       "38  ₹265  73% off  \n",
       "39  ₹799  68% off  "
      ]
     },
     "execution_count": 74,
     "metadata": {},
     "output_type": "execute_result"
    }
   ],
   "source": [
    "sunglasses"
   ]
  },
  {
   "cell_type": "code",
   "execution_count": null,
   "metadata": {},
   "outputs": [],
   "source": []
  }
 ],
 "metadata": {
  "kernelspec": {
   "display_name": "Python 3",
   "language": "python",
   "name": "python3"
  },
  "language_info": {
   "codemirror_mode": {
    "name": "ipython",
    "version": 3
   },
   "file_extension": ".py",
   "mimetype": "text/x-python",
   "name": "python",
   "nbconvert_exporter": "python",
   "pygments_lexer": "ipython3",
   "version": "3.8.3"
  }
 },
 "nbformat": 4,
 "nbformat_minor": 4
}
