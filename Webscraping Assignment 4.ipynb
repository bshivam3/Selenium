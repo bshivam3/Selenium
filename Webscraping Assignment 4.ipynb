{
 "cells": [
  {
   "cell_type": "code",
   "execution_count": 454,
   "metadata": {},
   "outputs": [],
   "source": [
    "import selenium"
   ]
  },
  {
   "cell_type": "code",
   "execution_count": 455,
   "metadata": {},
   "outputs": [],
   "source": [
    "import pandas as pd"
   ]
  },
  {
   "cell_type": "code",
   "execution_count": 456,
   "metadata": {},
   "outputs": [],
   "source": [
    "from selenium import webdriver"
   ]
  },
  {
   "cell_type": "code",
   "execution_count": 457,
   "metadata": {},
   "outputs": [
    {
     "name": "stderr",
     "output_type": "stream",
     "text": [
      "<ipython-input-457-ec23c7972a0a>:1: DeprecationWarning: executable_path has been deprecated, please pass in a Service object\n",
      "  driver=webdriver.Chrome('chromedriver.exe')\n"
     ]
    }
   ],
   "source": [
    "driver=webdriver.Chrome('chromedriver.exe')"
   ]
  },
  {
   "cell_type": "code",
   "execution_count": 458,
   "metadata": {},
   "outputs": [],
   "source": [
    "driver.get('https://en.wikipedia.org/wiki/List_of_most-viewed_YouTube_videos')"
   ]
  },
  {
   "cell_type": "code",
   "execution_count": 459,
   "metadata": {},
   "outputs": [],
   "source": [
    "rank=[]"
   ]
  },
  {
   "cell_type": "code",
   "execution_count": 460,
   "metadata": {},
   "outputs": [],
   "source": [
    "Name=[]"
   ]
  },
  {
   "cell_type": "code",
   "execution_count": 461,
   "metadata": {},
   "outputs": [],
   "source": [
    "Artist=[]"
   ]
  },
  {
   "cell_type": "code",
   "execution_count": 462,
   "metadata": {},
   "outputs": [],
   "source": [
    "upload_date=[]"
   ]
  },
  {
   "cell_type": "code",
   "execution_count": 463,
   "metadata": {},
   "outputs": [],
   "source": [
    "views=[]"
   ]
  },
  {
   "cell_type": "code",
   "execution_count": 464,
   "metadata": {},
   "outputs": [
    {
     "name": "stderr",
     "output_type": "stream",
     "text": [
      "<ipython-input-464-62f9cbda586f>:1: DeprecationWarning: find_elements_by_* commands are deprecated. Please use find_elements() instead\n",
      "  titles_rank=driver.find_elements_by_xpath('//table[@class=\"wikitable sortable jquery-tablesorter\"]/tbody/tr/td[1]')\n"
     ]
    }
   ],
   "source": [
    "titles_rank=driver.find_elements_by_xpath('//table[@class=\"wikitable sortable jquery-tablesorter\"]/tbody/tr/td[1]')"
   ]
  },
  {
   "cell_type": "code",
   "execution_count": 465,
   "metadata": {},
   "outputs": [
    {
     "name": "stderr",
     "output_type": "stream",
     "text": [
      "<ipython-input-465-eec580117ef3>:1: DeprecationWarning: find_elements_by_* commands are deprecated. Please use find_elements() instead\n",
      "  titles_name=driver.find_elements_by_xpath('//table[@class=\"wikitable sortable jquery-tablesorter\"]/tbody/tr/td[2]')\n"
     ]
    }
   ],
   "source": [
    "titles_name=driver.find_elements_by_xpath('//table[@class=\"wikitable sortable jquery-tablesorter\"]/tbody/tr/td[2]')"
   ]
  },
  {
   "cell_type": "code",
   "execution_count": 466,
   "metadata": {},
   "outputs": [
    {
     "data": {
      "text/plain": [
       "[<selenium.webdriver.remote.webelement.WebElement (session=\"160943b9dbd7e5c5181cbce19fde4b3d\", element=\"70b954a4-2770-4bb2-9087-0e3965694d4a\")>,\n",
       " <selenium.webdriver.remote.webelement.WebElement (session=\"160943b9dbd7e5c5181cbce19fde4b3d\", element=\"99b17fed-6b4d-498f-9664-b77cd59bb6e1\")>,\n",
       " <selenium.webdriver.remote.webelement.WebElement (session=\"160943b9dbd7e5c5181cbce19fde4b3d\", element=\"ee6c1320-56ca-4bc7-9bac-7a91ab0087e3\")>,\n",
       " <selenium.webdriver.remote.webelement.WebElement (session=\"160943b9dbd7e5c5181cbce19fde4b3d\", element=\"64dcdb71-abcb-4ead-885d-303e99ed3745\")>,\n",
       " <selenium.webdriver.remote.webelement.WebElement (session=\"160943b9dbd7e5c5181cbce19fde4b3d\", element=\"af129dd6-9863-4bec-9ab4-45460854bdc0\")>,\n",
       " <selenium.webdriver.remote.webelement.WebElement (session=\"160943b9dbd7e5c5181cbce19fde4b3d\", element=\"84ed1383-6d75-4e0c-8786-4bf86f8ee4b2\")>,\n",
       " <selenium.webdriver.remote.webelement.WebElement (session=\"160943b9dbd7e5c5181cbce19fde4b3d\", element=\"dd10e667-58cf-45fc-8087-f8deda24296d\")>,\n",
       " <selenium.webdriver.remote.webelement.WebElement (session=\"160943b9dbd7e5c5181cbce19fde4b3d\", element=\"dc4cd9f7-9e66-408f-88e0-2fef517c836d\")>,\n",
       " <selenium.webdriver.remote.webelement.WebElement (session=\"160943b9dbd7e5c5181cbce19fde4b3d\", element=\"69306580-9515-411d-b3a0-2e18684be813\")>,\n",
       " <selenium.webdriver.remote.webelement.WebElement (session=\"160943b9dbd7e5c5181cbce19fde4b3d\", element=\"e2959b7a-a1d1-4115-a0a4-9414bc701e8d\")>,\n",
       " <selenium.webdriver.remote.webelement.WebElement (session=\"160943b9dbd7e5c5181cbce19fde4b3d\", element=\"fafad0da-47f9-4ffd-9553-cbf077f5b780\")>,\n",
       " <selenium.webdriver.remote.webelement.WebElement (session=\"160943b9dbd7e5c5181cbce19fde4b3d\", element=\"6be837f2-2add-40ef-afc6-19cd0cc362de\")>,\n",
       " <selenium.webdriver.remote.webelement.WebElement (session=\"160943b9dbd7e5c5181cbce19fde4b3d\", element=\"ec6caff1-0f37-40a9-b773-6570944cd2b6\")>,\n",
       " <selenium.webdriver.remote.webelement.WebElement (session=\"160943b9dbd7e5c5181cbce19fde4b3d\", element=\"6d58aa36-9c55-4a94-b444-58effc1a9dc5\")>,\n",
       " <selenium.webdriver.remote.webelement.WebElement (session=\"160943b9dbd7e5c5181cbce19fde4b3d\", element=\"a43ea27e-f25e-4fe2-ab07-f3688f48a85d\")>,\n",
       " <selenium.webdriver.remote.webelement.WebElement (session=\"160943b9dbd7e5c5181cbce19fde4b3d\", element=\"ff82444d-6ca7-402e-a37b-0644b3cc873e\")>,\n",
       " <selenium.webdriver.remote.webelement.WebElement (session=\"160943b9dbd7e5c5181cbce19fde4b3d\", element=\"fd956709-559b-4977-a7cc-76180ed78fbc\")>,\n",
       " <selenium.webdriver.remote.webelement.WebElement (session=\"160943b9dbd7e5c5181cbce19fde4b3d\", element=\"4287c522-ba48-492c-8dd5-938c6fd603bc\")>,\n",
       " <selenium.webdriver.remote.webelement.WebElement (session=\"160943b9dbd7e5c5181cbce19fde4b3d\", element=\"26003b9d-2f2b-4aca-a2c6-e18607e43c3d\")>,\n",
       " <selenium.webdriver.remote.webelement.WebElement (session=\"160943b9dbd7e5c5181cbce19fde4b3d\", element=\"290adcd6-201e-4f5a-bc2f-d104a396cdc5\")>,\n",
       " <selenium.webdriver.remote.webelement.WebElement (session=\"160943b9dbd7e5c5181cbce19fde4b3d\", element=\"f8fb7b62-5cda-4756-ba0f-f1790502bfe7\")>,\n",
       " <selenium.webdriver.remote.webelement.WebElement (session=\"160943b9dbd7e5c5181cbce19fde4b3d\", element=\"1243378b-ba61-4329-9036-fde06b8359cc\")>,\n",
       " <selenium.webdriver.remote.webelement.WebElement (session=\"160943b9dbd7e5c5181cbce19fde4b3d\", element=\"dc9c8f41-4d9f-4788-9334-a5c7225f7995\")>,\n",
       " <selenium.webdriver.remote.webelement.WebElement (session=\"160943b9dbd7e5c5181cbce19fde4b3d\", element=\"125e51ea-4df4-454d-a264-99e0b48eeaa3\")>,\n",
       " <selenium.webdriver.remote.webelement.WebElement (session=\"160943b9dbd7e5c5181cbce19fde4b3d\", element=\"319e8ed1-7cfb-421f-b102-e38ec0439fca\")>,\n",
       " <selenium.webdriver.remote.webelement.WebElement (session=\"160943b9dbd7e5c5181cbce19fde4b3d\", element=\"50534eac-3885-4ba7-b0ea-1216c30f5d04\")>,\n",
       " <selenium.webdriver.remote.webelement.WebElement (session=\"160943b9dbd7e5c5181cbce19fde4b3d\", element=\"547cbba9-baf1-4b9d-9be8-45a36b8df8a9\")>,\n",
       " <selenium.webdriver.remote.webelement.WebElement (session=\"160943b9dbd7e5c5181cbce19fde4b3d\", element=\"44a46901-3562-43b2-9178-71e3dbe41d4b\")>,\n",
       " <selenium.webdriver.remote.webelement.WebElement (session=\"160943b9dbd7e5c5181cbce19fde4b3d\", element=\"f2cceea2-9606-414d-b6a6-7b3b276a0c5a\")>,\n",
       " <selenium.webdriver.remote.webelement.WebElement (session=\"160943b9dbd7e5c5181cbce19fde4b3d\", element=\"764f5a2e-aebf-49ea-9601-535129063b86\")>,\n",
       " <selenium.webdriver.remote.webelement.WebElement (session=\"160943b9dbd7e5c5181cbce19fde4b3d\", element=\"bd44d57c-c308-4f89-815f-6236559d8122\")>,\n",
       " <selenium.webdriver.remote.webelement.WebElement (session=\"160943b9dbd7e5c5181cbce19fde4b3d\", element=\"efc48179-aff1-4f5e-8355-65f9f4fa53ca\")>,\n",
       " <selenium.webdriver.remote.webelement.WebElement (session=\"160943b9dbd7e5c5181cbce19fde4b3d\", element=\"f32f083b-bd61-4067-897f-b7307c92329c\")>,\n",
       " <selenium.webdriver.remote.webelement.WebElement (session=\"160943b9dbd7e5c5181cbce19fde4b3d\", element=\"253717d1-5f52-4fdc-a2a5-f7f4c19bd626\")>,\n",
       " <selenium.webdriver.remote.webelement.WebElement (session=\"160943b9dbd7e5c5181cbce19fde4b3d\", element=\"a5f9170d-8c79-4d15-a076-50bf69acfdd1\")>,\n",
       " <selenium.webdriver.remote.webelement.WebElement (session=\"160943b9dbd7e5c5181cbce19fde4b3d\", element=\"6514b6c3-cc8d-4cb9-8c71-97e28cc23bd0\")>,\n",
       " <selenium.webdriver.remote.webelement.WebElement (session=\"160943b9dbd7e5c5181cbce19fde4b3d\", element=\"99ffa6b9-e8df-4855-90a2-6d31517e2efc\")>,\n",
       " <selenium.webdriver.remote.webelement.WebElement (session=\"160943b9dbd7e5c5181cbce19fde4b3d\", element=\"79f1b28c-0c4f-4c34-bab0-eafb94465eaa\")>,\n",
       " <selenium.webdriver.remote.webelement.WebElement (session=\"160943b9dbd7e5c5181cbce19fde4b3d\", element=\"dea6f640-b86b-4bb1-b8ef-128eca1f88dd\")>,\n",
       " <selenium.webdriver.remote.webelement.WebElement (session=\"160943b9dbd7e5c5181cbce19fde4b3d\", element=\"a30953e4-a81c-4311-be06-85165a6a6125\")>,\n",
       " <selenium.webdriver.remote.webelement.WebElement (session=\"160943b9dbd7e5c5181cbce19fde4b3d\", element=\"b5341bd5-a1c5-4324-bd7b-fbebcf21e086\")>,\n",
       " <selenium.webdriver.remote.webelement.WebElement (session=\"160943b9dbd7e5c5181cbce19fde4b3d\", element=\"549d936b-374b-43b0-896d-8d60663e4b97\")>,\n",
       " <selenium.webdriver.remote.webelement.WebElement (session=\"160943b9dbd7e5c5181cbce19fde4b3d\", element=\"b2ce97a0-408e-4d89-a34d-c36afab5f198\")>,\n",
       " <selenium.webdriver.remote.webelement.WebElement (session=\"160943b9dbd7e5c5181cbce19fde4b3d\", element=\"c039e696-2637-40c4-ba6f-903dac3286a6\")>,\n",
       " <selenium.webdriver.remote.webelement.WebElement (session=\"160943b9dbd7e5c5181cbce19fde4b3d\", element=\"aaec519c-9107-4597-a6bf-794a4a63672c\")>,\n",
       " <selenium.webdriver.remote.webelement.WebElement (session=\"160943b9dbd7e5c5181cbce19fde4b3d\", element=\"b3df0768-d8b7-4c08-8eb1-03ee7b9a8010\")>,\n",
       " <selenium.webdriver.remote.webelement.WebElement (session=\"160943b9dbd7e5c5181cbce19fde4b3d\", element=\"b601c642-f21d-42eb-8745-3735e6738392\")>,\n",
       " <selenium.webdriver.remote.webelement.WebElement (session=\"160943b9dbd7e5c5181cbce19fde4b3d\", element=\"5b9f0be1-df5d-462f-8633-447419019138\")>,\n",
       " <selenium.webdriver.remote.webelement.WebElement (session=\"160943b9dbd7e5c5181cbce19fde4b3d\", element=\"2e9ba535-b53f-405a-b4d8-dae9fe8be9dc\")>]"
      ]
     },
     "execution_count": 466,
     "metadata": {},
     "output_type": "execute_result"
    }
   ],
   "source": [
    "titles_name"
   ]
  },
  {
   "cell_type": "code",
   "execution_count": 467,
   "metadata": {},
   "outputs": [
    {
     "data": {
      "text/plain": [
       "49"
      ]
     },
     "execution_count": 467,
     "metadata": {},
     "output_type": "execute_result"
    }
   ],
   "source": [
    "len(titles_rank)"
   ]
  },
  {
   "cell_type": "code",
   "execution_count": 468,
   "metadata": {},
   "outputs": [
    {
     "data": {
      "text/plain": [
       "49"
      ]
     },
     "execution_count": 468,
     "metadata": {},
     "output_type": "execute_result"
    }
   ],
   "source": [
    "len(titles_name)"
   ]
  },
  {
   "cell_type": "code",
   "execution_count": 469,
   "metadata": {},
   "outputs": [
    {
     "name": "stderr",
     "output_type": "stream",
     "text": [
      "<ipython-input-469-548319a82067>:1: DeprecationWarning: find_elements_by_* commands are deprecated. Please use find_elements() instead\n",
      "  titles_artist=driver.find_elements_by_xpath('//table[@class=\"wikitable sortable jquery-tablesorter\"]/tbody/tr/td[3]')\n"
     ]
    }
   ],
   "source": [
    "titles_artist=driver.find_elements_by_xpath('//table[@class=\"wikitable sortable jquery-tablesorter\"]/tbody/tr/td[3]')"
   ]
  },
  {
   "cell_type": "code",
   "execution_count": 470,
   "metadata": {},
   "outputs": [
    {
     "name": "stderr",
     "output_type": "stream",
     "text": [
      "<ipython-input-470-8e3233e60edc>:1: DeprecationWarning: find_elements_by_* commands are deprecated. Please use find_elements() instead\n",
      "  titles_views=driver.find_elements_by_xpath('//table[@class=\"wikitable sortable jquery-tablesorter\"]/tbody/tr/td[4]')\n"
     ]
    }
   ],
   "source": [
    "titles_views=driver.find_elements_by_xpath('//table[@class=\"wikitable sortable jquery-tablesorter\"]/tbody/tr/td[4]')"
   ]
  },
  {
   "cell_type": "code",
   "execution_count": 471,
   "metadata": {},
   "outputs": [
    {
     "name": "stderr",
     "output_type": "stream",
     "text": [
      "<ipython-input-471-8b71d4e17b5a>:1: DeprecationWarning: find_elements_by_* commands are deprecated. Please use find_elements() instead\n",
      "  titles_date=driver.find_elements_by_xpath('//table[@class=\"wikitable sortable jquery-tablesorter\"]/tbody/tr/td[5]')\n"
     ]
    }
   ],
   "source": [
    "titles_date=driver.find_elements_by_xpath('//table[@class=\"wikitable sortable jquery-tablesorter\"]/tbody/tr/td[5]')"
   ]
  },
  {
   "cell_type": "code",
   "execution_count": 472,
   "metadata": {},
   "outputs": [
    {
     "data": {
      "text/plain": [
       "49"
      ]
     },
     "execution_count": 472,
     "metadata": {},
     "output_type": "execute_result"
    }
   ],
   "source": [
    "len(titles_views)"
   ]
  },
  {
   "cell_type": "code",
   "execution_count": 473,
   "metadata": {},
   "outputs": [
    {
     "data": {
      "text/plain": [
       "49"
      ]
     },
     "execution_count": 473,
     "metadata": {},
     "output_type": "execute_result"
    }
   ],
   "source": [
    "len(titles_artist)"
   ]
  },
  {
   "cell_type": "code",
   "execution_count": 474,
   "metadata": {},
   "outputs": [
    {
     "data": {
      "text/plain": [
       "49"
      ]
     },
     "execution_count": 474,
     "metadata": {},
     "output_type": "execute_result"
    }
   ],
   "source": [
    "len(titles_date)"
   ]
  },
  {
   "cell_type": "code",
   "execution_count": 475,
   "metadata": {},
   "outputs": [],
   "source": [
    "for i in titles_rank:\n",
    "    rnk=i.text\n",
    "    rank.append(rnk)"
   ]
  },
  {
   "cell_type": "code",
   "execution_count": 476,
   "metadata": {},
   "outputs": [],
   "source": [
    "for i in titles_name:\n",
    "    nam=i.text\n",
    "    Name.append(nam)"
   ]
  },
  {
   "cell_type": "code",
   "execution_count": 477,
   "metadata": {},
   "outputs": [],
   "source": [
    "for i in titles_views:\n",
    "    vie=i.text\n",
    "    views.append(vie)"
   ]
  },
  {
   "cell_type": "code",
   "execution_count": 478,
   "metadata": {},
   "outputs": [],
   "source": [
    "for i in titles_artist:\n",
    "    art=i.text\n",
    "    Artist.append(art)"
   ]
  },
  {
   "cell_type": "code",
   "execution_count": 479,
   "metadata": {},
   "outputs": [],
   "source": [
    "for i in titles_date:\n",
    "    dat=i.text\n",
    "    upload_date.append(dat)"
   ]
  },
  {
   "cell_type": "code",
   "execution_count": 480,
   "metadata": {},
   "outputs": [],
   "source": [
    "Youtube_top=pd.DataFrame({})"
   ]
  },
  {
   "cell_type": "code",
   "execution_count": 481,
   "metadata": {},
   "outputs": [],
   "source": [
    "Youtube_top['Rank']=rank[0:30]"
   ]
  },
  {
   "cell_type": "code",
   "execution_count": 482,
   "metadata": {},
   "outputs": [],
   "source": [
    "Youtube_top['Name']=Name[0:30]"
   ]
  },
  {
   "cell_type": "code",
   "execution_count": 483,
   "metadata": {},
   "outputs": [],
   "source": [
    "Youtube_top['Artist']=Artist[0:30]"
   ]
  },
  {
   "cell_type": "code",
   "execution_count": 484,
   "metadata": {},
   "outputs": [],
   "source": [
    "Youtube_top['Views']=views[0:30]"
   ]
  },
  {
   "cell_type": "code",
   "execution_count": 485,
   "metadata": {},
   "outputs": [],
   "source": [
    "Youtube_top['Upload Date']=upload_date[0:30]"
   ]
  },
  {
   "cell_type": "code",
   "execution_count": 531,
   "metadata": {},
   "outputs": [
    {
     "data": {
      "text/html": [
       "<div>\n",
       "<style scoped>\n",
       "    .dataframe tbody tr th:only-of-type {\n",
       "        vertical-align: middle;\n",
       "    }\n",
       "\n",
       "    .dataframe tbody tr th {\n",
       "        vertical-align: top;\n",
       "    }\n",
       "\n",
       "    .dataframe thead th {\n",
       "        text-align: right;\n",
       "    }\n",
       "</style>\n",
       "<table border=\"1\" class=\"dataframe\">\n",
       "  <thead>\n",
       "    <tr style=\"text-align: right;\">\n",
       "      <th></th>\n",
       "      <th>Rank</th>\n",
       "      <th>Name</th>\n",
       "      <th>Artist</th>\n",
       "      <th>Views</th>\n",
       "      <th>Upload Date</th>\n",
       "    </tr>\n",
       "  </thead>\n",
       "  <tbody>\n",
       "    <tr>\n",
       "      <th>0</th>\n",
       "      <td>1.</td>\n",
       "      <td>\"Baby Shark Dance\"[23]</td>\n",
       "      <td>Pinkfong Baby Shark - Kids' Songs &amp; Stories</td>\n",
       "      <td>9.65</td>\n",
       "      <td>June 17, 2016</td>\n",
       "    </tr>\n",
       "    <tr>\n",
       "      <th>1</th>\n",
       "      <td>2.</td>\n",
       "      <td>\"Despacito\"[25]</td>\n",
       "      <td>Luis Fonsi</td>\n",
       "      <td>7.62</td>\n",
       "      <td>January 12, 2017</td>\n",
       "    </tr>\n",
       "    <tr>\n",
       "      <th>2</th>\n",
       "      <td>3.</td>\n",
       "      <td>\"Johny Johny Yes Papa\"[26]</td>\n",
       "      <td>LooLoo Kids</td>\n",
       "      <td>5.89</td>\n",
       "      <td>October 8, 2016</td>\n",
       "    </tr>\n",
       "    <tr>\n",
       "      <th>3</th>\n",
       "      <td>4.</td>\n",
       "      <td>\"Shape of You\"[27]</td>\n",
       "      <td>Ed Sheeran</td>\n",
       "      <td>5.52</td>\n",
       "      <td>January 30, 2017</td>\n",
       "    </tr>\n",
       "    <tr>\n",
       "      <th>4</th>\n",
       "      <td>5.</td>\n",
       "      <td>\"See You Again\"[28]</td>\n",
       "      <td>Wiz Khalifa</td>\n",
       "      <td>5.32</td>\n",
       "      <td>April 6, 2015</td>\n",
       "    </tr>\n",
       "    <tr>\n",
       "      <th>5</th>\n",
       "      <td>6.</td>\n",
       "      <td>\"Bath Song\"[31]</td>\n",
       "      <td>Cocomelon – Nursery Rhymes</td>\n",
       "      <td>4.63</td>\n",
       "      <td>May 2, 2018</td>\n",
       "    </tr>\n",
       "    <tr>\n",
       "      <th>6</th>\n",
       "      <td>7.</td>\n",
       "      <td>\"Learning Colors – Colorful Eggs on a Farm\"[32]</td>\n",
       "      <td>Miroshka TV</td>\n",
       "      <td>4.53</td>\n",
       "      <td>February 27, 2018</td>\n",
       "    </tr>\n",
       "    <tr>\n",
       "      <th>7</th>\n",
       "      <td>8.</td>\n",
       "      <td>\"Masha and the Bear – Recipe for Disaster\"[33]</td>\n",
       "      <td>Get Movies</td>\n",
       "      <td>4.47</td>\n",
       "      <td>January 31, 2012</td>\n",
       "    </tr>\n",
       "    <tr>\n",
       "      <th>8</th>\n",
       "      <td>9.</td>\n",
       "      <td>\"Uptown Funk\"[34]</td>\n",
       "      <td>Mark Ronson</td>\n",
       "      <td>4.36</td>\n",
       "      <td>November 19, 2014</td>\n",
       "    </tr>\n",
       "    <tr>\n",
       "      <th>9</th>\n",
       "      <td>10.</td>\n",
       "      <td>\"Phonics Song with Two Words\"[35]</td>\n",
       "      <td>ChuChu TV</td>\n",
       "      <td>4.29</td>\n",
       "      <td>March 6, 2014</td>\n",
       "    </tr>\n",
       "    <tr>\n",
       "      <th>10</th>\n",
       "      <td>11.</td>\n",
       "      <td>\"Gangnam Style\"[36]</td>\n",
       "      <td>Psy</td>\n",
       "      <td>4.25</td>\n",
       "      <td>July 15, 2012</td>\n",
       "    </tr>\n",
       "    <tr>\n",
       "      <th>11</th>\n",
       "      <td>12.</td>\n",
       "      <td>\"Dame Tu Cosita\"[38]</td>\n",
       "      <td>El Chombo</td>\n",
       "      <td>3.70</td>\n",
       "      <td>April 5, 2018</td>\n",
       "    </tr>\n",
       "    <tr>\n",
       "      <th>12</th>\n",
       "      <td>13.</td>\n",
       "      <td>\"Sugar\"[39]</td>\n",
       "      <td>Maroon 5</td>\n",
       "      <td>3.59</td>\n",
       "      <td>January 14, 2015</td>\n",
       "    </tr>\n",
       "    <tr>\n",
       "      <th>13</th>\n",
       "      <td>14.</td>\n",
       "      <td>\"Sorry\"[40]</td>\n",
       "      <td>Justin Bieber</td>\n",
       "      <td>3.48</td>\n",
       "      <td>October 22, 2015</td>\n",
       "    </tr>\n",
       "    <tr>\n",
       "      <th>14</th>\n",
       "      <td>15.</td>\n",
       "      <td>\"Roar\"[41]</td>\n",
       "      <td>Katy Perry</td>\n",
       "      <td>3.47</td>\n",
       "      <td>September 5, 2013</td>\n",
       "    </tr>\n",
       "    <tr>\n",
       "      <th>15</th>\n",
       "      <td>16.</td>\n",
       "      <td>\"Counting Stars\"[42]</td>\n",
       "      <td>OneRepublic</td>\n",
       "      <td>3.44</td>\n",
       "      <td>May 31, 2013</td>\n",
       "    </tr>\n",
       "    <tr>\n",
       "      <th>16</th>\n",
       "      <td>17.</td>\n",
       "      <td>\"Thinking Out Loud\"[43]</td>\n",
       "      <td>Ed Sheeran</td>\n",
       "      <td>3.36</td>\n",
       "      <td>October 7, 2014</td>\n",
       "    </tr>\n",
       "    <tr>\n",
       "      <th>17</th>\n",
       "      <td>18.</td>\n",
       "      <td>\"Wheels on the Bus\"[44]</td>\n",
       "      <td>Cocomelon – Nursery Rhymes</td>\n",
       "      <td>3.35</td>\n",
       "      <td>May 24, 2018</td>\n",
       "    </tr>\n",
       "    <tr>\n",
       "      <th>18</th>\n",
       "      <td>19.</td>\n",
       "      <td>\"Faded\"[45]</td>\n",
       "      <td>Alan Walker</td>\n",
       "      <td>3.18</td>\n",
       "      <td>December 3, 2015</td>\n",
       "    </tr>\n",
       "    <tr>\n",
       "      <th>19</th>\n",
       "      <td>20.</td>\n",
       "      <td>\"Dark Horse\"[46]</td>\n",
       "      <td>Katy Perry</td>\n",
       "      <td>3.17</td>\n",
       "      <td>February 20, 2014</td>\n",
       "    </tr>\n",
       "    <tr>\n",
       "      <th>20</th>\n",
       "      <td>21.</td>\n",
       "      <td>\"Girls Like You\"[47]</td>\n",
       "      <td>Maroon 5</td>\n",
       "      <td>3.17</td>\n",
       "      <td>May 31, 2018</td>\n",
       "    </tr>\n",
       "    <tr>\n",
       "      <th>21</th>\n",
       "      <td>22.</td>\n",
       "      <td>\"Bailando\"[48]</td>\n",
       "      <td>Enrique Iglesias</td>\n",
       "      <td>3.12</td>\n",
       "      <td>April 11, 2014</td>\n",
       "    </tr>\n",
       "    <tr>\n",
       "      <th>22</th>\n",
       "      <td>23.</td>\n",
       "      <td>\"Lean On\"[49]</td>\n",
       "      <td>Major Lazer</td>\n",
       "      <td>3.12</td>\n",
       "      <td>March 22, 2015</td>\n",
       "    </tr>\n",
       "    <tr>\n",
       "      <th>23</th>\n",
       "      <td>24.</td>\n",
       "      <td>\"Shake It Off\"[50]</td>\n",
       "      <td>Taylor Swift</td>\n",
       "      <td>3.11</td>\n",
       "      <td>August 18, 2014</td>\n",
       "    </tr>\n",
       "    <tr>\n",
       "      <th>24</th>\n",
       "      <td>25.</td>\n",
       "      <td>\"Let Her Go\"[51]</td>\n",
       "      <td>Passenger</td>\n",
       "      <td>3.11</td>\n",
       "      <td>July 25, 2012</td>\n",
       "    </tr>\n",
       "    <tr>\n",
       "      <th>25</th>\n",
       "      <td>26.</td>\n",
       "      <td>\"Axel F\"[52]</td>\n",
       "      <td>Crazy Frog</td>\n",
       "      <td>3.09</td>\n",
       "      <td>June 16, 2009</td>\n",
       "    </tr>\n",
       "    <tr>\n",
       "      <th>26</th>\n",
       "      <td>27.</td>\n",
       "      <td>\"Perfect\"[53]</td>\n",
       "      <td>Ed Sheeran</td>\n",
       "      <td>3.01</td>\n",
       "      <td>November 9, 2017</td>\n",
       "    </tr>\n",
       "    <tr>\n",
       "      <th>27</th>\n",
       "      <td>28.</td>\n",
       "      <td>\"Mi Gente\"[54]</td>\n",
       "      <td>J Balvin</td>\n",
       "      <td>3.00</td>\n",
       "      <td>June 29, 2017</td>\n",
       "    </tr>\n",
       "    <tr>\n",
       "      <th>28</th>\n",
       "      <td>29.</td>\n",
       "      <td>\"Waka Waka (This Time for Africa)\"[55]</td>\n",
       "      <td>Shakira</td>\n",
       "      <td>2.99</td>\n",
       "      <td>June 4, 2010</td>\n",
       "    </tr>\n",
       "    <tr>\n",
       "      <th>29</th>\n",
       "      <td>30.</td>\n",
       "      <td>\"Hello\"[56]</td>\n",
       "      <td>Adele</td>\n",
       "      <td>2.91</td>\n",
       "      <td>October 22, 2015</td>\n",
       "    </tr>\n",
       "  </tbody>\n",
       "</table>\n",
       "</div>"
      ],
      "text/plain": [
       "   Rank                                             Name  \\\n",
       "0    1.                           \"Baby Shark Dance\"[23]   \n",
       "1    2.                                  \"Despacito\"[25]   \n",
       "2    3.                       \"Johny Johny Yes Papa\"[26]   \n",
       "3    4.                               \"Shape of You\"[27]   \n",
       "4    5.                              \"See You Again\"[28]   \n",
       "5    6.                                  \"Bath Song\"[31]   \n",
       "6    7.  \"Learning Colors – Colorful Eggs on a Farm\"[32]   \n",
       "7    8.   \"Masha and the Bear – Recipe for Disaster\"[33]   \n",
       "8    9.                                \"Uptown Funk\"[34]   \n",
       "9   10.                \"Phonics Song with Two Words\"[35]   \n",
       "10  11.                              \"Gangnam Style\"[36]   \n",
       "11  12.                             \"Dame Tu Cosita\"[38]   \n",
       "12  13.                                      \"Sugar\"[39]   \n",
       "13  14.                                      \"Sorry\"[40]   \n",
       "14  15.                                       \"Roar\"[41]   \n",
       "15  16.                             \"Counting Stars\"[42]   \n",
       "16  17.                          \"Thinking Out Loud\"[43]   \n",
       "17  18.                          \"Wheels on the Bus\"[44]   \n",
       "18  19.                                      \"Faded\"[45]   \n",
       "19  20.                                 \"Dark Horse\"[46]   \n",
       "20  21.                             \"Girls Like You\"[47]   \n",
       "21  22.                                   \"Bailando\"[48]   \n",
       "22  23.                                    \"Lean On\"[49]   \n",
       "23  24.                               \"Shake It Off\"[50]   \n",
       "24  25.                                 \"Let Her Go\"[51]   \n",
       "25  26.                                     \"Axel F\"[52]   \n",
       "26  27.                                    \"Perfect\"[53]   \n",
       "27  28.                                   \"Mi Gente\"[54]   \n",
       "28  29.           \"Waka Waka (This Time for Africa)\"[55]   \n",
       "29  30.                                      \"Hello\"[56]   \n",
       "\n",
       "                                         Artist Views        Upload Date  \n",
       "0   Pinkfong Baby Shark - Kids' Songs & Stories  9.65      June 17, 2016  \n",
       "1                                    Luis Fonsi  7.62   January 12, 2017  \n",
       "2                                   LooLoo Kids  5.89    October 8, 2016  \n",
       "3                                    Ed Sheeran  5.52   January 30, 2017  \n",
       "4                                   Wiz Khalifa  5.32      April 6, 2015  \n",
       "5                    Cocomelon – Nursery Rhymes  4.63        May 2, 2018  \n",
       "6                                   Miroshka TV  4.53  February 27, 2018  \n",
       "7                                    Get Movies  4.47   January 31, 2012  \n",
       "8                                   Mark Ronson  4.36  November 19, 2014  \n",
       "9                                     ChuChu TV  4.29      March 6, 2014  \n",
       "10                                          Psy  4.25      July 15, 2012  \n",
       "11                                    El Chombo  3.70      April 5, 2018  \n",
       "12                                     Maroon 5  3.59   January 14, 2015  \n",
       "13                                Justin Bieber  3.48   October 22, 2015  \n",
       "14                                   Katy Perry  3.47  September 5, 2013  \n",
       "15                                  OneRepublic  3.44       May 31, 2013  \n",
       "16                                   Ed Sheeran  3.36    October 7, 2014  \n",
       "17                   Cocomelon – Nursery Rhymes  3.35       May 24, 2018  \n",
       "18                                  Alan Walker  3.18   December 3, 2015  \n",
       "19                                   Katy Perry  3.17  February 20, 2014  \n",
       "20                                     Maroon 5  3.17       May 31, 2018  \n",
       "21                             Enrique Iglesias  3.12     April 11, 2014  \n",
       "22                                  Major Lazer  3.12     March 22, 2015  \n",
       "23                                 Taylor Swift  3.11    August 18, 2014  \n",
       "24                                    Passenger  3.11      July 25, 2012  \n",
       "25                                   Crazy Frog  3.09      June 16, 2009  \n",
       "26                                   Ed Sheeran  3.01   November 9, 2017  \n",
       "27                                     J Balvin  3.00      June 29, 2017  \n",
       "28                                      Shakira  2.99       June 4, 2010  \n",
       "29                                        Adele  2.91   October 22, 2015  "
      ]
     },
     "execution_count": 531,
     "metadata": {},
     "output_type": "execute_result"
    }
   ],
   "source": [
    "Youtube_top"
   ]
  },
  {
   "cell_type": "markdown",
   "metadata": {},
   "source": [
    "# Solution 2"
   ]
  },
  {
   "cell_type": "code",
   "execution_count": 627,
   "metadata": {},
   "outputs": [
    {
     "name": "stderr",
     "output_type": "stream",
     "text": [
      "<ipython-input-627-ec23c7972a0a>:1: DeprecationWarning: executable_path has been deprecated, please pass in a Service object\n",
      "  driver=webdriver.Chrome('chromedriver.exe')\n"
     ]
    }
   ],
   "source": [
    "driver=webdriver.Chrome('chromedriver.exe')"
   ]
  },
  {
   "cell_type": "code",
   "execution_count": 628,
   "metadata": {},
   "outputs": [],
   "source": [
    "driver.get('https://www.bcci.tv/')"
   ]
  },
  {
   "cell_type": "code",
   "execution_count": 629,
   "metadata": {},
   "outputs": [
    {
     "name": "stderr",
     "output_type": "stream",
     "text": [
      "<ipython-input-629-9a03ac2bb6d2>:1: DeprecationWarning: find_element_by_* commands are deprecated. Please use find_element() instead\n",
      "  search_btn=driver.find_element_by_xpath('/html/body/div[3]/div/div[2]/div[2]/nav/ul/li[1]/div[2]')\n"
     ]
    }
   ],
   "source": [
    "search_btn=driver.find_element_by_xpath('/html/body/div[3]/div/div[2]/div[2]/nav/ul/li[1]/div[2]')"
   ]
  },
  {
   "cell_type": "code",
   "execution_count": 630,
   "metadata": {},
   "outputs": [],
   "source": [
    "search_btn.click()"
   ]
  },
  {
   "cell_type": "code",
   "execution_count": 631,
   "metadata": {},
   "outputs": [
    {
     "name": "stderr",
     "output_type": "stream",
     "text": [
      "<ipython-input-631-7a973a428055>:1: DeprecationWarning: find_element_by_* commands are deprecated. Please use find_element() instead\n",
      "  int_btn=driver.find_element_by_xpath('/html/body/div[3]/div/div[2]/div[2]/nav/ul/li[1]/div[2]')\n"
     ]
    }
   ],
   "source": [
    "int_btn=driver.find_element_by_xpath('/html/body/div[3]/div/div[2]/div[2]/nav/ul/li[1]/div[2]')"
   ]
  },
  {
   "cell_type": "code",
   "execution_count": 632,
   "metadata": {},
   "outputs": [],
   "source": [
    "int_btn.click()"
   ]
  },
  {
   "cell_type": "code",
   "execution_count": 633,
   "metadata": {},
   "outputs": [
    {
     "name": "stderr",
     "output_type": "stream",
     "text": [
      "<ipython-input-633-3ebfeb125ac3>:1: DeprecationWarning: find_element_by_* commands are deprecated. Please use find_element() instead\n",
      "  fix_btn=driver.find_element_by_xpath('/html/body/div[3]/div/div[2]/div[2]/nav/ul/li[1]/div[2]/div/ul/li[1]/a')\n"
     ]
    }
   ],
   "source": [
    "fix_btn=driver.find_element_by_xpath('/html/body/div[3]/div/div[2]/div[2]/nav/ul/li[1]/div[2]/div/ul/li[1]/a')"
   ]
  },
  {
   "cell_type": "code",
   "execution_count": 634,
   "metadata": {},
   "outputs": [],
   "source": [
    "fix_btn.click()"
   ]
  },
  {
   "cell_type": "code",
   "execution_count": 635,
   "metadata": {},
   "outputs": [],
   "source": [
    "title=[]"
   ]
  },
  {
   "cell_type": "code",
   "execution_count": 636,
   "metadata": {},
   "outputs": [],
   "source": [
    "place=[]"
   ]
  },
  {
   "cell_type": "code",
   "execution_count": 637,
   "metadata": {},
   "outputs": [],
   "source": [
    "series=[]"
   ]
  },
  {
   "cell_type": "code",
   "execution_count": 638,
   "metadata": {},
   "outputs": [],
   "source": [
    "date=[]"
   ]
  },
  {
   "cell_type": "code",
   "execution_count": 639,
   "metadata": {},
   "outputs": [],
   "source": [
    "time=[]"
   ]
  },
  {
   "cell_type": "code",
   "execution_count": 641,
   "metadata": {},
   "outputs": [
    {
     "name": "stderr",
     "output_type": "stream",
     "text": [
      "<ipython-input-641-4d8af5739d31>:1: DeprecationWarning: find_elements_by_* commands are deprecated. Please use find_elements() instead\n",
      "  tag_title=driver.find_elements_by_xpath('//strong[@class=\"fixture__name fixture__name--with-margin\"]')\n"
     ]
    }
   ],
   "source": [
    "tag_title=driver.find_elements_by_xpath('//strong[@class=\"fixture__name fixture__name--with-margin\"]')"
   ]
  },
  {
   "cell_type": "code",
   "execution_count": 642,
   "metadata": {},
   "outputs": [],
   "source": [
    "for i in tag_title:\n",
    "    titl=i.text\n",
    "    title.append(titl)"
   ]
  },
  {
   "cell_type": "code",
   "execution_count": 643,
   "metadata": {},
   "outputs": [
    {
     "data": {
      "text/plain": [
       "['1st T20I',\n",
       " '2nd T20I',\n",
       " '3rd T20I',\n",
       " '1st Test',\n",
       " '2nd Test',\n",
       " '1st ODI',\n",
       " '2nd ODI',\n",
       " '3rd ODI',\n",
       " '1st T20I',\n",
       " '2nd T20I']"
      ]
     },
     "execution_count": 643,
     "metadata": {},
     "output_type": "execute_result"
    }
   ],
   "source": [
    "title"
   ]
  },
  {
   "cell_type": "code",
   "execution_count": 644,
   "metadata": {},
   "outputs": [
    {
     "name": "stderr",
     "output_type": "stream",
     "text": [
      "<ipython-input-644-6d9bd289b6f4>:1: DeprecationWarning: find_elements_by_* commands are deprecated. Please use find_elements() instead\n",
      "  tag_place=driver.find_elements_by_xpath('//p[@class=\"fixture__additional-info\"]/span')\n"
     ]
    }
   ],
   "source": [
    "tag_place=driver.find_elements_by_xpath('//p[@class=\"fixture__additional-info\"]/span')"
   ]
  },
  {
   "cell_type": "code",
   "execution_count": 645,
   "metadata": {},
   "outputs": [],
   "source": [
    "for i in tag_place:\n",
    "    plc=i.text\n",
    "    place.append(plc)"
   ]
  },
  {
   "cell_type": "code",
   "execution_count": 646,
   "metadata": {},
   "outputs": [
    {
     "data": {
      "text/plain": [
       "['Sawai Mansingh Stadium, Jaipur',\n",
       " 'JSCA International Stadium Complex, Ranchi',\n",
       " 'Eden Gardens, Kolkata',\n",
       " 'Green Park, Kanpur',\n",
       " 'Wankhede Stadium, Mumbai',\n",
       " 'Narendra Modi Stadium, Ahmedabad',\n",
       " 'Sawai Mansingh Stadium, Jaipur',\n",
       " 'Eden Gardens, Kolkata',\n",
       " 'Barabati Stadium, Cuttack',\n",
       " 'ACA-VDCA Stadium, Visakhapatnam']"
      ]
     },
     "execution_count": 646,
     "metadata": {},
     "output_type": "execute_result"
    }
   ],
   "source": [
    "place"
   ]
  },
  {
   "cell_type": "code",
   "execution_count": 647,
   "metadata": {},
   "outputs": [
    {
     "name": "stderr",
     "output_type": "stream",
     "text": [
      "<ipython-input-647-c0ed509b3699>:1: DeprecationWarning: find_elements_by_* commands are deprecated. Please use find_elements() instead\n",
      "  tag_series=driver.find_elements_by_xpath('//div[@class=\"fixture__format-strip\"]/span[1]')\n"
     ]
    }
   ],
   "source": [
    "tag_series=driver.find_elements_by_xpath('//div[@class=\"fixture__format-strip\"]/span[1]')"
   ]
  },
  {
   "cell_type": "code",
   "execution_count": 648,
   "metadata": {},
   "outputs": [],
   "source": [
    "for i in tag_series:\n",
    "    ser=i.text\n",
    "    series.append(ser)"
   ]
  },
  {
   "cell_type": "code",
   "execution_count": 649,
   "metadata": {},
   "outputs": [],
   "source": [
    "url=[]"
   ]
  },
  {
   "cell_type": "code",
   "execution_count": 654,
   "metadata": {},
   "outputs": [
    {
     "name": "stderr",
     "output_type": "stream",
     "text": [
      "<ipython-input-654-49e521ba7e74>:1: DeprecationWarning: find_elements_by_* commands are deprecated. Please use find_elements() instead\n",
      "  for i in driver.find_elements_by_xpath('//a[@class=\"js-match event-list__item event-list-item fixture  t-t20i fixture--long event-list-item--long\"]'):\n"
     ]
    }
   ],
   "source": [
    "for i in driver.find_elements_by_xpath('//a[@class=\"js-match event-list__item event-list-item fixture  t-t20i fixture--long event-list-item--long\"]'):\n",
    "    url.append(i.get_attribute(\"href\"))"
   ]
  },
  {
   "cell_type": "code",
   "execution_count": 655,
   "metadata": {},
   "outputs": [
    {
     "name": "stderr",
     "output_type": "stream",
     "text": [
      "<ipython-input-655-38c02375a45a>:1: DeprecationWarning: find_elements_by_* commands are deprecated. Please use find_elements() instead\n",
      "  for i in driver.find_elements_by_xpath('//a[@class=\"js-match event-list__item event-list-item fixture  t-test fixture--long event-list-item--long\"]'):\n"
     ]
    }
   ],
   "source": [
    "for i in driver.find_elements_by_xpath('//a[@class=\"js-match event-list__item event-list-item fixture  t-test fixture--long event-list-item--long\"]'):\n",
    "    url.append(i.get_attribute(\"href\"))"
   ]
  },
  {
   "cell_type": "code",
   "execution_count": 659,
   "metadata": {},
   "outputs": [
    {
     "name": "stderr",
     "output_type": "stream",
     "text": [
      "<ipython-input-659-f9f604455580>:1: DeprecationWarning: find_elements_by_* commands are deprecated. Please use find_elements() instead\n",
      "  for i in driver.find_elements_by_xpath('//a[@class=\"js-match event-list__item event-list-item fixture  t-odi fixture--long event-list-item--long\"]'):\n"
     ]
    }
   ],
   "source": [
    "for i in driver.find_elements_by_xpath('//a[@class=\"js-match event-list__item event-list-item fixture  t-odi fixture--long event-list-item--long\"]'):\n",
    "    url.append(i.get_attribute(\"href\"))"
   ]
  },
  {
   "cell_type": "code",
   "execution_count": 660,
   "metadata": {},
   "outputs": [
    {
     "name": "stderr",
     "output_type": "stream",
     "text": [
      "<ipython-input-660-f11a107624c2>:1: DeprecationWarning: find_elements_by_* commands are deprecated. Please use find_elements() instead\n",
      "  for i in driver.find_elements_by_xpath('a[@class=\"js-match event-list__item event-list-item fixture  t-t20i fixture--long event-list-item--long\"]'):\n"
     ]
    }
   ],
   "source": [
    "for i in driver.find_elements_by_xpath('a[@class=\"js-match event-list__item event-list-item fixture  t-t20i fixture--long event-list-item--long\"]'):\n",
    "    url.append(i.get_attribute(\"href\"))"
   ]
  },
  {
   "cell_type": "code",
   "execution_count": 664,
   "metadata": {},
   "outputs": [],
   "source": [
    "import time"
   ]
  },
  {
   "cell_type": "code",
   "execution_count": 665,
   "metadata": {},
   "outputs": [
    {
     "name": "stderr",
     "output_type": "stream",
     "text": [
      "<ipython-input-665-c4f2656f799b>:5: DeprecationWarning: find_element_by_* commands are deprecated. Please use find_element() instead\n",
      "  dtime=driver.find_element_by_xpath('//div[@class=\"mc-header-scorebox__outcome js-outcome\"]')\n"
     ]
    }
   ],
   "source": [
    "for i in url:\n",
    "    driver.get(i)\n",
    "    time.sleep(2)\n",
    "    try:\n",
    "        dtime=driver.find_element_by_xpath('//div[@class=\"mc-header-scorebox__outcome js-outcome\"]')\n",
    "        date.append(dtime.text.replace('/n','new line'))\n",
    "    except:\n",
    "        date.append('-')"
   ]
  },
  {
   "cell_type": "code",
   "execution_count": 666,
   "metadata": {},
   "outputs": [
    {
     "data": {
      "text/plain": [
       "24"
      ]
     },
     "execution_count": 666,
     "metadata": {},
     "output_type": "execute_result"
    }
   ],
   "source": [
    "len(date)"
   ]
  },
  {
   "cell_type": "code",
   "execution_count": 667,
   "metadata": {},
   "outputs": [
    {
     "data": {
      "text/plain": [
       "10"
      ]
     },
     "execution_count": 667,
     "metadata": {},
     "output_type": "execute_result"
    }
   ],
   "source": [
    "len(place)"
   ]
  },
  {
   "cell_type": "code",
   "execution_count": 672,
   "metadata": {},
   "outputs": [
    {
     "data": {
      "text/plain": [
       "10"
      ]
     },
     "execution_count": 672,
     "metadata": {},
     "output_type": "execute_result"
    }
   ],
   "source": [
    "len(series)"
   ]
  },
  {
   "cell_type": "code",
   "execution_count": 668,
   "metadata": {},
   "outputs": [
    {
     "data": {
      "text/plain": [
       "10"
      ]
     },
     "execution_count": 668,
     "metadata": {},
     "output_type": "execute_result"
    }
   ],
   "source": [
    "len(title)"
   ]
  },
  {
   "cell_type": "code",
   "execution_count": 669,
   "metadata": {},
   "outputs": [],
   "source": [
    "International_Matches=pd.DataFrame({})"
   ]
  },
  {
   "cell_type": "code",
   "execution_count": 673,
   "metadata": {},
   "outputs": [],
   "source": [
    "International_Matches['Title']=title\n",
    "International_Matches['Place']=place\n",
    "International_Matches['Series']=series\n",
    "International_Matches['Schedule']=date[0:10]"
   ]
  },
  {
   "cell_type": "code",
   "execution_count": 674,
   "metadata": {},
   "outputs": [
    {
     "data": {
      "text/html": [
       "<div>\n",
       "<style scoped>\n",
       "    .dataframe tbody tr th:only-of-type {\n",
       "        vertical-align: middle;\n",
       "    }\n",
       "\n",
       "    .dataframe tbody tr th {\n",
       "        vertical-align: top;\n",
       "    }\n",
       "\n",
       "    .dataframe thead th {\n",
       "        text-align: right;\n",
       "    }\n",
       "</style>\n",
       "<table border=\"1\" class=\"dataframe\">\n",
       "  <thead>\n",
       "    <tr style=\"text-align: right;\">\n",
       "      <th></th>\n",
       "      <th>Title</th>\n",
       "      <th>Place</th>\n",
       "      <th>Series</th>\n",
       "      <th>Schedule</th>\n",
       "    </tr>\n",
       "  </thead>\n",
       "  <tbody>\n",
       "    <tr>\n",
       "      <th>0</th>\n",
       "      <td>1st T20I</td>\n",
       "      <td>Sawai Mansingh Stadium, Jaipur</td>\n",
       "      <td>T20I</td>\n",
       "      <td>Thursday 25 November</td>\n",
       "    </tr>\n",
       "    <tr>\n",
       "      <th>1</th>\n",
       "      <td>2nd T20I</td>\n",
       "      <td>JSCA International Stadium Complex, Ranchi</td>\n",
       "      <td>T20I</td>\n",
       "      <td>Friday 3 December</td>\n",
       "    </tr>\n",
       "    <tr>\n",
       "      <th>2</th>\n",
       "      <td>3rd T20I</td>\n",
       "      <td>Eden Gardens, Kolkata</td>\n",
       "      <td>T20I</td>\n",
       "      <td>Wednesday 17 November</td>\n",
       "    </tr>\n",
       "    <tr>\n",
       "      <th>3</th>\n",
       "      <td>1st Test</td>\n",
       "      <td>Green Park, Kanpur</td>\n",
       "      <td>TEST</td>\n",
       "      <td>Friday 19 November</td>\n",
       "    </tr>\n",
       "    <tr>\n",
       "      <th>4</th>\n",
       "      <td>2nd Test</td>\n",
       "      <td>Wankhede Stadium, Mumbai</td>\n",
       "      <td>TEST</td>\n",
       "      <td>Sunday 21 November</td>\n",
       "    </tr>\n",
       "    <tr>\n",
       "      <th>5</th>\n",
       "      <td>1st ODI</td>\n",
       "      <td>Narendra Modi Stadium, Ahmedabad</td>\n",
       "      <td>ODI</td>\n",
       "      <td>Tuesday 15 February</td>\n",
       "    </tr>\n",
       "    <tr>\n",
       "      <th>6</th>\n",
       "      <td>2nd ODI</td>\n",
       "      <td>Sawai Mansingh Stadium, Jaipur</td>\n",
       "      <td>ODI</td>\n",
       "      <td>Friday 18 February</td>\n",
       "    </tr>\n",
       "    <tr>\n",
       "      <th>7</th>\n",
       "      <td>3rd ODI</td>\n",
       "      <td>Eden Gardens, Kolkata</td>\n",
       "      <td>ODI</td>\n",
       "      <td>Thursday 25 November</td>\n",
       "    </tr>\n",
       "    <tr>\n",
       "      <th>8</th>\n",
       "      <td>1st T20I</td>\n",
       "      <td>Barabati Stadium, Cuttack</td>\n",
       "      <td>T20I</td>\n",
       "      <td>Friday 3 December</td>\n",
       "    </tr>\n",
       "    <tr>\n",
       "      <th>9</th>\n",
       "      <td>2nd T20I</td>\n",
       "      <td>ACA-VDCA Stadium, Visakhapatnam</td>\n",
       "      <td>T20I</td>\n",
       "      <td>Sunday 6 February</td>\n",
       "    </tr>\n",
       "  </tbody>\n",
       "</table>\n",
       "</div>"
      ],
      "text/plain": [
       "      Title                                       Place Series  \\\n",
       "0  1st T20I              Sawai Mansingh Stadium, Jaipur   T20I   \n",
       "1  2nd T20I  JSCA International Stadium Complex, Ranchi   T20I   \n",
       "2  3rd T20I                       Eden Gardens, Kolkata   T20I   \n",
       "3  1st Test                          Green Park, Kanpur   TEST   \n",
       "4  2nd Test                    Wankhede Stadium, Mumbai   TEST   \n",
       "5   1st ODI            Narendra Modi Stadium, Ahmedabad    ODI   \n",
       "6   2nd ODI              Sawai Mansingh Stadium, Jaipur    ODI   \n",
       "7   3rd ODI                       Eden Gardens, Kolkata    ODI   \n",
       "8  1st T20I                   Barabati Stadium, Cuttack   T20I   \n",
       "9  2nd T20I             ACA-VDCA Stadium, Visakhapatnam   T20I   \n",
       "\n",
       "                Schedule  \n",
       "0   Thursday 25 November  \n",
       "1      Friday 3 December  \n",
       "2  Wednesday 17 November  \n",
       "3     Friday 19 November  \n",
       "4     Sunday 21 November  \n",
       "5    Tuesday 15 February  \n",
       "6     Friday 18 February  \n",
       "7   Thursday 25 November  \n",
       "8      Friday 3 December  \n",
       "9      Sunday 6 February  "
      ]
     },
     "execution_count": 674,
     "metadata": {},
     "output_type": "execute_result"
    }
   ],
   "source": [
    "International_Matches"
   ]
  },
  {
   "cell_type": "markdown",
   "metadata": {},
   "source": [
    "# Solution3"
   ]
  },
  {
   "cell_type": "code",
   "execution_count": 593,
   "metadata": {},
   "outputs": [],
   "source": [
    "import selenium"
   ]
  },
  {
   "cell_type": "code",
   "execution_count": 594,
   "metadata": {},
   "outputs": [],
   "source": [
    "import pandas as pd"
   ]
  },
  {
   "cell_type": "code",
   "execution_count": 595,
   "metadata": {},
   "outputs": [],
   "source": [
    "from selenium import webdriver"
   ]
  },
  {
   "cell_type": "code",
   "execution_count": 596,
   "metadata": {},
   "outputs": [
    {
     "name": "stderr",
     "output_type": "stream",
     "text": [
      "<ipython-input-596-ec23c7972a0a>:1: DeprecationWarning: executable_path has been deprecated, please pass in a Service object\n",
      "  driver=webdriver.Chrome('chromedriver.exe')\n"
     ]
    }
   ],
   "source": [
    "driver=webdriver.Chrome('chromedriver.exe')"
   ]
  },
  {
   "cell_type": "code",
   "execution_count": 597,
   "metadata": {},
   "outputs": [],
   "source": [
    "driver.get('https://www.guru99.com/')"
   ]
  },
  {
   "cell_type": "code",
   "execution_count": 598,
   "metadata": {},
   "outputs": [
    {
     "name": "stderr",
     "output_type": "stream",
     "text": [
      "<ipython-input-598-47351880a13d>:1: DeprecationWarning: find_element_by_* commands are deprecated. Please use find_element() instead\n",
      "  search_btn=driver.find_element_by_xpath('/html/body/div[1]/div/div/div/main/div/article/div/div[1]/div[1]/div[2]/div/div[2]/span[8]/a/img')\n"
     ]
    }
   ],
   "source": [
    "search_btn=driver.find_element_by_xpath('/html/body/div[1]/div/div/div/main/div/article/div/div[1]/div[1]/div[2]/div/div[2]/span[8]/a/img')"
   ]
  },
  {
   "cell_type": "code",
   "execution_count": 599,
   "metadata": {},
   "outputs": [],
   "source": [
    "search_btn.click()"
   ]
  },
  {
   "cell_type": "code",
   "execution_count": 600,
   "metadata": {},
   "outputs": [
    {
     "name": "stderr",
     "output_type": "stream",
     "text": [
      "<ipython-input-600-4be9f96a09a6>:1: DeprecationWarning: find_element_by_* commands are deprecated. Please use find_element() instead\n",
      "  search_exc=driver.find_element_by_xpath('/html/body/div[1]/div/div/div/main/div/article/div/div/table[5]/tbody/tr[34]/td[1]/a/strong')\n"
     ]
    }
   ],
   "source": [
    "search_exc=driver.find_element_by_xpath('/html/body/div[1]/div/div/div/main/div/article/div/div/table[5]/tbody/tr[34]/td[1]/a/strong')"
   ]
  },
  {
   "cell_type": "code",
   "execution_count": 601,
   "metadata": {},
   "outputs": [],
   "source": [
    "search_exc.click()"
   ]
  },
  {
   "cell_type": "code",
   "execution_count": 602,
   "metadata": {},
   "outputs": [],
   "source": [
    "names=[]"
   ]
  },
  {
   "cell_type": "code",
   "execution_count": 603,
   "metadata": {},
   "outputs": [
    {
     "name": "stderr",
     "output_type": "stream",
     "text": [
      "<ipython-input-603-dc16e4078ad7>:1: DeprecationWarning: find_elements_by_* commands are deprecated. Please use find_elements() instead\n",
      "  search_name=driver.find_elements_by_xpath('//table[@class=\"table table-striped\"]/tbody/tr/td[1]')\n"
     ]
    }
   ],
   "source": [
    "search_name=driver.find_elements_by_xpath('//table[@class=\"table table-striped\"]/tbody/tr/td[1]')"
   ]
  },
  {
   "cell_type": "code",
   "execution_count": 604,
   "metadata": {},
   "outputs": [],
   "source": [
    "for i in search_name:\n",
    "    nams=i.text\n",
    "    name.append(nams)"
   ]
  },
  {
   "cell_type": "code",
   "execution_count": 605,
   "metadata": {},
   "outputs": [
    {
     "data": {
      "text/plain": [
       "[<selenium.webdriver.remote.webelement.WebElement (session=\"2380a64dbefbf89104e50b9fe9d14a7b\", element=\"2ca7de15-2033-4753-9c3f-f67f4d9e80a6\")>,\n",
       " <selenium.webdriver.remote.webelement.WebElement (session=\"2380a64dbefbf89104e50b9fe9d14a7b\", element=\"c168a3f7-4331-48e9-b107-9eea6d9bad32\")>,\n",
       " <selenium.webdriver.remote.webelement.WebElement (session=\"2380a64dbefbf89104e50b9fe9d14a7b\", element=\"2536cde4-cfc2-43c9-8b44-686e7017583e\")>,\n",
       " <selenium.webdriver.remote.webelement.WebElement (session=\"2380a64dbefbf89104e50b9fe9d14a7b\", element=\"076fcbe5-b793-4b56-a3be-06e9bd6b814c\")>,\n",
       " <selenium.webdriver.remote.webelement.WebElement (session=\"2380a64dbefbf89104e50b9fe9d14a7b\", element=\"8c0802d6-d991-4205-83e8-155b5b82870b\")>,\n",
       " <selenium.webdriver.remote.webelement.WebElement (session=\"2380a64dbefbf89104e50b9fe9d14a7b\", element=\"b4cde934-a3ca-4364-9204-6aa476e69a2b\")>,\n",
       " <selenium.webdriver.remote.webelement.WebElement (session=\"2380a64dbefbf89104e50b9fe9d14a7b\", element=\"3d6861d4-dde7-49b1-922f-1590d05b3f84\")>,\n",
       " <selenium.webdriver.remote.webelement.WebElement (session=\"2380a64dbefbf89104e50b9fe9d14a7b\", element=\"b2fbf25b-6cf6-4579-a38c-0734777b9202\")>,\n",
       " <selenium.webdriver.remote.webelement.WebElement (session=\"2380a64dbefbf89104e50b9fe9d14a7b\", element=\"12a40b6b-031f-44db-811a-c7193d61d906\")>,\n",
       " <selenium.webdriver.remote.webelement.WebElement (session=\"2380a64dbefbf89104e50b9fe9d14a7b\", element=\"dafede44-ae23-40f8-8e3e-d15390f1e882\")>,\n",
       " <selenium.webdriver.remote.webelement.WebElement (session=\"2380a64dbefbf89104e50b9fe9d14a7b\", element=\"d0c56567-b259-4908-8009-7abaed8bb20b\")>,\n",
       " <selenium.webdriver.remote.webelement.WebElement (session=\"2380a64dbefbf89104e50b9fe9d14a7b\", element=\"c73583e7-d533-40e2-bc2b-feba8ac911fe\")>,\n",
       " <selenium.webdriver.remote.webelement.WebElement (session=\"2380a64dbefbf89104e50b9fe9d14a7b\", element=\"23be4bc8-666f-439e-bd8f-2322eb6cc0ce\")>,\n",
       " <selenium.webdriver.remote.webelement.WebElement (session=\"2380a64dbefbf89104e50b9fe9d14a7b\", element=\"148dd986-41f8-47f4-aa96-36d8f5ae67e4\")>,\n",
       " <selenium.webdriver.remote.webelement.WebElement (session=\"2380a64dbefbf89104e50b9fe9d14a7b\", element=\"0f6ccd8f-fe2f-4bec-8327-69cf6a0cef1b\")>,\n",
       " <selenium.webdriver.remote.webelement.WebElement (session=\"2380a64dbefbf89104e50b9fe9d14a7b\", element=\"f272c71c-3b5a-41b5-9a35-1be5a6ff7679\")>,\n",
       " <selenium.webdriver.remote.webelement.WebElement (session=\"2380a64dbefbf89104e50b9fe9d14a7b\", element=\"6ab58491-bce8-45b3-9da4-19dcdfe772ed\")>,\n",
       " <selenium.webdriver.remote.webelement.WebElement (session=\"2380a64dbefbf89104e50b9fe9d14a7b\", element=\"6906f728-39dc-44ef-b293-a90acdc5f3fb\")>,\n",
       " <selenium.webdriver.remote.webelement.WebElement (session=\"2380a64dbefbf89104e50b9fe9d14a7b\", element=\"8bd727d9-1aa0-40bf-87d3-b9d179c3b3e5\")>,\n",
       " <selenium.webdriver.remote.webelement.WebElement (session=\"2380a64dbefbf89104e50b9fe9d14a7b\", element=\"37e3f242-93ec-49c4-b56b-36648f07b6b2\")>,\n",
       " <selenium.webdriver.remote.webelement.WebElement (session=\"2380a64dbefbf89104e50b9fe9d14a7b\", element=\"0dbfaf02-0d11-4def-8750-85e27108a0c5\")>,\n",
       " <selenium.webdriver.remote.webelement.WebElement (session=\"2380a64dbefbf89104e50b9fe9d14a7b\", element=\"a81ce70f-2c4d-4397-9428-bb6bac584156\")>,\n",
       " <selenium.webdriver.remote.webelement.WebElement (session=\"2380a64dbefbf89104e50b9fe9d14a7b\", element=\"cf78e413-93bc-4e13-81b0-e7d37f863683\")>,\n",
       " <selenium.webdriver.remote.webelement.WebElement (session=\"2380a64dbefbf89104e50b9fe9d14a7b\", element=\"0e998135-69b1-4d73-a8a7-ec66d16e5641\")>,\n",
       " <selenium.webdriver.remote.webelement.WebElement (session=\"2380a64dbefbf89104e50b9fe9d14a7b\", element=\"56719a0a-6176-44cd-827e-88ae14211dd8\")>,\n",
       " <selenium.webdriver.remote.webelement.WebElement (session=\"2380a64dbefbf89104e50b9fe9d14a7b\", element=\"58cf8081-7029-4849-8705-6f9006d95561\")>,\n",
       " <selenium.webdriver.remote.webelement.WebElement (session=\"2380a64dbefbf89104e50b9fe9d14a7b\", element=\"894f2616-2311-4476-9aeb-24d0925cf019\")>,\n",
       " <selenium.webdriver.remote.webelement.WebElement (session=\"2380a64dbefbf89104e50b9fe9d14a7b\", element=\"5782f220-60ff-4c3b-91a0-62313539cffc\")>,\n",
       " <selenium.webdriver.remote.webelement.WebElement (session=\"2380a64dbefbf89104e50b9fe9d14a7b\", element=\"bb28b38e-6c33-4882-be88-fed6c72a7b07\")>,\n",
       " <selenium.webdriver.remote.webelement.WebElement (session=\"2380a64dbefbf89104e50b9fe9d14a7b\", element=\"c07c9f52-b40b-421c-8f13-5d4561f9138b\")>,\n",
       " <selenium.webdriver.remote.webelement.WebElement (session=\"2380a64dbefbf89104e50b9fe9d14a7b\", element=\"675f89d0-e468-4f92-90c2-bc325a2573e3\")>,\n",
       " <selenium.webdriver.remote.webelement.WebElement (session=\"2380a64dbefbf89104e50b9fe9d14a7b\", element=\"f1bfe941-76b5-4b1d-9ed5-0bef43a01283\")>,\n",
       " <selenium.webdriver.remote.webelement.WebElement (session=\"2380a64dbefbf89104e50b9fe9d14a7b\", element=\"519d7af1-cd70-433d-9fcf-a630a622d10b\")>,\n",
       " <selenium.webdriver.remote.webelement.WebElement (session=\"2380a64dbefbf89104e50b9fe9d14a7b\", element=\"046f33a0-ac16-4520-bc73-d89482ad799d\")>,\n",
       " <selenium.webdriver.remote.webelement.WebElement (session=\"2380a64dbefbf89104e50b9fe9d14a7b\", element=\"e45df693-04b8-456f-94ee-0cd691d12c20\")>,\n",
       " <selenium.webdriver.remote.webelement.WebElement (session=\"2380a64dbefbf89104e50b9fe9d14a7b\", element=\"db3e5e95-1874-450d-867e-04a39a43dc93\")>,\n",
       " <selenium.webdriver.remote.webelement.WebElement (session=\"2380a64dbefbf89104e50b9fe9d14a7b\", element=\"a2bf1234-7e6c-4b00-a081-6dfd6af8afbc\")>,\n",
       " <selenium.webdriver.remote.webelement.WebElement (session=\"2380a64dbefbf89104e50b9fe9d14a7b\", element=\"81bc4ec7-2dc1-4717-ada2-ba4bc0eb4138\")>,\n",
       " <selenium.webdriver.remote.webelement.WebElement (session=\"2380a64dbefbf89104e50b9fe9d14a7b\", element=\"d3aca779-a3ff-4005-a43f-b52e95eadf5f\")>,\n",
       " <selenium.webdriver.remote.webelement.WebElement (session=\"2380a64dbefbf89104e50b9fe9d14a7b\", element=\"645f6f46-5814-4796-b2cf-9168b3b70ba3\")>,\n",
       " <selenium.webdriver.remote.webelement.WebElement (session=\"2380a64dbefbf89104e50b9fe9d14a7b\", element=\"e1c0b5ce-20d6-4e15-b5fa-d3adc88b62d5\")>]"
      ]
     },
     "execution_count": 605,
     "metadata": {},
     "output_type": "execute_result"
    }
   ],
   "source": [
    "search_name"
   ]
  },
  {
   "cell_type": "code",
   "execution_count": 606,
   "metadata": {},
   "outputs": [],
   "source": [
    "for i in search_name:\n",
    "    nams=i.text\n",
    "    names.append(nams)"
   ]
  },
  {
   "cell_type": "code",
   "execution_count": 607,
   "metadata": {},
   "outputs": [
    {
     "data": {
      "text/plain": [
       "['ElementNotVisibleException',\n",
       " 'ElementNotSelectableException',\n",
       " 'NoSuchElementException',\n",
       " 'NoSuchFrameException',\n",
       " 'NoAlertPresentException',\n",
       " 'NoSuchWindowException',\n",
       " 'StaleElementReferenceException',\n",
       " 'SessionNotFoundException',\n",
       " 'TimeoutException',\n",
       " 'WebDriverException',\n",
       " 'ConnectionClosedException',\n",
       " 'ElementClickInterceptedException',\n",
       " 'ElementNotInteractableException',\n",
       " 'ErrorInResponseException',\n",
       " 'ErrorHandler.UnknownServerException',\n",
       " 'ImeActivationFailedException',\n",
       " 'ImeNotAvailableException',\n",
       " 'InsecureCertificateException',\n",
       " 'InvalidArgumentException',\n",
       " 'InvalidCookieDomainException',\n",
       " 'InvalidCoordinatesException',\n",
       " 'InvalidElementStateExceptio',\n",
       " 'InvalidSessionIdException',\n",
       " 'InvalidSwitchToTargetException',\n",
       " 'JavascriptException',\n",
       " 'JsonException',\n",
       " 'NoSuchAttributeException',\n",
       " 'MoveTargetOutOfBoundsException',\n",
       " 'NoSuchContextException',\n",
       " 'NoSuchCookieException',\n",
       " 'NotFoundException',\n",
       " 'RemoteDriverServerException',\n",
       " 'ScreenshotException',\n",
       " 'SessionNotCreatedException',\n",
       " 'UnableToSetCookieException',\n",
       " 'UnexpectedTagNameException',\n",
       " 'UnhandledAlertException',\n",
       " 'UnexpectedAlertPresentException',\n",
       " 'UnknownMethodException',\n",
       " 'UnreachableBrowserException',\n",
       " 'UnsupportedCommandException']"
      ]
     },
     "execution_count": 607,
     "metadata": {},
     "output_type": "execute_result"
    }
   ],
   "source": [
    "names"
   ]
  },
  {
   "cell_type": "code",
   "execution_count": 609,
   "metadata": {},
   "outputs": [
    {
     "name": "stderr",
     "output_type": "stream",
     "text": [
      "<ipython-input-609-84c63dc9dd9b>:1: DeprecationWarning: find_elements_by_* commands are deprecated. Please use find_elements() instead\n",
      "  search_desc=driver.find_elements_by_xpath('//table[@class=\"table table-striped\"]/tbody/tr/td[2]')\n"
     ]
    }
   ],
   "source": [
    "search_desc=driver.find_elements_by_xpath('//table[@class=\"table table-striped\"]/tbody/tr/td[2]')"
   ]
  },
  {
   "cell_type": "code",
   "execution_count": 610,
   "metadata": {},
   "outputs": [],
   "source": [
    "descript=[]"
   ]
  },
  {
   "cell_type": "code",
   "execution_count": 611,
   "metadata": {},
   "outputs": [],
   "source": [
    "for i in search_desc:\n",
    "    desc=i.text\n",
    "    descript.append(desc)"
   ]
  },
  {
   "cell_type": "code",
   "execution_count": 612,
   "metadata": {},
   "outputs": [
    {
     "data": {
      "text/plain": [
       "['This type of Selenium exception occurs when an existing element in DOM has a feature set as hidden.',\n",
       " 'This Selenium exception occurs when an element is presented in the DOM, but you can be able to select. Therefore, it is not possible to interact.',\n",
       " 'This Exception occurs if an element could not be found.',\n",
       " 'This Exception occurs if the frame target to be switched to does not exist.',\n",
       " 'This Exception occurs when you switch to no presented alert.',\n",
       " 'This Exception occurs if the window target to be switch does not exist.',\n",
       " 'This Selenium exception occurs happens when the web element is detached from the current DOM.',\n",
       " 'The WebDriver is acting after you quit the browser.',\n",
       " 'Thrown when there is not enough time for a command to be completed. For Example, the element searched wasn’t found in the specified time.',\n",
       " 'This Exception takes place when the WebDriver is acting right after you close the browser.',\n",
       " 'This type of Exception takes place when there is a disconnection in the driver.',\n",
       " 'The command may not be completed as the element receiving the events is concealing the element which was requested clicked.',\n",
       " 'This Selenium exception is thrown when any element is presented in the DOM. However, it is impossible to interact with such an element.',\n",
       " 'This happens while interacting with the Firefox extension or the remote driver server.',\n",
       " 'Exception is used as a placeholder in case if the server returns an error without a stack trace.',\n",
       " 'This expectation will occur when IME engine activation has failed.',\n",
       " 'It takes place when IME support is unavailable.',\n",
       " 'Navigation made the user agent to hit a certificate warning. This can cause by an invalid or expired TLS certificate.',\n",
       " 'It occurs when an argument does not belong to the expected type.',\n",
       " 'This happens when you try to add a cookie under a different domain instead of current URL.',\n",
       " 'This type of Exception matches an interacting operation that is not valid.',\n",
       " 'It occurs when command can’t be finished when the element is invalid.',\n",
       " 'This Exception took place when the given session ID is not included in the list of active sessions. It means the session does not exist or is inactive either.',\n",
       " 'This occurs when the frame or window target to be switched does not exist.',\n",
       " 'This issue occurs while executing JavaScript given by the user.',\n",
       " 'It occurs when you afford to get the session when the session is not created.',\n",
       " 'This kind of Exception occurs when the attribute of an element could not be found.',\n",
       " 'It takes place if the target provided to the ActionChains move() methodology is not valid. For Example, out of the document.',\n",
       " 'ContextAware does mobile device testing.',\n",
       " 'This Exception occurs when no cookie matching with the given pathname found for all the associated cookies of the currently browsing document.',\n",
       " 'This Exception is a subclass of WebDriverException. This will occur when an element on the DOM does not exist.',\n",
       " 'This Selenium exception is thrown when the server is not responding because of the problem that the capabilities described are not proper.',\n",
       " 'It is not possible to capture a screen.',\n",
       " 'It happens when a new session could not be successfully created.',\n",
       " 'This occurs if a driver is unable to set a cookie.',\n",
       " 'Happens if a support class did not get a web element as expected.',\n",
       " 'This expectation occurs when there is an alert, but WebDriver is not able to perform Alert operation.',\n",
       " 'It occurs when there is the appearance of an unexpected alert.',\n",
       " 'This Exception happens when the requested command matches with a known URL but and not matching with a methodology for a specific URL.',\n",
       " 'This Exception occurs only when the browser is not able to be opened or crashed because of some reason.',\n",
       " 'This occurs when remote WebDriver does n’t send valid commands as expected.']"
      ]
     },
     "execution_count": 612,
     "metadata": {},
     "output_type": "execute_result"
    }
   ],
   "source": [
    "descript"
   ]
  },
  {
   "cell_type": "code",
   "execution_count": 613,
   "metadata": {},
   "outputs": [],
   "source": [
    "Exception_Handling=pd.DataFrame({})"
   ]
  },
  {
   "cell_type": "code",
   "execution_count": 614,
   "metadata": {},
   "outputs": [],
   "source": [
    "Exception_Handling['Exception Name']=names"
   ]
  },
  {
   "cell_type": "code",
   "execution_count": 615,
   "metadata": {},
   "outputs": [],
   "source": [
    "Exception_Handling['Description']=descript"
   ]
  },
  {
   "cell_type": "code",
   "execution_count": 616,
   "metadata": {},
   "outputs": [
    {
     "data": {
      "text/html": [
       "<div>\n",
       "<style scoped>\n",
       "    .dataframe tbody tr th:only-of-type {\n",
       "        vertical-align: middle;\n",
       "    }\n",
       "\n",
       "    .dataframe tbody tr th {\n",
       "        vertical-align: top;\n",
       "    }\n",
       "\n",
       "    .dataframe thead th {\n",
       "        text-align: right;\n",
       "    }\n",
       "</style>\n",
       "<table border=\"1\" class=\"dataframe\">\n",
       "  <thead>\n",
       "    <tr style=\"text-align: right;\">\n",
       "      <th></th>\n",
       "      <th>Exception Name</th>\n",
       "      <th>Description</th>\n",
       "    </tr>\n",
       "  </thead>\n",
       "  <tbody>\n",
       "    <tr>\n",
       "      <th>0</th>\n",
       "      <td>ElementNotVisibleException</td>\n",
       "      <td>This type of Selenium exception occurs when an...</td>\n",
       "    </tr>\n",
       "    <tr>\n",
       "      <th>1</th>\n",
       "      <td>ElementNotSelectableException</td>\n",
       "      <td>This Selenium exception occurs when an element...</td>\n",
       "    </tr>\n",
       "    <tr>\n",
       "      <th>2</th>\n",
       "      <td>NoSuchElementException</td>\n",
       "      <td>This Exception occurs if an element could not ...</td>\n",
       "    </tr>\n",
       "    <tr>\n",
       "      <th>3</th>\n",
       "      <td>NoSuchFrameException</td>\n",
       "      <td>This Exception occurs if the frame target to b...</td>\n",
       "    </tr>\n",
       "    <tr>\n",
       "      <th>4</th>\n",
       "      <td>NoAlertPresentException</td>\n",
       "      <td>This Exception occurs when you switch to no pr...</td>\n",
       "    </tr>\n",
       "    <tr>\n",
       "      <th>5</th>\n",
       "      <td>NoSuchWindowException</td>\n",
       "      <td>This Exception occurs if the window target to ...</td>\n",
       "    </tr>\n",
       "    <tr>\n",
       "      <th>6</th>\n",
       "      <td>StaleElementReferenceException</td>\n",
       "      <td>This Selenium exception occurs happens when th...</td>\n",
       "    </tr>\n",
       "    <tr>\n",
       "      <th>7</th>\n",
       "      <td>SessionNotFoundException</td>\n",
       "      <td>The WebDriver is acting after you quit the bro...</td>\n",
       "    </tr>\n",
       "    <tr>\n",
       "      <th>8</th>\n",
       "      <td>TimeoutException</td>\n",
       "      <td>Thrown when there is not enough time for a com...</td>\n",
       "    </tr>\n",
       "    <tr>\n",
       "      <th>9</th>\n",
       "      <td>WebDriverException</td>\n",
       "      <td>This Exception takes place when the WebDriver ...</td>\n",
       "    </tr>\n",
       "    <tr>\n",
       "      <th>10</th>\n",
       "      <td>ConnectionClosedException</td>\n",
       "      <td>This type of Exception takes place when there ...</td>\n",
       "    </tr>\n",
       "    <tr>\n",
       "      <th>11</th>\n",
       "      <td>ElementClickInterceptedException</td>\n",
       "      <td>The command may not be completed as the elemen...</td>\n",
       "    </tr>\n",
       "    <tr>\n",
       "      <th>12</th>\n",
       "      <td>ElementNotInteractableException</td>\n",
       "      <td>This Selenium exception is thrown when any ele...</td>\n",
       "    </tr>\n",
       "    <tr>\n",
       "      <th>13</th>\n",
       "      <td>ErrorInResponseException</td>\n",
       "      <td>This happens while interacting with the Firefo...</td>\n",
       "    </tr>\n",
       "    <tr>\n",
       "      <th>14</th>\n",
       "      <td>ErrorHandler.UnknownServerException</td>\n",
       "      <td>Exception is used as a placeholder in case if ...</td>\n",
       "    </tr>\n",
       "    <tr>\n",
       "      <th>15</th>\n",
       "      <td>ImeActivationFailedException</td>\n",
       "      <td>This expectation will occur when IME engine ac...</td>\n",
       "    </tr>\n",
       "    <tr>\n",
       "      <th>16</th>\n",
       "      <td>ImeNotAvailableException</td>\n",
       "      <td>It takes place when IME support is unavailable.</td>\n",
       "    </tr>\n",
       "    <tr>\n",
       "      <th>17</th>\n",
       "      <td>InsecureCertificateException</td>\n",
       "      <td>Navigation made the user agent to hit a certif...</td>\n",
       "    </tr>\n",
       "    <tr>\n",
       "      <th>18</th>\n",
       "      <td>InvalidArgumentException</td>\n",
       "      <td>It occurs when an argument does not belong to ...</td>\n",
       "    </tr>\n",
       "    <tr>\n",
       "      <th>19</th>\n",
       "      <td>InvalidCookieDomainException</td>\n",
       "      <td>This happens when you try to add a cookie unde...</td>\n",
       "    </tr>\n",
       "    <tr>\n",
       "      <th>20</th>\n",
       "      <td>InvalidCoordinatesException</td>\n",
       "      <td>This type of Exception matches an interacting ...</td>\n",
       "    </tr>\n",
       "    <tr>\n",
       "      <th>21</th>\n",
       "      <td>InvalidElementStateExceptio</td>\n",
       "      <td>It occurs when command can’t be finished when ...</td>\n",
       "    </tr>\n",
       "    <tr>\n",
       "      <th>22</th>\n",
       "      <td>InvalidSessionIdException</td>\n",
       "      <td>This Exception took place when the given sessi...</td>\n",
       "    </tr>\n",
       "    <tr>\n",
       "      <th>23</th>\n",
       "      <td>InvalidSwitchToTargetException</td>\n",
       "      <td>This occurs when the frame or window target to...</td>\n",
       "    </tr>\n",
       "    <tr>\n",
       "      <th>24</th>\n",
       "      <td>JavascriptException</td>\n",
       "      <td>This issue occurs while executing JavaScript g...</td>\n",
       "    </tr>\n",
       "    <tr>\n",
       "      <th>25</th>\n",
       "      <td>JsonException</td>\n",
       "      <td>It occurs when you afford to get the session w...</td>\n",
       "    </tr>\n",
       "    <tr>\n",
       "      <th>26</th>\n",
       "      <td>NoSuchAttributeException</td>\n",
       "      <td>This kind of Exception occurs when the attribu...</td>\n",
       "    </tr>\n",
       "    <tr>\n",
       "      <th>27</th>\n",
       "      <td>MoveTargetOutOfBoundsException</td>\n",
       "      <td>It takes place if the target provided to the A...</td>\n",
       "    </tr>\n",
       "    <tr>\n",
       "      <th>28</th>\n",
       "      <td>NoSuchContextException</td>\n",
       "      <td>ContextAware does mobile device testing.</td>\n",
       "    </tr>\n",
       "    <tr>\n",
       "      <th>29</th>\n",
       "      <td>NoSuchCookieException</td>\n",
       "      <td>This Exception occurs when no cookie matching ...</td>\n",
       "    </tr>\n",
       "    <tr>\n",
       "      <th>30</th>\n",
       "      <td>NotFoundException</td>\n",
       "      <td>This Exception is a subclass of WebDriverExcep...</td>\n",
       "    </tr>\n",
       "    <tr>\n",
       "      <th>31</th>\n",
       "      <td>RemoteDriverServerException</td>\n",
       "      <td>This Selenium exception is thrown when the ser...</td>\n",
       "    </tr>\n",
       "    <tr>\n",
       "      <th>32</th>\n",
       "      <td>ScreenshotException</td>\n",
       "      <td>It is not possible to capture a screen.</td>\n",
       "    </tr>\n",
       "    <tr>\n",
       "      <th>33</th>\n",
       "      <td>SessionNotCreatedException</td>\n",
       "      <td>It happens when a new session could not be suc...</td>\n",
       "    </tr>\n",
       "    <tr>\n",
       "      <th>34</th>\n",
       "      <td>UnableToSetCookieException</td>\n",
       "      <td>This occurs if a driver is unable to set a coo...</td>\n",
       "    </tr>\n",
       "    <tr>\n",
       "      <th>35</th>\n",
       "      <td>UnexpectedTagNameException</td>\n",
       "      <td>Happens if a support class did not get a web e...</td>\n",
       "    </tr>\n",
       "    <tr>\n",
       "      <th>36</th>\n",
       "      <td>UnhandledAlertException</td>\n",
       "      <td>This expectation occurs when there is an alert...</td>\n",
       "    </tr>\n",
       "    <tr>\n",
       "      <th>37</th>\n",
       "      <td>UnexpectedAlertPresentException</td>\n",
       "      <td>It occurs when there is the appearance of an u...</td>\n",
       "    </tr>\n",
       "    <tr>\n",
       "      <th>38</th>\n",
       "      <td>UnknownMethodException</td>\n",
       "      <td>This Exception happens when the requested comm...</td>\n",
       "    </tr>\n",
       "    <tr>\n",
       "      <th>39</th>\n",
       "      <td>UnreachableBrowserException</td>\n",
       "      <td>This Exception occurs only when the browser is...</td>\n",
       "    </tr>\n",
       "    <tr>\n",
       "      <th>40</th>\n",
       "      <td>UnsupportedCommandException</td>\n",
       "      <td>This occurs when remote WebDriver does n’t sen...</td>\n",
       "    </tr>\n",
       "  </tbody>\n",
       "</table>\n",
       "</div>"
      ],
      "text/plain": [
       "                         Exception Name  \\\n",
       "0            ElementNotVisibleException   \n",
       "1         ElementNotSelectableException   \n",
       "2                NoSuchElementException   \n",
       "3                  NoSuchFrameException   \n",
       "4               NoAlertPresentException   \n",
       "5                 NoSuchWindowException   \n",
       "6        StaleElementReferenceException   \n",
       "7              SessionNotFoundException   \n",
       "8                      TimeoutException   \n",
       "9                    WebDriverException   \n",
       "10            ConnectionClosedException   \n",
       "11     ElementClickInterceptedException   \n",
       "12      ElementNotInteractableException   \n",
       "13             ErrorInResponseException   \n",
       "14  ErrorHandler.UnknownServerException   \n",
       "15         ImeActivationFailedException   \n",
       "16             ImeNotAvailableException   \n",
       "17         InsecureCertificateException   \n",
       "18             InvalidArgumentException   \n",
       "19         InvalidCookieDomainException   \n",
       "20          InvalidCoordinatesException   \n",
       "21          InvalidElementStateExceptio   \n",
       "22            InvalidSessionIdException   \n",
       "23       InvalidSwitchToTargetException   \n",
       "24                  JavascriptException   \n",
       "25                        JsonException   \n",
       "26             NoSuchAttributeException   \n",
       "27       MoveTargetOutOfBoundsException   \n",
       "28               NoSuchContextException   \n",
       "29                NoSuchCookieException   \n",
       "30                    NotFoundException   \n",
       "31          RemoteDriverServerException   \n",
       "32                  ScreenshotException   \n",
       "33           SessionNotCreatedException   \n",
       "34           UnableToSetCookieException   \n",
       "35           UnexpectedTagNameException   \n",
       "36              UnhandledAlertException   \n",
       "37      UnexpectedAlertPresentException   \n",
       "38               UnknownMethodException   \n",
       "39          UnreachableBrowserException   \n",
       "40          UnsupportedCommandException   \n",
       "\n",
       "                                          Description  \n",
       "0   This type of Selenium exception occurs when an...  \n",
       "1   This Selenium exception occurs when an element...  \n",
       "2   This Exception occurs if an element could not ...  \n",
       "3   This Exception occurs if the frame target to b...  \n",
       "4   This Exception occurs when you switch to no pr...  \n",
       "5   This Exception occurs if the window target to ...  \n",
       "6   This Selenium exception occurs happens when th...  \n",
       "7   The WebDriver is acting after you quit the bro...  \n",
       "8   Thrown when there is not enough time for a com...  \n",
       "9   This Exception takes place when the WebDriver ...  \n",
       "10  This type of Exception takes place when there ...  \n",
       "11  The command may not be completed as the elemen...  \n",
       "12  This Selenium exception is thrown when any ele...  \n",
       "13  This happens while interacting with the Firefo...  \n",
       "14  Exception is used as a placeholder in case if ...  \n",
       "15  This expectation will occur when IME engine ac...  \n",
       "16    It takes place when IME support is unavailable.  \n",
       "17  Navigation made the user agent to hit a certif...  \n",
       "18  It occurs when an argument does not belong to ...  \n",
       "19  This happens when you try to add a cookie unde...  \n",
       "20  This type of Exception matches an interacting ...  \n",
       "21  It occurs when command can’t be finished when ...  \n",
       "22  This Exception took place when the given sessi...  \n",
       "23  This occurs when the frame or window target to...  \n",
       "24  This issue occurs while executing JavaScript g...  \n",
       "25  It occurs when you afford to get the session w...  \n",
       "26  This kind of Exception occurs when the attribu...  \n",
       "27  It takes place if the target provided to the A...  \n",
       "28           ContextAware does mobile device testing.  \n",
       "29  This Exception occurs when no cookie matching ...  \n",
       "30  This Exception is a subclass of WebDriverExcep...  \n",
       "31  This Selenium exception is thrown when the ser...  \n",
       "32            It is not possible to capture a screen.  \n",
       "33  It happens when a new session could not be suc...  \n",
       "34  This occurs if a driver is unable to set a coo...  \n",
       "35  Happens if a support class did not get a web e...  \n",
       "36  This expectation occurs when there is an alert...  \n",
       "37  It occurs when there is the appearance of an u...  \n",
       "38  This Exception happens when the requested comm...  \n",
       "39  This Exception occurs only when the browser is...  \n",
       "40  This occurs when remote WebDriver does n’t sen...  "
      ]
     },
     "execution_count": 616,
     "metadata": {},
     "output_type": "execute_result"
    }
   ],
   "source": [
    "Exception_Handling"
   ]
  },
  {
   "cell_type": "markdown",
   "metadata": {},
   "source": [
    "# Solution4 "
   ]
  },
  {
   "cell_type": "code",
   "execution_count": 710,
   "metadata": {},
   "outputs": [],
   "source": [
    "import selenium"
   ]
  },
  {
   "cell_type": "code",
   "execution_count": 711,
   "metadata": {},
   "outputs": [],
   "source": [
    "import pandas as pd"
   ]
  },
  {
   "cell_type": "code",
   "execution_count": 712,
   "metadata": {},
   "outputs": [],
   "source": [
    "import time"
   ]
  },
  {
   "cell_type": "code",
   "execution_count": 713,
   "metadata": {},
   "outputs": [],
   "source": [
    "from selenium import webdriver"
   ]
  },
  {
   "cell_type": "code",
   "execution_count": 714,
   "metadata": {},
   "outputs": [
    {
     "name": "stderr",
     "output_type": "stream",
     "text": [
      "<ipython-input-714-ec23c7972a0a>:1: DeprecationWarning: executable_path has been deprecated, please pass in a Service object\n",
      "  driver=webdriver.Chrome('chromedriver.exe')\n"
     ]
    }
   ],
   "source": [
    "driver=webdriver.Chrome('chromedriver.exe')"
   ]
  },
  {
   "cell_type": "code",
   "execution_count": 715,
   "metadata": {},
   "outputs": [],
   "source": [
    "driver.get('https://www.statisticstimes.com/')"
   ]
  },
  {
   "cell_type": "code",
   "execution_count": 716,
   "metadata": {},
   "outputs": [
    {
     "name": "stderr",
     "output_type": "stream",
     "text": [
      "<ipython-input-716-201542a7b575>:1: DeprecationWarning: find_element_by_* commands are deprecated. Please use find_element() instead\n",
      "  eco_btn=driver.find_element_by_xpath('//div[@class=\"dropdown\"][2]/button')\n"
     ]
    }
   ],
   "source": [
    "eco_btn=driver.find_element_by_xpath('//div[@class=\"dropdown\"][2]/button')"
   ]
  },
  {
   "cell_type": "code",
   "execution_count": 717,
   "metadata": {},
   "outputs": [],
   "source": [
    "eco_btn.click()"
   ]
  },
  {
   "cell_type": "code",
   "execution_count": 718,
   "metadata": {},
   "outputs": [
    {
     "name": "stderr",
     "output_type": "stream",
     "text": [
      "<ipython-input-718-2ead54fa55d2>:1: DeprecationWarning: find_element_by_* commands are deprecated. Please use find_element() instead\n",
      "  srch_btn=driver.find_element_by_xpath('//div[@class=\"dropdown-content\"]/a[3]')\n"
     ]
    }
   ],
   "source": [
    "srch_btn=driver.find_element_by_xpath('//div[@class=\"dropdown-content\"]/a[3]')"
   ]
  },
  {
   "cell_type": "code",
   "execution_count": 719,
   "metadata": {},
   "outputs": [],
   "source": [
    "srch_btn.click()"
   ]
  },
  {
   "cell_type": "code",
   "execution_count": 720,
   "metadata": {},
   "outputs": [],
   "source": [
    "time.sleep(5)"
   ]
  },
  {
   "cell_type": "code",
   "execution_count": 721,
   "metadata": {},
   "outputs": [
    {
     "name": "stderr",
     "output_type": "stream",
     "text": [
      "<ipython-input-721-fd92e00e2fa0>:1: DeprecationWarning: find_element_by_* commands are deprecated. Please use find_element() instead\n",
      "  gdp_btn=driver.find_element_by_xpath('//ul[@style=\"list-style-type:none;margin-left:20px;\"]/li/a[1]')\n"
     ]
    }
   ],
   "source": [
    "gdp_btn=driver.find_element_by_xpath('//ul[@style=\"list-style-type:none;margin-left:20px;\"]/li/a[1]')"
   ]
  },
  {
   "cell_type": "code",
   "execution_count": 722,
   "metadata": {},
   "outputs": [],
   "source": [
    "gdp_btn.click()"
   ]
  },
  {
   "cell_type": "code",
   "execution_count": 723,
   "metadata": {},
   "outputs": [],
   "source": [
    "ranks=[]"
   ]
  },
  {
   "cell_type": "code",
   "execution_count": 724,
   "metadata": {},
   "outputs": [
    {
     "name": "stderr",
     "output_type": "stream",
     "text": [
      "<ipython-input-724-a044d6664bce>:1: DeprecationWarning: find_elements_by_* commands are deprecated. Please use find_elements() instead\n",
      "  tag_ranks=driver.find_elements_by_xpath('//table[@id=\"table_id\"]/tbody/tr/td[1]')\n"
     ]
    }
   ],
   "source": [
    "tag_ranks=driver.find_elements_by_xpath('//table[@id=\"table_id\"]/tbody/tr/td[1]')"
   ]
  },
  {
   "cell_type": "code",
   "execution_count": 725,
   "metadata": {},
   "outputs": [],
   "source": [
    "for i in tag_ranks:\n",
    "    raks=i.text\n",
    "    ranks.append(raks)"
   ]
  },
  {
   "cell_type": "code",
   "execution_count": 726,
   "metadata": {},
   "outputs": [
    {
     "data": {
      "text/plain": [
       "['1',\n",
       " '2',\n",
       " '3',\n",
       " '4',\n",
       " '5',\n",
       " '6',\n",
       " '7',\n",
       " '8',\n",
       " '9',\n",
       " '10',\n",
       " '11',\n",
       " '12',\n",
       " '13',\n",
       " '14',\n",
       " '15',\n",
       " '16',\n",
       " '17',\n",
       " '18',\n",
       " '19',\n",
       " '20',\n",
       " '21',\n",
       " '22',\n",
       " '23',\n",
       " '24',\n",
       " '25',\n",
       " '26',\n",
       " '27',\n",
       " '28',\n",
       " '29',\n",
       " '30',\n",
       " '31',\n",
       " '32',\n",
       " '33']"
      ]
     },
     "execution_count": 726,
     "metadata": {},
     "output_type": "execute_result"
    }
   ],
   "source": [
    "ranks"
   ]
  },
  {
   "cell_type": "code",
   "execution_count": 727,
   "metadata": {},
   "outputs": [
    {
     "name": "stderr",
     "output_type": "stream",
     "text": [
      "<ipython-input-727-9200fd1e3c2c>:1: DeprecationWarning: find_elements_by_* commands are deprecated. Please use find_elements() instead\n",
      "  tag_state=driver.find_elements_by_xpath('//table[@id=\"table_id\"]/tbody/tr/td[2]')\n"
     ]
    }
   ],
   "source": [
    "tag_state=driver.find_elements_by_xpath('//table[@id=\"table_id\"]/tbody/tr/td[2]')"
   ]
  },
  {
   "cell_type": "code",
   "execution_count": 728,
   "metadata": {},
   "outputs": [],
   "source": [
    "state=[]"
   ]
  },
  {
   "cell_type": "code",
   "execution_count": 729,
   "metadata": {},
   "outputs": [],
   "source": [
    "for i in tag_state:\n",
    "    stt=i.text\n",
    "    state.append(stt)"
   ]
  },
  {
   "cell_type": "code",
   "execution_count": 730,
   "metadata": {},
   "outputs": [
    {
     "data": {
      "text/plain": [
       "['Maharashtra',\n",
       " 'Tamil Nadu',\n",
       " 'Uttar Pradesh',\n",
       " 'Gujarat',\n",
       " 'Karnataka',\n",
       " 'West Bengal',\n",
       " 'Rajasthan',\n",
       " 'Andhra Pradesh',\n",
       " 'Telangana',\n",
       " 'Madhya Pradesh',\n",
       " 'Kerala',\n",
       " 'Delhi',\n",
       " 'Haryana',\n",
       " 'Bihar',\n",
       " 'Punjab',\n",
       " 'Odisha',\n",
       " 'Assam',\n",
       " 'Chhattisgarh',\n",
       " 'Jharkhand',\n",
       " 'Uttarakhand',\n",
       " 'Jammu & Kashmir',\n",
       " 'Himachal Pradesh',\n",
       " 'Goa',\n",
       " 'Tripura',\n",
       " 'Chandigarh',\n",
       " 'Puducherry',\n",
       " 'Meghalaya',\n",
       " 'Sikkim',\n",
       " 'Manipur',\n",
       " 'Nagaland',\n",
       " 'Arunachal Pradesh',\n",
       " 'Mizoram',\n",
       " 'Andaman & Nicobar Islands']"
      ]
     },
     "execution_count": 730,
     "metadata": {},
     "output_type": "execute_result"
    }
   ],
   "source": [
    "state"
   ]
  },
  {
   "cell_type": "code",
   "execution_count": 731,
   "metadata": {},
   "outputs": [
    {
     "name": "stderr",
     "output_type": "stream",
     "text": [
      "<ipython-input-731-47c5baa2366a>:1: DeprecationWarning: find_elements_by_* commands are deprecated. Please use find_elements() instead\n",
      "  tag_gsdp2020=driver.find_elements_by_xpath('//table[@id=\"table_id\"]/tbody/tr/td[3]')\n"
     ]
    }
   ],
   "source": [
    "tag_gsdp2020=driver.find_elements_by_xpath('//table[@id=\"table_id\"]/tbody/tr/td[3]')"
   ]
  },
  {
   "cell_type": "code",
   "execution_count": 732,
   "metadata": {},
   "outputs": [],
   "source": [
    "gsdp_1920=[]"
   ]
  },
  {
   "cell_type": "code",
   "execution_count": 733,
   "metadata": {},
   "outputs": [],
   "source": [
    "for i in tag_gsdp2020:\n",
    "    gdp=i.text\n",
    "    gsdp_1920.append(gdp)"
   ]
  },
  {
   "cell_type": "code",
   "execution_count": 734,
   "metadata": {},
   "outputs": [
    {
     "data": {
      "text/plain": [
       "['-',\n",
       " '1,845,853',\n",
       " '1,687,818',\n",
       " '-',\n",
       " '1,631,977',\n",
       " '1,253,832',\n",
       " '1,020,989',\n",
       " '972,782',\n",
       " '969,604',\n",
       " '906,672',\n",
       " '-',\n",
       " '856,112',\n",
       " '831,610',\n",
       " '611,804',\n",
       " '574,760',\n",
       " '521,275',\n",
       " '-',\n",
       " '329,180',\n",
       " '328,598',\n",
       " '-',\n",
       " '-',\n",
       " '165,472',\n",
       " '80,449',\n",
       " '55,984',\n",
       " '-',\n",
       " '38,253',\n",
       " '36,572',\n",
       " '32,496',\n",
       " '31,790',\n",
       " '-',\n",
       " '-',\n",
       " '26,503',\n",
       " '-']"
      ]
     },
     "execution_count": 734,
     "metadata": {},
     "output_type": "execute_result"
    }
   ],
   "source": [
    "gsdp_1920"
   ]
  },
  {
   "cell_type": "code",
   "execution_count": 735,
   "metadata": {},
   "outputs": [
    {
     "name": "stderr",
     "output_type": "stream",
     "text": [
      "<ipython-input-735-a6982b2aaf77>:1: DeprecationWarning: find_elements_by_* commands are deprecated. Please use find_elements() instead\n",
      "  tag_gsdp1819=driver.find_elements_by_xpath('//table[@id=\"table_id\"]/tbody/tr/td[4]')\n"
     ]
    }
   ],
   "source": [
    "tag_gsdp1819=driver.find_elements_by_xpath('//table[@id=\"table_id\"]/tbody/tr/td[4]')"
   ]
  },
  {
   "cell_type": "code",
   "execution_count": 736,
   "metadata": {},
   "outputs": [],
   "source": [
    "gsdp_1819=[]"
   ]
  },
  {
   "cell_type": "code",
   "execution_count": 738,
   "metadata": {},
   "outputs": [],
   "source": [
    "for i in tag_gsdp1819:\n",
    "    gdpa=i.text\n",
    "    gsdp_1819.append(gdpa)"
   ]
  },
  {
   "cell_type": "code",
   "execution_count": 739,
   "metadata": {},
   "outputs": [
    {
     "data": {
      "text/plain": [
       "['2,632,792',\n",
       " '1,630,208',\n",
       " '1,584,764',\n",
       " '1,502,899',\n",
       " '1,493,127',\n",
       " '1,089,898',\n",
       " '942,586',\n",
       " '862,957',\n",
       " '861,031',\n",
       " '809,592',\n",
       " '781,653',\n",
       " '774,870',\n",
       " '734,163',\n",
       " '530,363',\n",
       " '526,376',\n",
       " '487,805',\n",
       " '315,881',\n",
       " '304,063',\n",
       " '297,204',\n",
       " '245,895',\n",
       " '155,956',\n",
       " '153,845',\n",
       " '73,170',\n",
       " '49,845',\n",
       " '42,114',\n",
       " '34,433',\n",
       " '33,481',\n",
       " '28,723',\n",
       " '27,870',\n",
       " '27,283',\n",
       " '24,603',\n",
       " '22,287',\n",
       " '-']"
      ]
     },
     "execution_count": 739,
     "metadata": {},
     "output_type": "execute_result"
    }
   ],
   "source": [
    "gsdp_1819"
   ]
  },
  {
   "cell_type": "code",
   "execution_count": 740,
   "metadata": {},
   "outputs": [],
   "source": [
    "share=[]"
   ]
  },
  {
   "cell_type": "code",
   "execution_count": 741,
   "metadata": {},
   "outputs": [
    {
     "name": "stderr",
     "output_type": "stream",
     "text": [
      "<ipython-input-741-ef9fce0aa6fd>:1: DeprecationWarning: find_elements_by_* commands are deprecated. Please use find_elements() instead\n",
      "  tag_share=driver.find_elements_by_xpath('//table[@id=\"table_id\"]/tbody/tr/td[5]')\n"
     ]
    }
   ],
   "source": [
    "tag_share=driver.find_elements_by_xpath('//table[@id=\"table_id\"]/tbody/tr/td[5]')"
   ]
  },
  {
   "cell_type": "code",
   "execution_count": 742,
   "metadata": {},
   "outputs": [],
   "source": [
    "for i in tag_share:\n",
    "    shr=i.text\n",
    "    share.append(shr)"
   ]
  },
  {
   "cell_type": "code",
   "execution_count": 743,
   "metadata": {},
   "outputs": [
    {
     "data": {
      "text/plain": [
       "['13.94%',\n",
       " '8.63%',\n",
       " '8.39%',\n",
       " '7.96%',\n",
       " '7.91%',\n",
       " '5.77%',\n",
       " '4.99%',\n",
       " '4.57%',\n",
       " '4.56%',\n",
       " '4.29%',\n",
       " '4.14%',\n",
       " '4.10%',\n",
       " '3.89%',\n",
       " '2.81%',\n",
       " '2.79%',\n",
       " '2.58%',\n",
       " '1.67%',\n",
       " '1.61%',\n",
       " '1.57%',\n",
       " '1.30%',\n",
       " '0.83%',\n",
       " '0.81%',\n",
       " '0.39%',\n",
       " '0.26%',\n",
       " '0.22%',\n",
       " '0.18%',\n",
       " '0.18%',\n",
       " '0.15%',\n",
       " '0.15%',\n",
       " '0.14%',\n",
       " '0.13%',\n",
       " '0.12%',\n",
       " '-']"
      ]
     },
     "execution_count": 743,
     "metadata": {},
     "output_type": "execute_result"
    }
   ],
   "source": [
    "share"
   ]
  },
  {
   "cell_type": "code",
   "execution_count": 747,
   "metadata": {},
   "outputs": [],
   "source": [
    "gdp=[]"
   ]
  },
  {
   "cell_type": "code",
   "execution_count": 748,
   "metadata": {},
   "outputs": [
    {
     "name": "stderr",
     "output_type": "stream",
     "text": [
      "<ipython-input-748-eef31a715bac>:1: DeprecationWarning: find_elements_by_* commands are deprecated. Please use find_elements() instead\n",
      "  tag_gdp=driver.find_elements_by_xpath('//table[@id=\"table_id\"]/tbody/tr/td[6]')\n"
     ]
    }
   ],
   "source": [
    "tag_gdp=driver.find_elements_by_xpath('//table[@id=\"table_id\"]/tbody/tr/td[6]')"
   ]
  },
  {
   "cell_type": "code",
   "execution_count": 749,
   "metadata": {},
   "outputs": [],
   "source": [
    "for i in tag_gdp:\n",
    "    gp=i.text\n",
    "    gdp.append(gp)"
   ]
  },
  {
   "cell_type": "code",
   "execution_count": 750,
   "metadata": {},
   "outputs": [
    {
     "data": {
      "text/plain": [
       "['399.921',\n",
       " '247.629',\n",
       " '240.726',\n",
       " '228.290',\n",
       " '226.806',\n",
       " '165.556',\n",
       " '143.179',\n",
       " '131.083',\n",
       " '130.791',\n",
       " '122.977',\n",
       " '118.733',\n",
       " '117.703',\n",
       " '111.519',\n",
       " '80.562',\n",
       " '79.957',\n",
       " '74.098',\n",
       " '47.982',\n",
       " '46.187',\n",
       " '45.145',\n",
       " '37.351',\n",
       " '23.690',\n",
       " '23.369',\n",
       " '11.115',\n",
       " '7.571',\n",
       " '6.397',\n",
       " '5.230',\n",
       " '5.086',\n",
       " '4.363',\n",
       " '4.233',\n",
       " '4.144',\n",
       " '3.737',\n",
       " '3.385',\n",
       " '-']"
      ]
     },
     "execution_count": 750,
     "metadata": {},
     "output_type": "execute_result"
    }
   ],
   "source": [
    "gdp"
   ]
  },
  {
   "cell_type": "code",
   "execution_count": 751,
   "metadata": {},
   "outputs": [],
   "source": [
    "GSDP=pd.DataFrame({})"
   ]
  },
  {
   "cell_type": "code",
   "execution_count": 752,
   "metadata": {},
   "outputs": [],
   "source": [
    "GSDP['Rank']=ranks\n",
    "GSDP['State']=state\n",
    "GSDP['GSDP 2019-20']=gsdp_1920"
   ]
  },
  {
   "cell_type": "code",
   "execution_count": 753,
   "metadata": {},
   "outputs": [],
   "source": [
    "GSDP['GSDP 2018-19']=gsdp_1819\n",
    "GSDP['Share']=share\n",
    "GSDP['GDP']=gdp"
   ]
  },
  {
   "cell_type": "code",
   "execution_count": 754,
   "metadata": {},
   "outputs": [
    {
     "data": {
      "text/html": [
       "<div>\n",
       "<style scoped>\n",
       "    .dataframe tbody tr th:only-of-type {\n",
       "        vertical-align: middle;\n",
       "    }\n",
       "\n",
       "    .dataframe tbody tr th {\n",
       "        vertical-align: top;\n",
       "    }\n",
       "\n",
       "    .dataframe thead th {\n",
       "        text-align: right;\n",
       "    }\n",
       "</style>\n",
       "<table border=\"1\" class=\"dataframe\">\n",
       "  <thead>\n",
       "    <tr style=\"text-align: right;\">\n",
       "      <th></th>\n",
       "      <th>Rank</th>\n",
       "      <th>State</th>\n",
       "      <th>GSDP 2019-20</th>\n",
       "      <th>GSDP 2018-19</th>\n",
       "      <th>Share</th>\n",
       "      <th>GDP</th>\n",
       "    </tr>\n",
       "  </thead>\n",
       "  <tbody>\n",
       "    <tr>\n",
       "      <th>0</th>\n",
       "      <td>1</td>\n",
       "      <td>Maharashtra</td>\n",
       "      <td>-</td>\n",
       "      <td>2,632,792</td>\n",
       "      <td>13.94%</td>\n",
       "      <td>399.921</td>\n",
       "    </tr>\n",
       "    <tr>\n",
       "      <th>1</th>\n",
       "      <td>2</td>\n",
       "      <td>Tamil Nadu</td>\n",
       "      <td>1,845,853</td>\n",
       "      <td>1,630,208</td>\n",
       "      <td>8.63%</td>\n",
       "      <td>247.629</td>\n",
       "    </tr>\n",
       "    <tr>\n",
       "      <th>2</th>\n",
       "      <td>3</td>\n",
       "      <td>Uttar Pradesh</td>\n",
       "      <td>1,687,818</td>\n",
       "      <td>1,584,764</td>\n",
       "      <td>8.39%</td>\n",
       "      <td>240.726</td>\n",
       "    </tr>\n",
       "    <tr>\n",
       "      <th>3</th>\n",
       "      <td>4</td>\n",
       "      <td>Gujarat</td>\n",
       "      <td>-</td>\n",
       "      <td>1,502,899</td>\n",
       "      <td>7.96%</td>\n",
       "      <td>228.290</td>\n",
       "    </tr>\n",
       "    <tr>\n",
       "      <th>4</th>\n",
       "      <td>5</td>\n",
       "      <td>Karnataka</td>\n",
       "      <td>1,631,977</td>\n",
       "      <td>1,493,127</td>\n",
       "      <td>7.91%</td>\n",
       "      <td>226.806</td>\n",
       "    </tr>\n",
       "    <tr>\n",
       "      <th>5</th>\n",
       "      <td>6</td>\n",
       "      <td>West Bengal</td>\n",
       "      <td>1,253,832</td>\n",
       "      <td>1,089,898</td>\n",
       "      <td>5.77%</td>\n",
       "      <td>165.556</td>\n",
       "    </tr>\n",
       "    <tr>\n",
       "      <th>6</th>\n",
       "      <td>7</td>\n",
       "      <td>Rajasthan</td>\n",
       "      <td>1,020,989</td>\n",
       "      <td>942,586</td>\n",
       "      <td>4.99%</td>\n",
       "      <td>143.179</td>\n",
       "    </tr>\n",
       "    <tr>\n",
       "      <th>7</th>\n",
       "      <td>8</td>\n",
       "      <td>Andhra Pradesh</td>\n",
       "      <td>972,782</td>\n",
       "      <td>862,957</td>\n",
       "      <td>4.57%</td>\n",
       "      <td>131.083</td>\n",
       "    </tr>\n",
       "    <tr>\n",
       "      <th>8</th>\n",
       "      <td>9</td>\n",
       "      <td>Telangana</td>\n",
       "      <td>969,604</td>\n",
       "      <td>861,031</td>\n",
       "      <td>4.56%</td>\n",
       "      <td>130.791</td>\n",
       "    </tr>\n",
       "    <tr>\n",
       "      <th>9</th>\n",
       "      <td>10</td>\n",
       "      <td>Madhya Pradesh</td>\n",
       "      <td>906,672</td>\n",
       "      <td>809,592</td>\n",
       "      <td>4.29%</td>\n",
       "      <td>122.977</td>\n",
       "    </tr>\n",
       "    <tr>\n",
       "      <th>10</th>\n",
       "      <td>11</td>\n",
       "      <td>Kerala</td>\n",
       "      <td>-</td>\n",
       "      <td>781,653</td>\n",
       "      <td>4.14%</td>\n",
       "      <td>118.733</td>\n",
       "    </tr>\n",
       "    <tr>\n",
       "      <th>11</th>\n",
       "      <td>12</td>\n",
       "      <td>Delhi</td>\n",
       "      <td>856,112</td>\n",
       "      <td>774,870</td>\n",
       "      <td>4.10%</td>\n",
       "      <td>117.703</td>\n",
       "    </tr>\n",
       "    <tr>\n",
       "      <th>12</th>\n",
       "      <td>13</td>\n",
       "      <td>Haryana</td>\n",
       "      <td>831,610</td>\n",
       "      <td>734,163</td>\n",
       "      <td>3.89%</td>\n",
       "      <td>111.519</td>\n",
       "    </tr>\n",
       "    <tr>\n",
       "      <th>13</th>\n",
       "      <td>14</td>\n",
       "      <td>Bihar</td>\n",
       "      <td>611,804</td>\n",
       "      <td>530,363</td>\n",
       "      <td>2.81%</td>\n",
       "      <td>80.562</td>\n",
       "    </tr>\n",
       "    <tr>\n",
       "      <th>14</th>\n",
       "      <td>15</td>\n",
       "      <td>Punjab</td>\n",
       "      <td>574,760</td>\n",
       "      <td>526,376</td>\n",
       "      <td>2.79%</td>\n",
       "      <td>79.957</td>\n",
       "    </tr>\n",
       "    <tr>\n",
       "      <th>15</th>\n",
       "      <td>16</td>\n",
       "      <td>Odisha</td>\n",
       "      <td>521,275</td>\n",
       "      <td>487,805</td>\n",
       "      <td>2.58%</td>\n",
       "      <td>74.098</td>\n",
       "    </tr>\n",
       "    <tr>\n",
       "      <th>16</th>\n",
       "      <td>17</td>\n",
       "      <td>Assam</td>\n",
       "      <td>-</td>\n",
       "      <td>315,881</td>\n",
       "      <td>1.67%</td>\n",
       "      <td>47.982</td>\n",
       "    </tr>\n",
       "    <tr>\n",
       "      <th>17</th>\n",
       "      <td>18</td>\n",
       "      <td>Chhattisgarh</td>\n",
       "      <td>329,180</td>\n",
       "      <td>304,063</td>\n",
       "      <td>1.61%</td>\n",
       "      <td>46.187</td>\n",
       "    </tr>\n",
       "    <tr>\n",
       "      <th>18</th>\n",
       "      <td>19</td>\n",
       "      <td>Jharkhand</td>\n",
       "      <td>328,598</td>\n",
       "      <td>297,204</td>\n",
       "      <td>1.57%</td>\n",
       "      <td>45.145</td>\n",
       "    </tr>\n",
       "    <tr>\n",
       "      <th>19</th>\n",
       "      <td>20</td>\n",
       "      <td>Uttarakhand</td>\n",
       "      <td>-</td>\n",
       "      <td>245,895</td>\n",
       "      <td>1.30%</td>\n",
       "      <td>37.351</td>\n",
       "    </tr>\n",
       "    <tr>\n",
       "      <th>20</th>\n",
       "      <td>21</td>\n",
       "      <td>Jammu &amp; Kashmir</td>\n",
       "      <td>-</td>\n",
       "      <td>155,956</td>\n",
       "      <td>0.83%</td>\n",
       "      <td>23.690</td>\n",
       "    </tr>\n",
       "    <tr>\n",
       "      <th>21</th>\n",
       "      <td>22</td>\n",
       "      <td>Himachal Pradesh</td>\n",
       "      <td>165,472</td>\n",
       "      <td>153,845</td>\n",
       "      <td>0.81%</td>\n",
       "      <td>23.369</td>\n",
       "    </tr>\n",
       "    <tr>\n",
       "      <th>22</th>\n",
       "      <td>23</td>\n",
       "      <td>Goa</td>\n",
       "      <td>80,449</td>\n",
       "      <td>73,170</td>\n",
       "      <td>0.39%</td>\n",
       "      <td>11.115</td>\n",
       "    </tr>\n",
       "    <tr>\n",
       "      <th>23</th>\n",
       "      <td>24</td>\n",
       "      <td>Tripura</td>\n",
       "      <td>55,984</td>\n",
       "      <td>49,845</td>\n",
       "      <td>0.26%</td>\n",
       "      <td>7.571</td>\n",
       "    </tr>\n",
       "    <tr>\n",
       "      <th>24</th>\n",
       "      <td>25</td>\n",
       "      <td>Chandigarh</td>\n",
       "      <td>-</td>\n",
       "      <td>42,114</td>\n",
       "      <td>0.22%</td>\n",
       "      <td>6.397</td>\n",
       "    </tr>\n",
       "    <tr>\n",
       "      <th>25</th>\n",
       "      <td>26</td>\n",
       "      <td>Puducherry</td>\n",
       "      <td>38,253</td>\n",
       "      <td>34,433</td>\n",
       "      <td>0.18%</td>\n",
       "      <td>5.230</td>\n",
       "    </tr>\n",
       "    <tr>\n",
       "      <th>26</th>\n",
       "      <td>27</td>\n",
       "      <td>Meghalaya</td>\n",
       "      <td>36,572</td>\n",
       "      <td>33,481</td>\n",
       "      <td>0.18%</td>\n",
       "      <td>5.086</td>\n",
       "    </tr>\n",
       "    <tr>\n",
       "      <th>27</th>\n",
       "      <td>28</td>\n",
       "      <td>Sikkim</td>\n",
       "      <td>32,496</td>\n",
       "      <td>28,723</td>\n",
       "      <td>0.15%</td>\n",
       "      <td>4.363</td>\n",
       "    </tr>\n",
       "    <tr>\n",
       "      <th>28</th>\n",
       "      <td>29</td>\n",
       "      <td>Manipur</td>\n",
       "      <td>31,790</td>\n",
       "      <td>27,870</td>\n",
       "      <td>0.15%</td>\n",
       "      <td>4.233</td>\n",
       "    </tr>\n",
       "    <tr>\n",
       "      <th>29</th>\n",
       "      <td>30</td>\n",
       "      <td>Nagaland</td>\n",
       "      <td>-</td>\n",
       "      <td>27,283</td>\n",
       "      <td>0.14%</td>\n",
       "      <td>4.144</td>\n",
       "    </tr>\n",
       "    <tr>\n",
       "      <th>30</th>\n",
       "      <td>31</td>\n",
       "      <td>Arunachal Pradesh</td>\n",
       "      <td>-</td>\n",
       "      <td>24,603</td>\n",
       "      <td>0.13%</td>\n",
       "      <td>3.737</td>\n",
       "    </tr>\n",
       "    <tr>\n",
       "      <th>31</th>\n",
       "      <td>32</td>\n",
       "      <td>Mizoram</td>\n",
       "      <td>26,503</td>\n",
       "      <td>22,287</td>\n",
       "      <td>0.12%</td>\n",
       "      <td>3.385</td>\n",
       "    </tr>\n",
       "    <tr>\n",
       "      <th>32</th>\n",
       "      <td>33</td>\n",
       "      <td>Andaman &amp; Nicobar Islands</td>\n",
       "      <td>-</td>\n",
       "      <td>-</td>\n",
       "      <td>-</td>\n",
       "      <td>-</td>\n",
       "    </tr>\n",
       "  </tbody>\n",
       "</table>\n",
       "</div>"
      ],
      "text/plain": [
       "   Rank                      State GSDP 2019-20 GSDP 2018-19   Share      GDP\n",
       "0     1                Maharashtra            -    2,632,792  13.94%  399.921\n",
       "1     2                 Tamil Nadu    1,845,853    1,630,208   8.63%  247.629\n",
       "2     3              Uttar Pradesh    1,687,818    1,584,764   8.39%  240.726\n",
       "3     4                    Gujarat            -    1,502,899   7.96%  228.290\n",
       "4     5                  Karnataka    1,631,977    1,493,127   7.91%  226.806\n",
       "5     6                West Bengal    1,253,832    1,089,898   5.77%  165.556\n",
       "6     7                  Rajasthan    1,020,989      942,586   4.99%  143.179\n",
       "7     8             Andhra Pradesh      972,782      862,957   4.57%  131.083\n",
       "8     9                  Telangana      969,604      861,031   4.56%  130.791\n",
       "9    10             Madhya Pradesh      906,672      809,592   4.29%  122.977\n",
       "10   11                     Kerala            -      781,653   4.14%  118.733\n",
       "11   12                      Delhi      856,112      774,870   4.10%  117.703\n",
       "12   13                    Haryana      831,610      734,163   3.89%  111.519\n",
       "13   14                      Bihar      611,804      530,363   2.81%   80.562\n",
       "14   15                     Punjab      574,760      526,376   2.79%   79.957\n",
       "15   16                     Odisha      521,275      487,805   2.58%   74.098\n",
       "16   17                      Assam            -      315,881   1.67%   47.982\n",
       "17   18               Chhattisgarh      329,180      304,063   1.61%   46.187\n",
       "18   19                  Jharkhand      328,598      297,204   1.57%   45.145\n",
       "19   20                Uttarakhand            -      245,895   1.30%   37.351\n",
       "20   21            Jammu & Kashmir            -      155,956   0.83%   23.690\n",
       "21   22           Himachal Pradesh      165,472      153,845   0.81%   23.369\n",
       "22   23                        Goa       80,449       73,170   0.39%   11.115\n",
       "23   24                    Tripura       55,984       49,845   0.26%    7.571\n",
       "24   25                 Chandigarh            -       42,114   0.22%    6.397\n",
       "25   26                 Puducherry       38,253       34,433   0.18%    5.230\n",
       "26   27                  Meghalaya       36,572       33,481   0.18%    5.086\n",
       "27   28                     Sikkim       32,496       28,723   0.15%    4.363\n",
       "28   29                    Manipur       31,790       27,870   0.15%    4.233\n",
       "29   30                   Nagaland            -       27,283   0.14%    4.144\n",
       "30   31          Arunachal Pradesh            -       24,603   0.13%    3.737\n",
       "31   32                    Mizoram       26,503       22,287   0.12%    3.385\n",
       "32   33  Andaman & Nicobar Islands            -            -       -        -"
      ]
     },
     "execution_count": 754,
     "metadata": {},
     "output_type": "execute_result"
    }
   ],
   "source": [
    "GSDP"
   ]
  },
  {
   "cell_type": "markdown",
   "metadata": {},
   "source": [
    "# Solution5"
   ]
  },
  {
   "cell_type": "code",
   "execution_count": null,
   "metadata": {},
   "outputs": [],
   "source": []
  },
  {
   "cell_type": "code",
   "execution_count": 809,
   "metadata": {},
   "outputs": [
    {
     "name": "stderr",
     "output_type": "stream",
     "text": [
      "<ipython-input-809-ec23c7972a0a>:1: DeprecationWarning: executable_path has been deprecated, please pass in a Service object\n",
      "  driver=webdriver.Chrome('chromedriver.exe')\n"
     ]
    }
   ],
   "source": [
    "driver=webdriver.Chrome('chromedriver.exe')"
   ]
  },
  {
   "cell_type": "code",
   "execution_count": 810,
   "metadata": {},
   "outputs": [],
   "source": [
    "driver.get('https://github.com/')"
   ]
  },
  {
   "cell_type": "code",
   "execution_count": 811,
   "metadata": {},
   "outputs": [
    {
     "name": "stderr",
     "output_type": "stream",
     "text": [
      "<ipython-input-811-74fde6d1c4b8>:1: DeprecationWarning: find_element_by_* commands are deprecated. Please use find_element() instead\n",
      "  exp_btn=driver.find_element_by_xpath('/html/body/div[1]/header/div/div[2]/nav/ul/li[4]/details/summary')\n"
     ]
    }
   ],
   "source": [
    "exp_btn=driver.find_element_by_xpath('/html/body/div[1]/header/div/div[2]/nav/ul/li[4]/details/summary')"
   ]
  },
  {
   "cell_type": "code",
   "execution_count": 812,
   "metadata": {},
   "outputs": [],
   "source": [
    "exp_btn.click()"
   ]
  },
  {
   "cell_type": "code",
   "execution_count": 813,
   "metadata": {},
   "outputs": [
    {
     "name": "stderr",
     "output_type": "stream",
     "text": [
      "<ipython-input-813-302fc0291d8e>:1: DeprecationWarning: find_element_by_* commands are deprecated. Please use find_element() instead\n",
      "  trend_btn=driver.find_element_by_xpath('/html/body/div[1]/header/div/div[2]/nav/ul/li[4]/details/div/ul/li[5]/a')\n"
     ]
    }
   ],
   "source": [
    "trend_btn=driver.find_element_by_xpath('/html/body/div[1]/header/div/div[2]/nav/ul/li[4]/details/div/ul/li[5]/a')"
   ]
  },
  {
   "cell_type": "code",
   "execution_count": 814,
   "metadata": {},
   "outputs": [
    {
     "ename": "ElementNotInteractableException",
     "evalue": "Message: element not interactable\n  (Session info: chrome=95.0.4638.69)\nStacktrace:\nBacktrace:\n\tOrdinal0 [0x00BEBDE3+2473443]\n\tOrdinal0 [0x00B86661+2057825]\n\tOrdinal0 [0x00A92300+1057536]\n\tOrdinal0 [0x00ABD567+1234279]\n\tOrdinal0 [0x00AB3567+1193319]\n\tOrdinal0 [0x00AD56E3+1332963]\n\tOrdinal0 [0x00AB3386+1192838]\n\tOrdinal0 [0x00AD57CA+1333194]\n\tOrdinal0 [0x00AE4ABF+1395391]\n\tOrdinal0 [0x00AD55AB+1332651]\n\tOrdinal0 [0x00AB2104+1188100]\n\tOrdinal0 [0x00AB2F59+1191769]\n\tGetHandleVerifier [0x00D72266+1549718]\n\tGetHandleVerifier [0x00E1D4A7+2250711]\n\tGetHandleVerifier [0x00C7718B+521403]\n\tGetHandleVerifier [0x00C76229+517465]\n\tOrdinal0 [0x00B8B79D+2078621]\n\tOrdinal0 [0x00B8FB58+2095960]\n\tOrdinal0 [0x00B8FC92+2096274]\n\tOrdinal0 [0x00B99541+2135361]\n\tBaseThreadInitThunk [0x7598FA29+25]\n\tRtlGetAppContainerNamedObjectPath [0x77B17A9E+286]\n\tRtlGetAppContainerNamedObjectPath [0x77B17A6E+238]\n",
     "output_type": "error",
     "traceback": [
      "\u001b[1;31m---------------------------------------------------------------------------\u001b[0m",
      "\u001b[1;31mElementNotInteractableException\u001b[0m           Traceback (most recent call last)",
      "\u001b[1;32m<ipython-input-814-1efac3b7a463>\u001b[0m in \u001b[0;36m<module>\u001b[1;34m\u001b[0m\n\u001b[1;32m----> 1\u001b[1;33m \u001b[0mtrend_btn\u001b[0m\u001b[1;33m.\u001b[0m\u001b[0mclick\u001b[0m\u001b[1;33m(\u001b[0m\u001b[1;33m)\u001b[0m\u001b[1;33m\u001b[0m\u001b[1;33m\u001b[0m\u001b[0m\n\u001b[0m",
      "\u001b[1;32m~\\anaconda3\\lib\\site-packages\\selenium\\webdriver\\remote\\webelement.py\u001b[0m in \u001b[0;36mclick\u001b[1;34m(self)\u001b[0m\n\u001b[0;32m     78\u001b[0m     \u001b[1;32mdef\u001b[0m \u001b[0mclick\u001b[0m\u001b[1;33m(\u001b[0m\u001b[0mself\u001b[0m\u001b[1;33m)\u001b[0m \u001b[1;33m->\u001b[0m \u001b[1;32mNone\u001b[0m\u001b[1;33m:\u001b[0m\u001b[1;33m\u001b[0m\u001b[1;33m\u001b[0m\u001b[0m\n\u001b[0;32m     79\u001b[0m         \u001b[1;34m\"\"\"Clicks the element.\"\"\"\u001b[0m\u001b[1;33m\u001b[0m\u001b[1;33m\u001b[0m\u001b[0m\n\u001b[1;32m---> 80\u001b[1;33m         \u001b[0mself\u001b[0m\u001b[1;33m.\u001b[0m\u001b[0m_execute\u001b[0m\u001b[1;33m(\u001b[0m\u001b[0mCommand\u001b[0m\u001b[1;33m.\u001b[0m\u001b[0mCLICK_ELEMENT\u001b[0m\u001b[1;33m)\u001b[0m\u001b[1;33m\u001b[0m\u001b[1;33m\u001b[0m\u001b[0m\n\u001b[0m\u001b[0;32m     81\u001b[0m \u001b[1;33m\u001b[0m\u001b[0m\n\u001b[0;32m     82\u001b[0m     \u001b[1;32mdef\u001b[0m \u001b[0msubmit\u001b[0m\u001b[1;33m(\u001b[0m\u001b[0mself\u001b[0m\u001b[1;33m)\u001b[0m\u001b[1;33m:\u001b[0m\u001b[1;33m\u001b[0m\u001b[1;33m\u001b[0m\u001b[0m\n",
      "\u001b[1;32m~\\anaconda3\\lib\\site-packages\\selenium\\webdriver\\remote\\webelement.py\u001b[0m in \u001b[0;36m_execute\u001b[1;34m(self, command, params)\u001b[0m\n\u001b[0;32m    691\u001b[0m             \u001b[0mparams\u001b[0m \u001b[1;33m=\u001b[0m \u001b[1;33m{\u001b[0m\u001b[1;33m}\u001b[0m\u001b[1;33m\u001b[0m\u001b[1;33m\u001b[0m\u001b[0m\n\u001b[0;32m    692\u001b[0m         \u001b[0mparams\u001b[0m\u001b[1;33m[\u001b[0m\u001b[1;34m'id'\u001b[0m\u001b[1;33m]\u001b[0m \u001b[1;33m=\u001b[0m \u001b[0mself\u001b[0m\u001b[1;33m.\u001b[0m\u001b[0m_id\u001b[0m\u001b[1;33m\u001b[0m\u001b[1;33m\u001b[0m\u001b[0m\n\u001b[1;32m--> 693\u001b[1;33m         \u001b[1;32mreturn\u001b[0m \u001b[0mself\u001b[0m\u001b[1;33m.\u001b[0m\u001b[0m_parent\u001b[0m\u001b[1;33m.\u001b[0m\u001b[0mexecute\u001b[0m\u001b[1;33m(\u001b[0m\u001b[0mcommand\u001b[0m\u001b[1;33m,\u001b[0m \u001b[0mparams\u001b[0m\u001b[1;33m)\u001b[0m\u001b[1;33m\u001b[0m\u001b[1;33m\u001b[0m\u001b[0m\n\u001b[0m\u001b[0;32m    694\u001b[0m \u001b[1;33m\u001b[0m\u001b[0m\n\u001b[0;32m    695\u001b[0m     \u001b[1;32mdef\u001b[0m \u001b[0mfind_element\u001b[0m\u001b[1;33m(\u001b[0m\u001b[0mself\u001b[0m\u001b[1;33m,\u001b[0m \u001b[0mby\u001b[0m\u001b[1;33m=\u001b[0m\u001b[0mBy\u001b[0m\u001b[1;33m.\u001b[0m\u001b[0mID\u001b[0m\u001b[1;33m,\u001b[0m \u001b[0mvalue\u001b[0m\u001b[1;33m=\u001b[0m\u001b[1;32mNone\u001b[0m\u001b[1;33m)\u001b[0m\u001b[1;33m:\u001b[0m\u001b[1;33m\u001b[0m\u001b[1;33m\u001b[0m\u001b[0m\n",
      "\u001b[1;32m~\\anaconda3\\lib\\site-packages\\selenium\\webdriver\\remote\\webdriver.py\u001b[0m in \u001b[0;36mexecute\u001b[1;34m(self, driver_command, params)\u001b[0m\n\u001b[0;32m    416\u001b[0m         \u001b[0mresponse\u001b[0m \u001b[1;33m=\u001b[0m \u001b[0mself\u001b[0m\u001b[1;33m.\u001b[0m\u001b[0mcommand_executor\u001b[0m\u001b[1;33m.\u001b[0m\u001b[0mexecute\u001b[0m\u001b[1;33m(\u001b[0m\u001b[0mdriver_command\u001b[0m\u001b[1;33m,\u001b[0m \u001b[0mparams\u001b[0m\u001b[1;33m)\u001b[0m\u001b[1;33m\u001b[0m\u001b[1;33m\u001b[0m\u001b[0m\n\u001b[0;32m    417\u001b[0m         \u001b[1;32mif\u001b[0m \u001b[0mresponse\u001b[0m\u001b[1;33m:\u001b[0m\u001b[1;33m\u001b[0m\u001b[1;33m\u001b[0m\u001b[0m\n\u001b[1;32m--> 418\u001b[1;33m             \u001b[0mself\u001b[0m\u001b[1;33m.\u001b[0m\u001b[0merror_handler\u001b[0m\u001b[1;33m.\u001b[0m\u001b[0mcheck_response\u001b[0m\u001b[1;33m(\u001b[0m\u001b[0mresponse\u001b[0m\u001b[1;33m)\u001b[0m\u001b[1;33m\u001b[0m\u001b[1;33m\u001b[0m\u001b[0m\n\u001b[0m\u001b[0;32m    419\u001b[0m             response['value'] = self._unwrap_value(\n\u001b[0;32m    420\u001b[0m                 response.get('value', None))\n",
      "\u001b[1;32m~\\anaconda3\\lib\\site-packages\\selenium\\webdriver\\remote\\errorhandler.py\u001b[0m in \u001b[0;36mcheck_response\u001b[1;34m(self, response)\u001b[0m\n\u001b[0;32m    241\u001b[0m                 \u001b[0malert_text\u001b[0m \u001b[1;33m=\u001b[0m \u001b[0mvalue\u001b[0m\u001b[1;33m[\u001b[0m\u001b[1;34m'alert'\u001b[0m\u001b[1;33m]\u001b[0m\u001b[1;33m.\u001b[0m\u001b[0mget\u001b[0m\u001b[1;33m(\u001b[0m\u001b[1;34m'text'\u001b[0m\u001b[1;33m)\u001b[0m\u001b[1;33m\u001b[0m\u001b[1;33m\u001b[0m\u001b[0m\n\u001b[0;32m    242\u001b[0m             \u001b[1;32mraise\u001b[0m \u001b[0mexception_class\u001b[0m\u001b[1;33m(\u001b[0m\u001b[0mmessage\u001b[0m\u001b[1;33m,\u001b[0m \u001b[0mscreen\u001b[0m\u001b[1;33m,\u001b[0m \u001b[0mstacktrace\u001b[0m\u001b[1;33m,\u001b[0m \u001b[0malert_text\u001b[0m\u001b[1;33m)\u001b[0m  \u001b[1;31m# type: ignore[call-arg]  # mypy is not smart enough here\u001b[0m\u001b[1;33m\u001b[0m\u001b[1;33m\u001b[0m\u001b[0m\n\u001b[1;32m--> 243\u001b[1;33m         \u001b[1;32mraise\u001b[0m \u001b[0mexception_class\u001b[0m\u001b[1;33m(\u001b[0m\u001b[0mmessage\u001b[0m\u001b[1;33m,\u001b[0m \u001b[0mscreen\u001b[0m\u001b[1;33m,\u001b[0m \u001b[0mstacktrace\u001b[0m\u001b[1;33m)\u001b[0m\u001b[1;33m\u001b[0m\u001b[1;33m\u001b[0m\u001b[0m\n\u001b[0m\u001b[0;32m    244\u001b[0m \u001b[1;33m\u001b[0m\u001b[0m\n\u001b[0;32m    245\u001b[0m     \u001b[1;32mdef\u001b[0m \u001b[0m_value_or_default\u001b[0m\u001b[1;33m(\u001b[0m\u001b[0mself\u001b[0m\u001b[1;33m,\u001b[0m \u001b[0mobj\u001b[0m\u001b[1;33m:\u001b[0m \u001b[0mMapping\u001b[0m\u001b[1;33m[\u001b[0m\u001b[0m_KT\u001b[0m\u001b[1;33m,\u001b[0m \u001b[0m_VT\u001b[0m\u001b[1;33m]\u001b[0m\u001b[1;33m,\u001b[0m \u001b[0mkey\u001b[0m\u001b[1;33m:\u001b[0m \u001b[0m_KT\u001b[0m\u001b[1;33m,\u001b[0m \u001b[0mdefault\u001b[0m\u001b[1;33m:\u001b[0m \u001b[0m_VT\u001b[0m\u001b[1;33m)\u001b[0m \u001b[1;33m->\u001b[0m \u001b[0m_VT\u001b[0m\u001b[1;33m:\u001b[0m\u001b[1;33m\u001b[0m\u001b[1;33m\u001b[0m\u001b[0m\n",
      "\u001b[1;31mElementNotInteractableException\u001b[0m: Message: element not interactable\n  (Session info: chrome=95.0.4638.69)\nStacktrace:\nBacktrace:\n\tOrdinal0 [0x00BEBDE3+2473443]\n\tOrdinal0 [0x00B86661+2057825]\n\tOrdinal0 [0x00A92300+1057536]\n\tOrdinal0 [0x00ABD567+1234279]\n\tOrdinal0 [0x00AB3567+1193319]\n\tOrdinal0 [0x00AD56E3+1332963]\n\tOrdinal0 [0x00AB3386+1192838]\n\tOrdinal0 [0x00AD57CA+1333194]\n\tOrdinal0 [0x00AE4ABF+1395391]\n\tOrdinal0 [0x00AD55AB+1332651]\n\tOrdinal0 [0x00AB2104+1188100]\n\tOrdinal0 [0x00AB2F59+1191769]\n\tGetHandleVerifier [0x00D72266+1549718]\n\tGetHandleVerifier [0x00E1D4A7+2250711]\n\tGetHandleVerifier [0x00C7718B+521403]\n\tGetHandleVerifier [0x00C76229+517465]\n\tOrdinal0 [0x00B8B79D+2078621]\n\tOrdinal0 [0x00B8FB58+2095960]\n\tOrdinal0 [0x00B8FC92+2096274]\n\tOrdinal0 [0x00B99541+2135361]\n\tBaseThreadInitThunk [0x7598FA29+25]\n\tRtlGetAppContainerNamedObjectPath [0x77B17A9E+286]\n\tRtlGetAppContainerNamedObjectPath [0x77B17A6E+238]\n"
     ]
    }
   ],
   "source": [
    "trend_btn.click()"
   ]
  },
  {
   "cell_type": "code",
   "execution_count": null,
   "metadata": {},
   "outputs": [],
   "source": [
    "rep_tit=[]"
   ]
  },
  {
   "cell_type": "code",
   "execution_count": null,
   "metadata": {},
   "outputs": [],
   "source": [
    "rep_desc=[]"
   ]
  },
  {
   "cell_type": "code",
   "execution_count": null,
   "metadata": {},
   "outputs": [],
   "source": [
    "lang=[]"
   ]
  },
  {
   "cell_type": "code",
   "execution_count": null,
   "metadata": {},
   "outputs": [],
   "source": [
    "count=[]"
   ]
  },
  {
   "cell_type": "code",
   "execution_count": null,
   "metadata": {},
   "outputs": [],
   "source": [
    "tag_rep=driver.find_elements_by_xpath('//h1[@class=\"h3 lh-condensed\"]')"
   ]
  },
  {
   "cell_type": "code",
   "execution_count": null,
   "metadata": {},
   "outputs": [],
   "source": [
    "for i in tag_rep:\n",
    "    rept=i.text\n",
    "    rep_tit.append(rept)"
   ]
  },
  {
   "cell_type": "code",
   "execution_count": null,
   "metadata": {},
   "outputs": [],
   "source": [
    "rep_tit"
   ]
  },
  {
   "cell_type": "code",
   "execution_count": null,
   "metadata": {},
   "outputs": [],
   "source": [
    "repdesc=driver.find_elements_by_xpath('//p[@class=\"col-9 color-fg-muted my-1 pr-4\"]')"
   ]
  },
  {
   "cell_type": "code",
   "execution_count": null,
   "metadata": {},
   "outputs": [],
   "source": [
    "for i in repdesc:\n",
    "    rdsc=i.text\n",
    "    rep_desc.append(rdsc)"
   ]
  },
  {
   "cell_type": "code",
   "execution_count": null,
   "metadata": {},
   "outputs": [],
   "source": [
    "len(rep_tit)"
   ]
  },
  {
   "cell_type": "code",
   "execution_count": null,
   "metadata": {},
   "outputs": [],
   "source": [
    "url=[]"
   ]
  },
  {
   "cell_type": "code",
   "execution_count": null,
   "metadata": {},
   "outputs": [],
   "source": [
    "for i in driver.find_elements_by_xpath('//h1[@class=\"h3 lh-condensed\"]/a'):\n",
    "    url.append(i.get_attribute(\"href\"))"
   ]
  },
  {
   "cell_type": "code",
   "execution_count": null,
   "metadata": {},
   "outputs": [],
   "source": [
    "for i in url:\n",
    "    driver.get(i)\n",
    "    time.sleep(3)\n",
    "    try:\n",
    "        re_de=driver.find_element_by_xpath('//p[@class=\"f4 mt-3\"]')\n",
    "        rep.desc.append(re_de.text.replace('/n','new line'))\n",
    "    except:\n",
    "        rep.desc.append('-')"
   ]
  },
  {
   "cell_type": "markdown",
   "metadata": {},
   "source": [
    "#Solution8 "
   ]
  },
  {
   "cell_type": "code",
   "execution_count": 815,
   "metadata": {},
   "outputs": [],
   "source": [
    "import selenium"
   ]
  },
  {
   "cell_type": "code",
   "execution_count": 816,
   "metadata": {},
   "outputs": [],
   "source": [
    "from selenium import webdriver"
   ]
  },
  {
   "cell_type": "code",
   "execution_count": 817,
   "metadata": {},
   "outputs": [],
   "source": [
    "import pandas as pd"
   ]
  },
  {
   "cell_type": "code",
   "execution_count": 818,
   "metadata": {},
   "outputs": [],
   "source": [
    "import time"
   ]
  },
  {
   "cell_type": "code",
   "execution_count": 819,
   "metadata": {},
   "outputs": [
    {
     "name": "stderr",
     "output_type": "stream",
     "text": [
      "<ipython-input-819-ec23c7972a0a>:1: DeprecationWarning: executable_path has been deprecated, please pass in a Service object\n",
      "  driver=webdriver.Chrome('chromedriver.exe')\n"
     ]
    }
   ],
   "source": [
    "driver=webdriver.Chrome('chromedriver.exe')"
   ]
  },
  {
   "cell_type": "code",
   "execution_count": 820,
   "metadata": {},
   "outputs": [],
   "source": [
    "driver.get('https://www.theguardian.com/news/datablog/2012/aug/09/best-selling-books-all-time-fifty-shades-grey-compare')"
   ]
  },
  {
   "cell_type": "code",
   "execution_count": 821,
   "metadata": {},
   "outputs": [],
   "source": [
    "name=[]"
   ]
  },
  {
   "cell_type": "code",
   "execution_count": 822,
   "metadata": {},
   "outputs": [],
   "source": [
    "author=[]"
   ]
  },
  {
   "cell_type": "code",
   "execution_count": 823,
   "metadata": {},
   "outputs": [],
   "source": [
    "sold=[]"
   ]
  },
  {
   "cell_type": "code",
   "execution_count": 824,
   "metadata": {},
   "outputs": [],
   "source": [
    "genre=[]"
   ]
  },
  {
   "cell_type": "code",
   "execution_count": 825,
   "metadata": {},
   "outputs": [],
   "source": [
    "publisher=[]"
   ]
  },
  {
   "cell_type": "code",
   "execution_count": 826,
   "metadata": {},
   "outputs": [
    {
     "name": "stderr",
     "output_type": "stream",
     "text": [
      "<ipython-input-826-469c9b80a32e>:1: DeprecationWarning: find_elements_by_* commands are deprecated. Please use find_elements() instead\n",
      "  title_name=driver.find_elements_by_xpath('//table[@class=\"in-article sortable\"]/tbody/tr/td[2]')\n"
     ]
    }
   ],
   "source": [
    "title_name=driver.find_elements_by_xpath('//table[@class=\"in-article sortable\"]/tbody/tr/td[2]')"
   ]
  },
  {
   "cell_type": "code",
   "execution_count": 827,
   "metadata": {},
   "outputs": [],
   "source": [
    "for i in title_name:\n",
    "    titl=i.text\n",
    "    name.append(titl)"
   ]
  },
  {
   "cell_type": "code",
   "execution_count": 828,
   "metadata": {},
   "outputs": [
    {
     "data": {
      "text/plain": [
       "['Da Vinci Code,The',\n",
       " 'Harry Potter and the Deathly Hallows',\n",
       " \"Harry Potter and the Philosopher's Stone\",\n",
       " 'Harry Potter and the Order of the Phoenix',\n",
       " 'Fifty Shades of Grey',\n",
       " 'Harry Potter and the Goblet of Fire',\n",
       " 'Harry Potter and the Chamber of Secrets',\n",
       " 'Harry Potter and the Prisoner of Azkaban',\n",
       " 'Angels and Demons',\n",
       " \"Harry Potter and the Half-blood Prince:Children's Edition\",\n",
       " 'Fifty Shades Darker',\n",
       " 'Twilight',\n",
       " 'Girl with the Dragon Tattoo,The:Millennium Trilogy',\n",
       " 'Fifty Shades Freed',\n",
       " 'Lost Symbol,The',\n",
       " 'New Moon',\n",
       " 'Deception Point',\n",
       " 'Eclipse',\n",
       " 'Lovely Bones,The',\n",
       " 'Curious Incident of the Dog in the Night-time,The',\n",
       " 'Digital Fortress',\n",
       " 'Short History of Nearly Everything,A',\n",
       " 'Girl Who Played with Fire,The:Millennium Trilogy',\n",
       " 'Breaking Dawn',\n",
       " 'Very Hungry Caterpillar,The:The Very Hungry Caterpillar',\n",
       " 'Gruffalo,The',\n",
       " \"Jamie's 30-Minute Meals\",\n",
       " 'Kite Runner,The',\n",
       " 'One Day',\n",
       " 'Thousand Splendid Suns,A',\n",
       " \"Girl Who Kicked the Hornets' Nest,The:Millennium Trilogy\",\n",
       " \"Time Traveler's Wife,The\",\n",
       " 'Atonement',\n",
       " \"Bridget Jones's Diary:A Novel\",\n",
       " 'World According to Clarkson,The',\n",
       " \"Captain Corelli's Mandolin\",\n",
       " 'Sound of Laughter,The',\n",
       " 'Life of Pi',\n",
       " 'Billy Connolly',\n",
       " 'Child Called It,A',\n",
       " \"Gruffalo's Child,The\",\n",
       " \"Angela's Ashes:A Memoir of a Childhood\",\n",
       " 'Birdsong',\n",
       " 'Northern Lights:His Dark Materials S.',\n",
       " 'Labyrinth',\n",
       " 'Harry Potter and the Half-blood Prince',\n",
       " 'Help,The',\n",
       " 'Man and Boy',\n",
       " 'Memoirs of a Geisha',\n",
       " \"No.1 Ladies' Detective Agency,The:No.1 Ladies' Detective Agency S.\",\n",
       " 'Island,The',\n",
       " 'PS, I Love You',\n",
       " 'You are What You Eat:The Plan That Will Change Your Life',\n",
       " 'Shadow of the Wind,The',\n",
       " 'Tales of Beedle the Bard,The',\n",
       " 'Broker,The',\n",
       " \"Dr. Atkins' New Diet Revolution:The No-hunger, Luxurious Weight Loss P\",\n",
       " 'Subtle Knife,The:His Dark Materials S.',\n",
       " 'Eats, Shoots and Leaves:The Zero Tolerance Approach to Punctuation',\n",
       " \"Delia's How to Cook:(Bk.1)\",\n",
       " 'Chocolat',\n",
       " 'Boy in the Striped Pyjamas,The',\n",
       " \"My Sister's Keeper\",\n",
       " 'Amber Spyglass,The:His Dark Materials S.',\n",
       " 'To Kill a Mockingbird',\n",
       " 'Men are from Mars, Women are from Venus:A Practical Guide for Improvin',\n",
       " 'Dear Fatty',\n",
       " 'Short History of Tractors in Ukrainian,A',\n",
       " 'Hannibal',\n",
       " 'Lord of the Rings,The',\n",
       " 'Stupid White Men:...and Other Sorry Excuses for the State of the Natio',\n",
       " 'Interpretation of Murder,The',\n",
       " 'Sharon Osbourne Extreme:My Autobiography',\n",
       " 'Alchemist,The:A Fable About Following Your Dream',\n",
       " \"At My Mother's Knee ...:and Other Low Joints\",\n",
       " 'Notes from a Small Island',\n",
       " 'Return of the Naked Chef,The',\n",
       " 'Bridget Jones: The Edge of Reason',\n",
       " \"Jamie's Italy\",\n",
       " 'I Can Make You Thin',\n",
       " 'Down Under',\n",
       " 'Summons,The',\n",
       " 'Small Island',\n",
       " 'Nigella Express',\n",
       " 'Brick Lane',\n",
       " \"Memory Keeper's Daughter,The\",\n",
       " 'Room on the Broom',\n",
       " 'About a Boy',\n",
       " 'My Booky Wook',\n",
       " 'God Delusion,The',\n",
       " '\"Beano\" Annual,The',\n",
       " 'White Teeth',\n",
       " 'House at Riverton,The',\n",
       " 'Book Thief,The',\n",
       " 'Nights of Rain and Stars',\n",
       " 'Ghost,The',\n",
       " 'Happy Days with the Naked Chef',\n",
       " 'Hunger Games,The:Hunger Games Trilogy',\n",
       " \"Lost Boy,The:A Foster Child's Search for the Love of a Family\",\n",
       " \"Jamie's Ministry of Food:Anyone Can Learn to Cook in 24 Hours\"]"
      ]
     },
     "execution_count": 828,
     "metadata": {},
     "output_type": "execute_result"
    }
   ],
   "source": [
    "name"
   ]
  },
  {
   "cell_type": "code",
   "execution_count": 829,
   "metadata": {},
   "outputs": [
    {
     "name": "stderr",
     "output_type": "stream",
     "text": [
      "<ipython-input-829-8bd0a99965d2>:1: DeprecationWarning: find_elements_by_* commands are deprecated. Please use find_elements() instead\n",
      "  title_aut=driver.find_elements_by_xpath('//table[@class=\"in-article sortable\"]/tbody/tr/td[3]')\n"
     ]
    }
   ],
   "source": [
    "title_aut=driver.find_elements_by_xpath('//table[@class=\"in-article sortable\"]/tbody/tr/td[3]')"
   ]
  },
  {
   "cell_type": "code",
   "execution_count": 830,
   "metadata": {},
   "outputs": [],
   "source": [
    "for i in title_aut:\n",
    "    aut=i.text\n",
    "    author.append(aut)"
   ]
  },
  {
   "cell_type": "code",
   "execution_count": 831,
   "metadata": {},
   "outputs": [
    {
     "data": {
      "text/plain": [
       "['Brown, Dan',\n",
       " 'Rowling, J.K.',\n",
       " 'Rowling, J.K.',\n",
       " 'Rowling, J.K.',\n",
       " 'James, E. L.',\n",
       " 'Rowling, J.K.',\n",
       " 'Rowling, J.K.',\n",
       " 'Rowling, J.K.',\n",
       " 'Brown, Dan',\n",
       " 'Rowling, J.K.',\n",
       " 'James, E. L.',\n",
       " 'Meyer, Stephenie',\n",
       " 'Larsson, Stieg',\n",
       " 'James, E. L.',\n",
       " 'Brown, Dan',\n",
       " 'Meyer, Stephenie',\n",
       " 'Brown, Dan',\n",
       " 'Meyer, Stephenie',\n",
       " 'Sebold, Alice',\n",
       " 'Haddon, Mark',\n",
       " 'Brown, Dan',\n",
       " 'Bryson, Bill',\n",
       " 'Larsson, Stieg',\n",
       " 'Meyer, Stephenie',\n",
       " 'Carle, Eric',\n",
       " 'Donaldson, Julia',\n",
       " 'Oliver, Jamie',\n",
       " 'Hosseini, Khaled',\n",
       " 'Nicholls, David',\n",
       " 'Hosseini, Khaled',\n",
       " 'Larsson, Stieg',\n",
       " 'Niffenegger, Audrey',\n",
       " 'McEwan, Ian',\n",
       " 'Fielding, Helen',\n",
       " 'Clarkson, Jeremy',\n",
       " 'Bernieres, Louis de',\n",
       " 'Kay, Peter',\n",
       " 'Martel, Yann',\n",
       " 'Stephenson, Pamela',\n",
       " 'Pelzer, Dave',\n",
       " 'Donaldson, Julia',\n",
       " 'McCourt, Frank',\n",
       " 'Faulks, Sebastian',\n",
       " 'Pullman, Philip',\n",
       " 'Mosse, Kate',\n",
       " 'Rowling, J.K.',\n",
       " 'Stockett, Kathryn',\n",
       " 'Parsons, Tony',\n",
       " 'Golden, Arthur',\n",
       " 'McCall Smith, Alexander',\n",
       " 'Hislop, Victoria',\n",
       " 'Ahern, Cecelia',\n",
       " 'McKeith, Gillian',\n",
       " 'Zafon, Carlos Ruiz',\n",
       " 'Rowling, J.K.',\n",
       " 'Grisham, John',\n",
       " 'Atkins, Robert C.',\n",
       " 'Pullman, Philip',\n",
       " 'Truss, Lynne',\n",
       " 'Smith, Delia',\n",
       " 'Harris, Joanne',\n",
       " 'Boyne, John',\n",
       " 'Picoult, Jodi',\n",
       " 'Pullman, Philip',\n",
       " 'Lee, Harper',\n",
       " 'Gray, John',\n",
       " 'French, Dawn',\n",
       " 'Lewycka, Marina',\n",
       " 'Harris, Thomas',\n",
       " 'Tolkien, J. R. R.',\n",
       " 'Moore, Michael',\n",
       " 'Rubenfeld, Jed',\n",
       " 'Osbourne, Sharon',\n",
       " 'Coelho, Paulo',\n",
       " \"O'Grady, Paul\",\n",
       " 'Bryson, Bill',\n",
       " 'Oliver, Jamie',\n",
       " 'Fielding, Helen',\n",
       " 'Oliver, Jamie',\n",
       " 'McKenna, Paul',\n",
       " 'Bryson, Bill',\n",
       " 'Grisham, John',\n",
       " 'Levy, Andrea',\n",
       " 'Lawson, Nigella',\n",
       " 'Ali, Monica',\n",
       " 'Edwards, Kim',\n",
       " 'Donaldson, Julia',\n",
       " 'Hornby, Nick',\n",
       " 'Brand, Russell',\n",
       " 'Dawkins, Richard',\n",
       " '0',\n",
       " 'Smith, Zadie',\n",
       " 'Morton, Kate',\n",
       " 'Zusak, Markus',\n",
       " 'Binchy, Maeve',\n",
       " 'Harris, Robert',\n",
       " 'Oliver, Jamie',\n",
       " 'Collins, Suzanne',\n",
       " 'Pelzer, Dave',\n",
       " 'Oliver, Jamie']"
      ]
     },
     "execution_count": 831,
     "metadata": {},
     "output_type": "execute_result"
    }
   ],
   "source": [
    "author"
   ]
  },
  {
   "cell_type": "code",
   "execution_count": 832,
   "metadata": {},
   "outputs": [
    {
     "name": "stderr",
     "output_type": "stream",
     "text": [
      "<ipython-input-832-4b1e36652853>:1: DeprecationWarning: find_elements_by_* commands are deprecated. Please use find_elements() instead\n",
      "  title_sold=driver.find_elements_by_xpath('//table[@class=\"in-article sortable\"]/tbody/tr/td[4]')\n"
     ]
    }
   ],
   "source": [
    "title_sold=driver.find_elements_by_xpath('//table[@class=\"in-article sortable\"]/tbody/tr/td[4]')"
   ]
  },
  {
   "cell_type": "code",
   "execution_count": 833,
   "metadata": {},
   "outputs": [],
   "source": [
    "for i in title_sold:\n",
    "    sol=i.text\n",
    "    sold.append(sol)"
   ]
  },
  {
   "cell_type": "code",
   "execution_count": 834,
   "metadata": {},
   "outputs": [
    {
     "data": {
      "text/plain": [
       "['5,094,805',\n",
       " '4,475,152',\n",
       " '4,200,654',\n",
       " '4,179,479',\n",
       " '3,758,936',\n",
       " '3,583,215',\n",
       " '3,484,047',\n",
       " '3,377,906',\n",
       " '3,193,946',\n",
       " '2,950,264',\n",
       " '2,479,784',\n",
       " '2,315,405',\n",
       " '2,233,570',\n",
       " '2,193,928',\n",
       " '2,183,031',\n",
       " '2,152,737',\n",
       " '2,062,145',\n",
       " '2,052,876',\n",
       " '2,005,598',\n",
       " '1,979,552',\n",
       " '1,928,900',\n",
       " '1,852,919',\n",
       " '1,814,784',\n",
       " '1,787,118',\n",
       " '1,783,535',\n",
       " '1,781,269',\n",
       " '1,743,266',\n",
       " '1,629,119',\n",
       " '1,616,068',\n",
       " '1,583,992',\n",
       " '1,555,135',\n",
       " '1,546,886',\n",
       " '1,539,428',\n",
       " '1,508,205',\n",
       " '1,489,403',\n",
       " '1,352,318',\n",
       " '1,310,207',\n",
       " '1,310,176',\n",
       " '1,231,957',\n",
       " '1,217,712',\n",
       " '1,208,711',\n",
       " '1,204,058',\n",
       " '1,184,967',\n",
       " '1,181,503',\n",
       " '1,181,093',\n",
       " '1,153,181',\n",
       " '1,132,336',\n",
       " '1,130,802',\n",
       " '1,126,337',\n",
       " '1,115,549',\n",
       " '1,108,328',\n",
       " '1,107,379',\n",
       " '1,104,403',\n",
       " '1,092,349',\n",
       " '1,090,847',\n",
       " '1,087,262',\n",
       " '1,054,196',\n",
       " '1,037,160',\n",
       " '1,023,688',\n",
       " '1,015,956',\n",
       " '1,009,873',\n",
       " '1,004,414',\n",
       " '1,003,780',\n",
       " '1,002,314',\n",
       " '998,213',\n",
       " '992,846',\n",
       " '986,753',\n",
       " '986,115',\n",
       " '970,509',\n",
       " '967,466',\n",
       " '963,353',\n",
       " '962,515',\n",
       " '959,496',\n",
       " '956,114',\n",
       " '945,640',\n",
       " '931,312',\n",
       " '925,425',\n",
       " '924,695',\n",
       " '906,968',\n",
       " '905,086',\n",
       " '890,847',\n",
       " '869,671',\n",
       " '869,659',\n",
       " '862,602',\n",
       " '856,540',\n",
       " '845,858',\n",
       " '842,535',\n",
       " '828,215',\n",
       " '820,563',\n",
       " '816,907',\n",
       " '816,585',\n",
       " '815,586',\n",
       " '814,370',\n",
       " '809,641',\n",
       " '808,900',\n",
       " '807,311',\n",
       " '794,201',\n",
       " '792,187',\n",
       " '791,507',\n",
       " '791,095']"
      ]
     },
     "execution_count": 834,
     "metadata": {},
     "output_type": "execute_result"
    }
   ],
   "source": [
    "sold"
   ]
  },
  {
   "cell_type": "code",
   "execution_count": 835,
   "metadata": {},
   "outputs": [
    {
     "name": "stderr",
     "output_type": "stream",
     "text": [
      "<ipython-input-835-d57b970aefab>:1: DeprecationWarning: find_elements_by_* commands are deprecated. Please use find_elements() instead\n",
      "  title_pub=driver.find_elements_by_xpath('//table[@class=\"in-article sortable\"]/tbody/tr/td[5]')\n"
     ]
    }
   ],
   "source": [
    "title_pub=driver.find_elements_by_xpath('//table[@class=\"in-article sortable\"]/tbody/tr/td[5]')"
   ]
  },
  {
   "cell_type": "code",
   "execution_count": 836,
   "metadata": {},
   "outputs": [],
   "source": [
    "for i in title_pub:\n",
    "    pu=i.text\n",
    "    publisher.append(pu)"
   ]
  },
  {
   "cell_type": "code",
   "execution_count": 837,
   "metadata": {},
   "outputs": [
    {
     "data": {
      "text/plain": [
       "['Transworld',\n",
       " 'Bloomsbury',\n",
       " 'Bloomsbury',\n",
       " 'Bloomsbury',\n",
       " 'Random House',\n",
       " 'Bloomsbury',\n",
       " 'Bloomsbury',\n",
       " 'Bloomsbury',\n",
       " 'Transworld',\n",
       " 'Bloomsbury',\n",
       " 'Random House',\n",
       " 'Little, Brown Book',\n",
       " 'Quercus',\n",
       " 'Random House',\n",
       " 'Transworld',\n",
       " 'Little, Brown Book',\n",
       " 'Transworld',\n",
       " 'Little, Brown Book',\n",
       " 'Pan Macmillan',\n",
       " 'Random House',\n",
       " 'Transworld',\n",
       " 'Transworld',\n",
       " 'Quercus',\n",
       " 'Little, Brown Book',\n",
       " 'Penguin',\n",
       " 'Pan Macmillan',\n",
       " 'Penguin',\n",
       " 'Bloomsbury',\n",
       " 'Hodder & Stoughton',\n",
       " 'Bloomsbury',\n",
       " 'Quercus',\n",
       " 'Random House',\n",
       " 'Random House',\n",
       " 'Pan Macmillan',\n",
       " 'Penguin',\n",
       " 'Random House',\n",
       " 'Random House',\n",
       " 'Canongate',\n",
       " 'HarperCollins',\n",
       " 'Orion',\n",
       " 'Pan Macmillan',\n",
       " 'HarperCollins',\n",
       " 'Random House',\n",
       " 'Scholastic Ltd.',\n",
       " 'Orion',\n",
       " 'Bloomsbury',\n",
       " 'Penguin',\n",
       " 'HarperCollins',\n",
       " 'Random House',\n",
       " 'Little, Brown Book',\n",
       " 'Headline',\n",
       " 'HarperCollins',\n",
       " 'Penguin',\n",
       " 'Orion',\n",
       " 'Bloomsbury',\n",
       " 'Random House',\n",
       " 'Random House',\n",
       " 'Scholastic Ltd.',\n",
       " 'Profile Books Group',\n",
       " 'Random House',\n",
       " 'Transworld',\n",
       " 'Random House Childrens Books G',\n",
       " 'Hodder & Stoughton',\n",
       " 'Scholastic Ltd.',\n",
       " 'Random House',\n",
       " 'HarperCollins',\n",
       " 'Random House',\n",
       " 'Penguin',\n",
       " 'Random House',\n",
       " 'HarperCollins',\n",
       " 'Penguin',\n",
       " 'Headline',\n",
       " 'Little, Brown Book',\n",
       " 'HarperCollins',\n",
       " 'Transworld',\n",
       " 'Transworld',\n",
       " 'Penguin',\n",
       " 'Pan Macmillan',\n",
       " 'Penguin',\n",
       " 'Transworld',\n",
       " 'Transworld',\n",
       " 'Random House',\n",
       " 'Headline',\n",
       " 'Random House',\n",
       " 'Transworld',\n",
       " 'Penguin',\n",
       " 'Pan Macmillan',\n",
       " 'Penguin',\n",
       " 'Hodder & Stoughton',\n",
       " 'Transworld',\n",
       " 'D.C. Thomson',\n",
       " 'Penguin',\n",
       " 'Pan Macmillan',\n",
       " 'Transworld',\n",
       " 'Orion',\n",
       " 'Random House',\n",
       " 'Penguin',\n",
       " 'Scholastic Ltd.',\n",
       " 'Orion',\n",
       " 'Penguin']"
      ]
     },
     "execution_count": 837,
     "metadata": {},
     "output_type": "execute_result"
    }
   ],
   "source": [
    "publisher"
   ]
  },
  {
   "cell_type": "code",
   "execution_count": 838,
   "metadata": {},
   "outputs": [
    {
     "name": "stderr",
     "output_type": "stream",
     "text": [
      "<ipython-input-838-6c81a9188a6e>:1: DeprecationWarning: find_elements_by_* commands are deprecated. Please use find_elements() instead\n",
      "  title_gen=driver.find_elements_by_xpath('//table[@class=\"in-article sortable\"]/tbody/tr/td[6]')\n"
     ]
    }
   ],
   "source": [
    "title_gen=driver.find_elements_by_xpath('//table[@class=\"in-article sortable\"]/tbody/tr/td[6]')"
   ]
  },
  {
   "cell_type": "code",
   "execution_count": 839,
   "metadata": {},
   "outputs": [],
   "source": [
    "for i in title_gen:\n",
    "    ge=i.text\n",
    "    genre.append(ge)"
   ]
  },
  {
   "cell_type": "code",
   "execution_count": 840,
   "metadata": {},
   "outputs": [
    {
     "data": {
      "text/plain": [
       "['Crime, Thriller & Adventure',\n",
       " \"Children's Fiction\",\n",
       " \"Children's Fiction\",\n",
       " \"Children's Fiction\",\n",
       " 'Romance & Sagas',\n",
       " \"Children's Fiction\",\n",
       " \"Children's Fiction\",\n",
       " \"Children's Fiction\",\n",
       " 'Crime, Thriller & Adventure',\n",
       " \"Children's Fiction\",\n",
       " 'Romance & Sagas',\n",
       " 'Young Adult Fiction',\n",
       " 'Crime, Thriller & Adventure',\n",
       " 'Romance & Sagas',\n",
       " 'Crime, Thriller & Adventure',\n",
       " 'Young Adult Fiction',\n",
       " 'Crime, Thriller & Adventure',\n",
       " 'Young Adult Fiction',\n",
       " 'General & Literary Fiction',\n",
       " 'General & Literary Fiction',\n",
       " 'Crime, Thriller & Adventure',\n",
       " 'Popular Science',\n",
       " 'Crime, Thriller & Adventure',\n",
       " 'Young Adult Fiction',\n",
       " 'Picture Books',\n",
       " 'Picture Books',\n",
       " 'Food & Drink: General',\n",
       " 'General & Literary Fiction',\n",
       " 'General & Literary Fiction',\n",
       " 'General & Literary Fiction',\n",
       " 'Crime, Thriller & Adventure',\n",
       " 'General & Literary Fiction',\n",
       " 'General & Literary Fiction',\n",
       " 'General & Literary Fiction',\n",
       " 'Humour: Collections & General',\n",
       " 'General & Literary Fiction',\n",
       " 'Autobiography: General',\n",
       " 'General & Literary Fiction',\n",
       " 'Biography: The Arts',\n",
       " 'Autobiography: General',\n",
       " 'Picture Books',\n",
       " 'Autobiography: General',\n",
       " 'General & Literary Fiction',\n",
       " 'Young Adult Fiction',\n",
       " 'General & Literary Fiction',\n",
       " 'Science Fiction & Fantasy',\n",
       " 'General & Literary Fiction',\n",
       " 'General & Literary Fiction',\n",
       " 'General & Literary Fiction',\n",
       " 'Crime, Thriller & Adventure',\n",
       " 'General & Literary Fiction',\n",
       " 'General & Literary Fiction',\n",
       " 'Fitness & Diet',\n",
       " 'General & Literary Fiction',\n",
       " \"Children's Fiction\",\n",
       " 'Crime, Thriller & Adventure',\n",
       " 'Fitness & Diet',\n",
       " 'Young Adult Fiction',\n",
       " 'Usage & Writing Guides',\n",
       " 'Food & Drink: General',\n",
       " 'General & Literary Fiction',\n",
       " 'Young Adult Fiction',\n",
       " 'General & Literary Fiction',\n",
       " 'Young Adult Fiction',\n",
       " 'General & Literary Fiction',\n",
       " 'Popular Culture & Media: General Interest',\n",
       " 'Autobiography: The Arts',\n",
       " 'General & Literary Fiction',\n",
       " 'Crime, Thriller & Adventure',\n",
       " 'Science Fiction & Fantasy',\n",
       " 'Current Affairs & Issues',\n",
       " 'Crime, Thriller & Adventure',\n",
       " 'Autobiography: The Arts',\n",
       " 'General & Literary Fiction',\n",
       " 'Autobiography: The Arts',\n",
       " 'Travel Writing',\n",
       " 'Food & Drink: General',\n",
       " 'General & Literary Fiction',\n",
       " 'National & Regional Cuisine',\n",
       " 'Fitness & Diet',\n",
       " 'Travel Writing',\n",
       " 'Crime, Thriller & Adventure',\n",
       " 'General & Literary Fiction',\n",
       " 'Food & Drink: General',\n",
       " 'General & Literary Fiction',\n",
       " 'General & Literary Fiction',\n",
       " 'Picture Books',\n",
       " 'General & Literary Fiction',\n",
       " 'Autobiography: The Arts',\n",
       " 'Popular Science',\n",
       " \"Children's Annuals\",\n",
       " 'General & Literary Fiction',\n",
       " 'General & Literary Fiction',\n",
       " 'General & Literary Fiction',\n",
       " 'General & Literary Fiction',\n",
       " 'General & Literary Fiction',\n",
       " 'Food & Drink: General',\n",
       " 'Young Adult Fiction',\n",
       " 'Biography: General',\n",
       " 'Food & Drink: General']"
      ]
     },
     "execution_count": 840,
     "metadata": {},
     "output_type": "execute_result"
    }
   ],
   "source": [
    "genre"
   ]
  },
  {
   "cell_type": "code",
   "execution_count": 841,
   "metadata": {},
   "outputs": [],
   "source": [
    "top_books=pd.DataFrame({})"
   ]
  },
  {
   "cell_type": "code",
   "execution_count": 842,
   "metadata": {},
   "outputs": [],
   "source": [
    "top_books['Title']=name"
   ]
  },
  {
   "cell_type": "code",
   "execution_count": 843,
   "metadata": {},
   "outputs": [],
   "source": [
    "top_books['Author']=author"
   ]
  },
  {
   "cell_type": "code",
   "execution_count": 844,
   "metadata": {},
   "outputs": [],
   "source": [
    "top_books['Volume Sales']=sold"
   ]
  },
  {
   "cell_type": "code",
   "execution_count": 845,
   "metadata": {},
   "outputs": [],
   "source": [
    "top_books['Publisher']=publisher"
   ]
  },
  {
   "cell_type": "code",
   "execution_count": 846,
   "metadata": {},
   "outputs": [],
   "source": [
    "top_books['Genre']=genre"
   ]
  },
  {
   "cell_type": "code",
   "execution_count": 847,
   "metadata": {},
   "outputs": [
    {
     "data": {
      "text/html": [
       "<div>\n",
       "<style scoped>\n",
       "    .dataframe tbody tr th:only-of-type {\n",
       "        vertical-align: middle;\n",
       "    }\n",
       "\n",
       "    .dataframe tbody tr th {\n",
       "        vertical-align: top;\n",
       "    }\n",
       "\n",
       "    .dataframe thead th {\n",
       "        text-align: right;\n",
       "    }\n",
       "</style>\n",
       "<table border=\"1\" class=\"dataframe\">\n",
       "  <thead>\n",
       "    <tr style=\"text-align: right;\">\n",
       "      <th></th>\n",
       "      <th>Title</th>\n",
       "      <th>Author</th>\n",
       "      <th>Volume Sales</th>\n",
       "      <th>Publisher</th>\n",
       "      <th>Genre</th>\n",
       "    </tr>\n",
       "  </thead>\n",
       "  <tbody>\n",
       "    <tr>\n",
       "      <th>0</th>\n",
       "      <td>Da Vinci Code,The</td>\n",
       "      <td>Brown, Dan</td>\n",
       "      <td>5,094,805</td>\n",
       "      <td>Transworld</td>\n",
       "      <td>Crime, Thriller &amp; Adventure</td>\n",
       "    </tr>\n",
       "    <tr>\n",
       "      <th>1</th>\n",
       "      <td>Harry Potter and the Deathly Hallows</td>\n",
       "      <td>Rowling, J.K.</td>\n",
       "      <td>4,475,152</td>\n",
       "      <td>Bloomsbury</td>\n",
       "      <td>Children's Fiction</td>\n",
       "    </tr>\n",
       "    <tr>\n",
       "      <th>2</th>\n",
       "      <td>Harry Potter and the Philosopher's Stone</td>\n",
       "      <td>Rowling, J.K.</td>\n",
       "      <td>4,200,654</td>\n",
       "      <td>Bloomsbury</td>\n",
       "      <td>Children's Fiction</td>\n",
       "    </tr>\n",
       "    <tr>\n",
       "      <th>3</th>\n",
       "      <td>Harry Potter and the Order of the Phoenix</td>\n",
       "      <td>Rowling, J.K.</td>\n",
       "      <td>4,179,479</td>\n",
       "      <td>Bloomsbury</td>\n",
       "      <td>Children's Fiction</td>\n",
       "    </tr>\n",
       "    <tr>\n",
       "      <th>4</th>\n",
       "      <td>Fifty Shades of Grey</td>\n",
       "      <td>James, E. L.</td>\n",
       "      <td>3,758,936</td>\n",
       "      <td>Random House</td>\n",
       "      <td>Romance &amp; Sagas</td>\n",
       "    </tr>\n",
       "    <tr>\n",
       "      <th>...</th>\n",
       "      <td>...</td>\n",
       "      <td>...</td>\n",
       "      <td>...</td>\n",
       "      <td>...</td>\n",
       "      <td>...</td>\n",
       "    </tr>\n",
       "    <tr>\n",
       "      <th>95</th>\n",
       "      <td>Ghost,The</td>\n",
       "      <td>Harris, Robert</td>\n",
       "      <td>807,311</td>\n",
       "      <td>Random House</td>\n",
       "      <td>General &amp; Literary Fiction</td>\n",
       "    </tr>\n",
       "    <tr>\n",
       "      <th>96</th>\n",
       "      <td>Happy Days with the Naked Chef</td>\n",
       "      <td>Oliver, Jamie</td>\n",
       "      <td>794,201</td>\n",
       "      <td>Penguin</td>\n",
       "      <td>Food &amp; Drink: General</td>\n",
       "    </tr>\n",
       "    <tr>\n",
       "      <th>97</th>\n",
       "      <td>Hunger Games,The:Hunger Games Trilogy</td>\n",
       "      <td>Collins, Suzanne</td>\n",
       "      <td>792,187</td>\n",
       "      <td>Scholastic Ltd.</td>\n",
       "      <td>Young Adult Fiction</td>\n",
       "    </tr>\n",
       "    <tr>\n",
       "      <th>98</th>\n",
       "      <td>Lost Boy,The:A Foster Child's Search for the L...</td>\n",
       "      <td>Pelzer, Dave</td>\n",
       "      <td>791,507</td>\n",
       "      <td>Orion</td>\n",
       "      <td>Biography: General</td>\n",
       "    </tr>\n",
       "    <tr>\n",
       "      <th>99</th>\n",
       "      <td>Jamie's Ministry of Food:Anyone Can Learn to C...</td>\n",
       "      <td>Oliver, Jamie</td>\n",
       "      <td>791,095</td>\n",
       "      <td>Penguin</td>\n",
       "      <td>Food &amp; Drink: General</td>\n",
       "    </tr>\n",
       "  </tbody>\n",
       "</table>\n",
       "<p>100 rows × 5 columns</p>\n",
       "</div>"
      ],
      "text/plain": [
       "                                                Title            Author  \\\n",
       "0                                   Da Vinci Code,The        Brown, Dan   \n",
       "1                Harry Potter and the Deathly Hallows     Rowling, J.K.   \n",
       "2            Harry Potter and the Philosopher's Stone     Rowling, J.K.   \n",
       "3           Harry Potter and the Order of the Phoenix     Rowling, J.K.   \n",
       "4                                Fifty Shades of Grey      James, E. L.   \n",
       "..                                                ...               ...   \n",
       "95                                          Ghost,The    Harris, Robert   \n",
       "96                     Happy Days with the Naked Chef     Oliver, Jamie   \n",
       "97              Hunger Games,The:Hunger Games Trilogy  Collins, Suzanne   \n",
       "98  Lost Boy,The:A Foster Child's Search for the L...      Pelzer, Dave   \n",
       "99  Jamie's Ministry of Food:Anyone Can Learn to C...     Oliver, Jamie   \n",
       "\n",
       "   Volume Sales        Publisher                        Genre  \n",
       "0     5,094,805       Transworld  Crime, Thriller & Adventure  \n",
       "1     4,475,152       Bloomsbury           Children's Fiction  \n",
       "2     4,200,654       Bloomsbury           Children's Fiction  \n",
       "3     4,179,479       Bloomsbury           Children's Fiction  \n",
       "4     3,758,936     Random House              Romance & Sagas  \n",
       "..          ...              ...                          ...  \n",
       "95      807,311     Random House   General & Literary Fiction  \n",
       "96      794,201          Penguin        Food & Drink: General  \n",
       "97      792,187  Scholastic Ltd.          Young Adult Fiction  \n",
       "98      791,507            Orion           Biography: General  \n",
       "99      791,095          Penguin        Food & Drink: General  \n",
       "\n",
       "[100 rows x 5 columns]"
      ]
     },
     "execution_count": 847,
     "metadata": {},
     "output_type": "execute_result"
    }
   ],
   "source": [
    "top_books"
   ]
  },
  {
   "cell_type": "markdown",
   "metadata": {},
   "source": [
    "# Solution 9"
   ]
  },
  {
   "cell_type": "code",
   "execution_count": 848,
   "metadata": {},
   "outputs": [
    {
     "name": "stderr",
     "output_type": "stream",
     "text": [
      "<ipython-input-848-ec23c7972a0a>:1: DeprecationWarning: executable_path has been deprecated, please pass in a Service object\n",
      "  driver=webdriver.Chrome('chromedriver.exe')\n"
     ]
    }
   ],
   "source": [
    "driver=webdriver.Chrome('chromedriver.exe')"
   ]
  },
  {
   "cell_type": "code",
   "execution_count": 849,
   "metadata": {},
   "outputs": [],
   "source": [
    "driver.get('https://www.imdb.com/list/ls095964455/')"
   ]
  },
  {
   "cell_type": "code",
   "execution_count": 850,
   "metadata": {},
   "outputs": [],
   "source": [
    "title=[]"
   ]
  },
  {
   "cell_type": "code",
   "execution_count": 851,
   "metadata": {},
   "outputs": [],
   "source": [
    "yr_spn=[]"
   ]
  },
  {
   "cell_type": "code",
   "execution_count": 852,
   "metadata": {},
   "outputs": [],
   "source": [
    "genre=[]"
   ]
  },
  {
   "cell_type": "code",
   "execution_count": 853,
   "metadata": {},
   "outputs": [],
   "source": [
    "runtime=[]"
   ]
  },
  {
   "cell_type": "code",
   "execution_count": 854,
   "metadata": {},
   "outputs": [],
   "source": [
    "rating=[]"
   ]
  },
  {
   "cell_type": "code",
   "execution_count": 855,
   "metadata": {},
   "outputs": [],
   "source": [
    "votes=[]"
   ]
  },
  {
   "cell_type": "code",
   "execution_count": 859,
   "metadata": {},
   "outputs": [
    {
     "name": "stderr",
     "output_type": "stream",
     "text": [
      "<ipython-input-859-41e118400040>:1: DeprecationWarning: find_elements_by_* commands are deprecated. Please use find_elements() instead\n",
      "  tit_name=driver.find_elements_by_xpath('//h3[@class=\"lister-item-header\"]')\n"
     ]
    }
   ],
   "source": [
    "tit_name=driver.find_elements_by_xpath('//h3[@class=\"lister-item-header\"]')"
   ]
  },
  {
   "cell_type": "code",
   "execution_count": 860,
   "metadata": {},
   "outputs": [],
   "source": [
    "for i in tit_name:\n",
    "    nam=i.text\n",
    "    title.append(nam)"
   ]
  },
  {
   "cell_type": "code",
   "execution_count": 861,
   "metadata": {},
   "outputs": [
    {
     "data": {
      "text/plain": [
       "['1. Game of Thrones (2011–2019)',\n",
       " '2. Stranger Things (2016– )',\n",
       " '3. The Walking Dead (2010–2022)',\n",
       " '4. 13 Reasons Why (2017–2020)',\n",
       " '5. The 100 (2014–2020)',\n",
       " '6. Orange Is the New Black (2013–2019)',\n",
       " '7. Riverdale (2017– )',\n",
       " \"8. Grey's Anatomy (2005– )\",\n",
       " '9. The Flash (2014– )',\n",
       " '10. Arrow (2012–2020)',\n",
       " '11. Money Heist (2017–2021)',\n",
       " '12. The Big Bang Theory (2007–2019)',\n",
       " '13. Black Mirror (2011– )',\n",
       " '14. Sherlock (2010–2017)',\n",
       " '15. Vikings (2013–2020)',\n",
       " '16. Pretty Little Liars (2010–2017)',\n",
       " '17. The Vampire Diaries (2009–2017)',\n",
       " '18. American Horror Story (2011– )',\n",
       " '19. Breaking Bad (2008–2013)',\n",
       " '20. Lucifer (2016–2021)',\n",
       " '21. Supernatural (2005–2020)',\n",
       " '22. Prison Break (2005–2017)',\n",
       " '23. How to Get Away with Murder (2014–2020)',\n",
       " '24. Teen Wolf (2011–2017)',\n",
       " '25. The Simpsons (1989– )',\n",
       " '26. Once Upon a Time (2011–2018)',\n",
       " '27. Narcos (2015–2017)',\n",
       " '28. Daredevil (2015–2018)',\n",
       " '29. Friends (1994–2004)',\n",
       " '30. How I Met Your Mother (2005–2014)',\n",
       " '31. Suits (2011–2019)',\n",
       " '32. Mr. Robot (2015–2019)',\n",
       " '33. The Originals (2013–2018)',\n",
       " '34. Supergirl (2015–2021)',\n",
       " '35. Gossip Girl (2007–2012)',\n",
       " '36. Sense8 (2015–2018)',\n",
       " '37. Gotham (2014–2019)',\n",
       " '38. Westworld (2016– )',\n",
       " '39. Jessica Jones (2015–2019)',\n",
       " '40. Modern Family (2009–2020)',\n",
       " '41. Rick and Morty (2013– )',\n",
       " '42. Shadowhunters (2016–2019)',\n",
       " '43. The End of the F***ing World (2017–2019)',\n",
       " '44. House of Cards (2013–2018)',\n",
       " '45. Dark (2017–2020)',\n",
       " '46. Elite (2018– )',\n",
       " '47. Sex Education (2019– )',\n",
       " '48. Shameless (2011–2021)',\n",
       " '49. New Girl (2011–2018)',\n",
       " '50. Agents of S.H.I.E.L.D. (2013–2020)',\n",
       " '51. You (2018– )',\n",
       " '52. Dexter (2006–2013)',\n",
       " '53. Fear the Walking Dead (2015– )',\n",
       " '54. Family Guy (1999– )',\n",
       " '55. The Blacklist (2013– )',\n",
       " '56. Lost (2004–2010)',\n",
       " '57. Peaky Blinders (2013– )',\n",
       " '58. House (2004–2012)',\n",
       " '59. Quantico (2015–2018)',\n",
       " '60. Orphan Black (2013–2017)',\n",
       " '61. Homeland (2011–2020)',\n",
       " '62. Blindspot (2015–2020)',\n",
       " \"63. DC's Legends of Tomorrow (2016– )\",\n",
       " \"64. The Handmaid's Tale (2017– )\",\n",
       " '65. Chilling Adventures of Sabrina (2018–2020)',\n",
       " '66. The Good Doctor (2017– )',\n",
       " '67. Jane the Virgin (2014–2019)',\n",
       " '68. Glee (2009–2015)',\n",
       " '69. South Park (1997– )',\n",
       " '70. Brooklyn Nine-Nine (2013–2021)',\n",
       " '71. Under the Dome (2013–2015)',\n",
       " '72. The Umbrella Academy (2019– )',\n",
       " '73. True Detective (2014–2019)',\n",
       " '74. The OA (2016–2019)',\n",
       " '75. Desperate Housewives (2004–2012)',\n",
       " '76. Better Call Saul (2015–2022)',\n",
       " '77. Bates Motel (2013–2017)',\n",
       " '78. The Punisher (2017–2019)',\n",
       " '79. Atypical (2017–2021)',\n",
       " '80. Dynasty (2017– )',\n",
       " '81. This Is Us (2016–2022)',\n",
       " '82. The Good Place (2016–2020)',\n",
       " '83. Iron Fist (2017–2018)',\n",
       " '84. The Rain (2018–2020)',\n",
       " '85. Mindhunter (2017–2019)',\n",
       " '86. Revenge (2011–2015)',\n",
       " '87. Luke Cage (2016–2018)',\n",
       " '88. Scandal (2012–2018)',\n",
       " '89. The Defenders (2017)',\n",
       " '90. Big Little Lies (2017–2019)',\n",
       " '91. Insatiable (2018–2019)',\n",
       " '92. The Mentalist (2008–2015)',\n",
       " '93. The Crown (2016– )',\n",
       " '94. Chernobyl (2019)',\n",
       " '95. iZombie (2015–2019)',\n",
       " '96. Reign (2013–2017)',\n",
       " '97. A Series of Unfortunate Events (2017–2019)',\n",
       " '98. Criminal Minds (2005–2020)',\n",
       " '99. Scream: The TV Series (2015–2019)',\n",
       " '100. The Haunting of Hill House (2018)']"
      ]
     },
     "execution_count": 861,
     "metadata": {},
     "output_type": "execute_result"
    }
   ],
   "source": [
    "title"
   ]
  },
  {
   "cell_type": "code",
   "execution_count": 862,
   "metadata": {},
   "outputs": [
    {
     "name": "stderr",
     "output_type": "stream",
     "text": [
      "<ipython-input-862-eac67ef7fecf>:1: DeprecationWarning: find_elements_by_* commands are deprecated. Please use find_elements() instead\n",
      "  tit_yr=driver.find_elements_by_xpath('//span[@class=\"lister-item-year text-muted unbold\"]')\n"
     ]
    }
   ],
   "source": [
    "tit_yr=driver.find_elements_by_xpath('//span[@class=\"lister-item-year text-muted unbold\"]')"
   ]
  },
  {
   "cell_type": "code",
   "execution_count": 863,
   "metadata": {},
   "outputs": [],
   "source": [
    "for i in tit_yr:\n",
    "    yr=i.text\n",
    "    yr_spn.append(yr)"
   ]
  },
  {
   "cell_type": "code",
   "execution_count": 864,
   "metadata": {},
   "outputs": [
    {
     "data": {
      "text/plain": [
       "['(2011–2019)',\n",
       " '(2016– )',\n",
       " '(2010–2022)',\n",
       " '(2017–2020)',\n",
       " '(2014–2020)',\n",
       " '(2013–2019)',\n",
       " '(2017– )',\n",
       " '(2005– )',\n",
       " '(2014– )',\n",
       " '(2012–2020)',\n",
       " '(2017–2021)',\n",
       " '(2007–2019)',\n",
       " '(2011– )',\n",
       " '(2010–2017)',\n",
       " '(2013–2020)',\n",
       " '(2010–2017)',\n",
       " '(2009–2017)',\n",
       " '(2011– )',\n",
       " '(2008–2013)',\n",
       " '(2016–2021)',\n",
       " '(2005–2020)',\n",
       " '(2005–2017)',\n",
       " '(2014–2020)',\n",
       " '(2011–2017)',\n",
       " '(1989– )',\n",
       " '(2011–2018)',\n",
       " '(2015–2017)',\n",
       " '(2015–2018)',\n",
       " '(1994–2004)',\n",
       " '(2005–2014)',\n",
       " '(2011–2019)',\n",
       " '(2015–2019)',\n",
       " '(2013–2018)',\n",
       " '(2015–2021)',\n",
       " '(2007–2012)',\n",
       " '(2015–2018)',\n",
       " '(2014–2019)',\n",
       " '(2016– )',\n",
       " '(2015–2019)',\n",
       " '(2009–2020)',\n",
       " '(2013– )',\n",
       " '(2016–2019)',\n",
       " '(2017–2019)',\n",
       " '(2013–2018)',\n",
       " '(2017–2020)',\n",
       " '(2018– )',\n",
       " '(2019– )',\n",
       " '(2011–2021)',\n",
       " '(2011–2018)',\n",
       " '(2013–2020)',\n",
       " '(2018– )',\n",
       " '(2006–2013)',\n",
       " '(2015– )',\n",
       " '(1999– )',\n",
       " '(2013– )',\n",
       " '(2004–2010)',\n",
       " '(2013– )',\n",
       " '(2004–2012)',\n",
       " '(2015–2018)',\n",
       " '(2013–2017)',\n",
       " '(2011–2020)',\n",
       " '(2015–2020)',\n",
       " '(2016– )',\n",
       " '(2017– )',\n",
       " '(2018–2020)',\n",
       " '(2017– )',\n",
       " '(2014–2019)',\n",
       " '(2009–2015)',\n",
       " '(1997– )',\n",
       " '(2013–2021)',\n",
       " '(2013–2015)',\n",
       " '(2019– )',\n",
       " '(2014–2019)',\n",
       " '(2016–2019)',\n",
       " '(2004–2012)',\n",
       " '(2015–2022)',\n",
       " '(2013–2017)',\n",
       " '(2017–2019)',\n",
       " '(2017–2021)',\n",
       " '(2017– )',\n",
       " '(2016–2022)',\n",
       " '(2016–2020)',\n",
       " '(2017–2018)',\n",
       " '(2018–2020)',\n",
       " '(2017–2019)',\n",
       " '(2011–2015)',\n",
       " '(2016–2018)',\n",
       " '(2012–2018)',\n",
       " '(2017)',\n",
       " '(2017–2019)',\n",
       " '(2018–2019)',\n",
       " '(2008–2015)',\n",
       " '(2016– )',\n",
       " '(2019)',\n",
       " '(2015–2019)',\n",
       " '(2013–2017)',\n",
       " '(2017–2019)',\n",
       " '(2005–2020)',\n",
       " '(2015–2019)',\n",
       " '(2018)']"
      ]
     },
     "execution_count": 864,
     "metadata": {},
     "output_type": "execute_result"
    }
   ],
   "source": [
    "yr_spn"
   ]
  },
  {
   "cell_type": "code",
   "execution_count": 865,
   "metadata": {},
   "outputs": [
    {
     "data": {
      "text/plain": [
       "100"
      ]
     },
     "execution_count": 865,
     "metadata": {},
     "output_type": "execute_result"
    }
   ],
   "source": [
    "len(yr_spn)"
   ]
  },
  {
   "cell_type": "code",
   "execution_count": 866,
   "metadata": {},
   "outputs": [
    {
     "name": "stderr",
     "output_type": "stream",
     "text": [
      "<ipython-input-866-2cf30dfd355f>:1: DeprecationWarning: find_elements_by_* commands are deprecated. Please use find_elements() instead\n",
      "  tit_genre=driver.find_elements_by_xpath('//p[@class=\"text-muted text-small\"]/span[5]')\n"
     ]
    }
   ],
   "source": [
    "tit_genre=driver.find_elements_by_xpath('//p[@class=\"text-muted text-small\"]/span[5]')"
   ]
  },
  {
   "cell_type": "code",
   "execution_count": 867,
   "metadata": {},
   "outputs": [],
   "source": [
    "for i in tit_genre:\n",
    "    gen=i.text\n",
    "    genre.append(gen)"
   ]
  },
  {
   "cell_type": "code",
   "execution_count": 868,
   "metadata": {},
   "outputs": [
    {
     "data": {
      "text/plain": [
       "['Action, Adventure, Drama',\n",
       " 'Drama, Fantasy, Horror',\n",
       " 'Drama, Horror, Thriller',\n",
       " 'Drama, Mystery, Thriller',\n",
       " 'Drama, Mystery, Sci-Fi',\n",
       " 'Comedy, Crime, Drama',\n",
       " 'Crime, Drama, Mystery',\n",
       " 'Drama, Romance',\n",
       " 'Action, Adventure, Drama',\n",
       " 'Action, Adventure, Crime',\n",
       " 'Action, Crime, Drama',\n",
       " 'Comedy, Romance',\n",
       " 'Drama, Sci-Fi, Thriller',\n",
       " 'Crime, Drama, Mystery',\n",
       " 'Action, Adventure, Drama',\n",
       " 'Drama, Mystery, Romance',\n",
       " 'Drama, Fantasy, Horror',\n",
       " 'Drama, Horror, Thriller',\n",
       " 'Crime, Drama, Thriller',\n",
       " 'Crime, Drama, Fantasy',\n",
       " 'Drama, Fantasy, Horror',\n",
       " 'Action, Crime, Drama',\n",
       " 'Crime, Drama, Mystery',\n",
       " 'Action, Drama, Fantasy',\n",
       " 'Animation, Comedy',\n",
       " 'Adventure, Fantasy, Romance',\n",
       " 'Biography, Crime, Drama',\n",
       " 'Action, Crime, Drama',\n",
       " 'Comedy, Romance',\n",
       " 'Comedy, Romance',\n",
       " 'Comedy, Drama',\n",
       " 'Crime, Drama, Thriller',\n",
       " 'Drama, Fantasy, Horror',\n",
       " 'Action, Adventure, Drama',\n",
       " 'Drama, Romance',\n",
       " 'Drama, Mystery, Sci-Fi',\n",
       " 'Action, Crime, Drama',\n",
       " 'Drama, Mystery, Sci-Fi',\n",
       " 'Action, Crime, Drama',\n",
       " 'Comedy, Drama, Romance',\n",
       " 'Animation, Adventure, Comedy',\n",
       " 'Action, Drama, Fantasy',\n",
       " 'Adventure, Comedy, Crime',\n",
       " 'Drama',\n",
       " 'Crime, Drama, Mystery',\n",
       " 'Crime, Drama, Thriller',\n",
       " 'Comedy, Drama',\n",
       " 'Comedy, Drama',\n",
       " 'Comedy',\n",
       " 'Action, Adventure, Drama',\n",
       " 'Crime, Drama, Romance',\n",
       " 'Crime, Drama, Mystery',\n",
       " 'Drama, Horror, Sci-Fi',\n",
       " 'Animation, Comedy',\n",
       " 'Crime, Drama, Mystery',\n",
       " 'Adventure, Drama, Fantasy',\n",
       " 'Crime, Drama',\n",
       " 'Drama, Mystery',\n",
       " 'Crime, Drama, Mystery',\n",
       " 'Action, Drama, Sci-Fi',\n",
       " 'Crime, Drama, Mystery',\n",
       " 'Action, Crime, Drama',\n",
       " 'Action, Adventure, Drama',\n",
       " 'Drama, Sci-Fi, Thriller',\n",
       " 'Drama, Fantasy, Horror',\n",
       " 'Drama',\n",
       " 'Comedy',\n",
       " 'Comedy, Drama, Music',\n",
       " 'Animation, Comedy',\n",
       " 'Comedy, Crime',\n",
       " 'Drama, Mystery, Sci-Fi',\n",
       " 'Action, Adventure, Comedy',\n",
       " 'Crime, Drama, Mystery',\n",
       " 'Drama, Fantasy, Mystery',\n",
       " 'Comedy, Drama, Mystery',\n",
       " 'Crime, Drama',\n",
       " 'Drama, Horror, Mystery',\n",
       " 'Action, Crime, Drama',\n",
       " 'Comedy, Drama',\n",
       " 'Drama',\n",
       " 'Comedy, Drama, Romance',\n",
       " 'Comedy, Drama, Fantasy',\n",
       " 'Action, Adventure, Crime',\n",
       " 'Drama, Sci-Fi, Thriller',\n",
       " 'Crime, Drama, Thriller',\n",
       " 'Drama, Mystery, Thriller',\n",
       " 'Action, Crime, Drama',\n",
       " 'Drama, Thriller',\n",
       " 'Action, Adventure, Crime',\n",
       " 'Crime, Drama, Mystery',\n",
       " 'Comedy, Drama, Thriller',\n",
       " 'Crime, Drama, Mystery',\n",
       " 'Biography, Drama, History',\n",
       " 'Drama, History, Thriller',\n",
       " 'Comedy, Crime, Drama',\n",
       " 'Drama, Fantasy',\n",
       " 'Adventure, Comedy, Drama',\n",
       " 'Crime, Drama, Mystery',\n",
       " 'Comedy, Crime, Drama',\n",
       " 'Drama, Horror, Mystery']"
      ]
     },
     "execution_count": 868,
     "metadata": {},
     "output_type": "execute_result"
    }
   ],
   "source": [
    "genre"
   ]
  },
  {
   "cell_type": "code",
   "execution_count": 869,
   "metadata": {},
   "outputs": [
    {
     "name": "stderr",
     "output_type": "stream",
     "text": [
      "<ipython-input-869-b1d79c7b1b0e>:1: DeprecationWarning: find_elements_by_* commands are deprecated. Please use find_elements() instead\n",
      "  tit_rntm=driver.find_elements_by_xpath('//p[@class=\"text-muted text-small\"]/span[3]')\n"
     ]
    }
   ],
   "source": [
    "tit_rntm=driver.find_elements_by_xpath('//p[@class=\"text-muted text-small\"]/span[3]')"
   ]
  },
  {
   "cell_type": "code",
   "execution_count": 870,
   "metadata": {},
   "outputs": [],
   "source": [
    "for i in tit_rntm:\n",
    "    rnt=i.text\n",
    "    runtime.append(rnt)"
   ]
  },
  {
   "cell_type": "code",
   "execution_count": 871,
   "metadata": {},
   "outputs": [
    {
     "data": {
      "text/plain": [
       "['57 min',\n",
       " '51 min',\n",
       " '44 min',\n",
       " '60 min',\n",
       " '43 min',\n",
       " '59 min',\n",
       " '45 min',\n",
       " '41 min',\n",
       " '43 min',\n",
       " '42 min',\n",
       " '70 min',\n",
       " '22 min',\n",
       " '60 min',\n",
       " '88 min',\n",
       " '44 min',\n",
       " '44 min',\n",
       " '43 min',\n",
       " '60 min',\n",
       " '49 min',\n",
       " '42 min',\n",
       " '44 min',\n",
       " '44 min',\n",
       " '43 min',\n",
       " '41 min',\n",
       " '22 min',\n",
       " '60 min',\n",
       " '49 min',\n",
       " '54 min',\n",
       " '22 min',\n",
       " '22 min',\n",
       " '44 min',\n",
       " '49 min',\n",
       " '45 min',\n",
       " '43 min',\n",
       " '42 min',\n",
       " '60 min',\n",
       " '42 min',\n",
       " '62 min',\n",
       " '56 min',\n",
       " '22 min',\n",
       " '23 min',\n",
       " '42 min',\n",
       " '25 min',\n",
       " '51 min',\n",
       " '60 min',\n",
       " '60 min',\n",
       " '45 min',\n",
       " '46 min',\n",
       " '22 min',\n",
       " '45 min',\n",
       " '45 min',\n",
       " '53 min',\n",
       " '44 min',\n",
       " '22 min',\n",
       " '43 min',\n",
       " '44 min',\n",
       " '60 min',\n",
       " '44 min',\n",
       " '42 min',\n",
       " '44 min',\n",
       " '55 min',\n",
       " '42 min',\n",
       " '42 min',\n",
       " '60 min',\n",
       " '60 min',\n",
       " '41 min',\n",
       " '60 min',\n",
       " '44 min',\n",
       " '22 min',\n",
       " '22 min',\n",
       " '43 min',\n",
       " '60 min',\n",
       " '55 min',\n",
       " '60 min',\n",
       " '45 min',\n",
       " '46 min',\n",
       " '45 min',\n",
       " '53 min',\n",
       " '30 min',\n",
       " '42 min',\n",
       " '45 min',\n",
       " '22 min',\n",
       " '55 min',\n",
       " '45 min',\n",
       " '60 min',\n",
       " '44 min',\n",
       " '55 min',\n",
       " '43 min',\n",
       " '50 min',\n",
       " '60 min',\n",
       " '45 min',\n",
       " '43 min',\n",
       " '58 min',\n",
       " '330 min',\n",
       " '42 min',\n",
       " '42 min',\n",
       " '50 min',\n",
       " '42 min',\n",
       " '45 min',\n",
       " '572 min']"
      ]
     },
     "execution_count": 871,
     "metadata": {},
     "output_type": "execute_result"
    }
   ],
   "source": [
    "runtime"
   ]
  },
  {
   "cell_type": "code",
   "execution_count": 872,
   "metadata": {},
   "outputs": [
    {
     "name": "stderr",
     "output_type": "stream",
     "text": [
      "<ipython-input-872-0272c9359b22>:1: DeprecationWarning: find_elements_by_* commands are deprecated. Please use find_elements() instead\n",
      "  tit_rating=driver.find_elements_by_xpath('//div[@class=\"ipl-rating-star small\"]/span[2]')\n"
     ]
    }
   ],
   "source": [
    "tit_rating=driver.find_elements_by_xpath('//div[@class=\"ipl-rating-star small\"]/span[2]')"
   ]
  },
  {
   "cell_type": "code",
   "execution_count": 874,
   "metadata": {},
   "outputs": [],
   "source": [
    "for i in tit_rating:\n",
    "    rat=i.text\n",
    "    rating.append(rat)"
   ]
  },
  {
   "cell_type": "code",
   "execution_count": 875,
   "metadata": {},
   "outputs": [
    {
     "data": {
      "text/plain": [
       "['9.2',\n",
       " '8.7',\n",
       " '8.2',\n",
       " '7.5',\n",
       " '7.6',\n",
       " '8',\n",
       " '6.7',\n",
       " '7.5',\n",
       " '7.6',\n",
       " '7.5',\n",
       " '8.2',\n",
       " '8.1',\n",
       " '8.8',\n",
       " '9.1',\n",
       " '8.5',\n",
       " '7.4',\n",
       " '7.7',\n",
       " '8',\n",
       " '9.4',\n",
       " '8.1',\n",
       " '8.4',\n",
       " '8.3',\n",
       " '8.1',\n",
       " '7.6',\n",
       " '8.6',\n",
       " '7.7',\n",
       " '8.8',\n",
       " '8.6',\n",
       " '8.8',\n",
       " '8.3',\n",
       " '8.4',\n",
       " '8.5',\n",
       " '8.2',\n",
       " '6.2',\n",
       " '7.4',\n",
       " '8.3',\n",
       " '7.8',\n",
       " '8.6',\n",
       " '7.9',\n",
       " '8.4',\n",
       " '9.2',\n",
       " '6.6',\n",
       " '8.1',\n",
       " '8.7',\n",
       " '8.8',\n",
       " '7.4',\n",
       " '8.3',\n",
       " '8.5',\n",
       " '7.7',\n",
       " '7.5',\n",
       " '7.7',\n",
       " '8.6',\n",
       " '6.9',\n",
       " '8.1',\n",
       " '8',\n",
       " '8.3',\n",
       " '8.8',\n",
       " '8.7',\n",
       " '6.7',\n",
       " '8.3',\n",
       " '8.3',\n",
       " '7.4',\n",
       " '6.8',\n",
       " '8.4',\n",
       " '7.5',\n",
       " '8.1',\n",
       " '7.8',\n",
       " '6.7',\n",
       " '8.7',\n",
       " '8.4',\n",
       " '6.6',\n",
       " '8',\n",
       " '8.9',\n",
       " '7.8',\n",
       " '7.5',\n",
       " '8.8',\n",
       " '8.1',\n",
       " '8.5',\n",
       " '8.3',\n",
       " '7.3',\n",
       " '8.6',\n",
       " '8.2',\n",
       " '6.4',\n",
       " '6.3',\n",
       " '8.6',\n",
       " '7.8',\n",
       " '7.3',\n",
       " '7.7',\n",
       " '7.3',\n",
       " '8.5',\n",
       " '6.5',\n",
       " '8.1',\n",
       " '8.6',\n",
       " '9.4',\n",
       " '7.8',\n",
       " '7.5',\n",
       " '7.8',\n",
       " '8.1',\n",
       " '7.1',\n",
       " '8.6']"
      ]
     },
     "execution_count": 875,
     "metadata": {},
     "output_type": "execute_result"
    }
   ],
   "source": [
    "rating"
   ]
  },
  {
   "cell_type": "code",
   "execution_count": 879,
   "metadata": {},
   "outputs": [
    {
     "name": "stderr",
     "output_type": "stream",
     "text": [
      "<ipython-input-879-ee53af5d2bda>:1: DeprecationWarning: find_elements_by_* commands are deprecated. Please use find_elements() instead\n",
      "  tit_votes=driver.find_elements_by_xpath('//p[@class=\"text-muted text-small\"]/span[@name=\"nv\"]')\n"
     ]
    }
   ],
   "source": [
    "tit_votes=driver.find_elements_by_xpath('//p[@class=\"text-muted text-small\"]/span[@name=\"nv\"]')"
   ]
  },
  {
   "cell_type": "code",
   "execution_count": 880,
   "metadata": {},
   "outputs": [],
   "source": [
    "for i in tit_votes:\n",
    "    vot=i.text\n",
    "    votes.append(vot)"
   ]
  },
  {
   "cell_type": "code",
   "execution_count": 881,
   "metadata": {},
   "outputs": [
    {
     "data": {
      "text/plain": [
       "['Votes:',\n",
       " 'Votes:',\n",
       " 'Votes:',\n",
       " 'Votes:',\n",
       " 'Votes:',\n",
       " 'Votes:',\n",
       " 'Votes:',\n",
       " 'Votes:',\n",
       " 'Votes:',\n",
       " 'Votes:',\n",
       " 'Votes:',\n",
       " 'Votes:',\n",
       " 'Votes:',\n",
       " 'Votes:',\n",
       " 'Votes:',\n",
       " 'Votes:',\n",
       " 'Votes:',\n",
       " 'Votes:',\n",
       " 'Votes:',\n",
       " 'Votes:',\n",
       " 'Votes:',\n",
       " 'Votes:',\n",
       " 'Votes:',\n",
       " 'Votes:',\n",
       " 'Votes:',\n",
       " 'Votes:',\n",
       " 'Votes:',\n",
       " 'Votes:',\n",
       " 'Votes:',\n",
       " 'Votes:',\n",
       " 'Votes:',\n",
       " 'Votes:',\n",
       " 'Votes:',\n",
       " 'Votes:',\n",
       " 'Votes:',\n",
       " 'Votes:',\n",
       " 'Votes:',\n",
       " 'Votes:',\n",
       " 'Votes:',\n",
       " 'Votes:',\n",
       " 'Votes:',\n",
       " 'Votes:',\n",
       " 'Votes:',\n",
       " 'Votes:',\n",
       " 'Votes:',\n",
       " 'Votes:',\n",
       " 'Votes:',\n",
       " 'Votes:',\n",
       " 'Votes:',\n",
       " 'Votes:',\n",
       " 'Votes:',\n",
       " 'Votes:',\n",
       " 'Votes:',\n",
       " 'Votes:',\n",
       " 'Votes:',\n",
       " 'Votes:',\n",
       " 'Votes:',\n",
       " 'Votes:',\n",
       " 'Votes:',\n",
       " 'Votes:',\n",
       " 'Votes:',\n",
       " 'Votes:',\n",
       " 'Votes:',\n",
       " 'Votes:',\n",
       " 'Votes:',\n",
       " 'Votes:',\n",
       " 'Votes:',\n",
       " 'Votes:',\n",
       " 'Votes:',\n",
       " 'Votes:',\n",
       " 'Votes:',\n",
       " 'Votes:',\n",
       " 'Votes:',\n",
       " 'Votes:',\n",
       " 'Votes:',\n",
       " 'Votes:',\n",
       " 'Votes:',\n",
       " 'Votes:',\n",
       " 'Votes:',\n",
       " 'Votes:',\n",
       " 'Votes:',\n",
       " 'Votes:',\n",
       " 'Votes:',\n",
       " 'Votes:',\n",
       " 'Votes:',\n",
       " 'Votes:',\n",
       " 'Votes:',\n",
       " 'Votes:',\n",
       " 'Votes:',\n",
       " 'Votes:',\n",
       " 'Votes:',\n",
       " 'Votes:',\n",
       " 'Votes:',\n",
       " 'Votes:',\n",
       " 'Votes:',\n",
       " 'Votes:',\n",
       " 'Votes:',\n",
       " 'Votes:',\n",
       " 'Votes:',\n",
       " 'Votes:',\n",
       " '1,898,542',\n",
       " '929,845',\n",
       " '911,765',\n",
       " '272,860',\n",
       " '233,285',\n",
       " '288,645',\n",
       " '132,444',\n",
       " '278,411',\n",
       " '327,022',\n",
       " '419,294',\n",
       " '401,832',\n",
       " '757,529',\n",
       " '486,907',\n",
       " '858,241',\n",
       " '476,532',\n",
       " '158,681',\n",
       " '300,215',\n",
       " '299,695',\n",
       " '1,605,927',\n",
       " '293,749',\n",
       " '413,677',\n",
       " '502,041',\n",
       " '140,536',\n",
       " '137,131',\n",
       " '383,693',\n",
       " '215,692',\n",
       " '386,664',\n",
       " '384,171',\n",
       " '910,460',\n",
       " '638,534',\n",
       " '382,572',\n",
       " '357,979',\n",
       " '126,130',\n",
       " '118,672',\n",
       " '163,559',\n",
       " '146,857',\n",
       " '219,777',\n",
       " '455,930',\n",
       " '201,641',\n",
       " '391,234',\n",
       " '441,653',\n",
       " '58,101',\n",
       " '165,986',\n",
       " '483,411',\n",
       " '329,270',\n",
       " '64,861',\n",
       " '232,100',\n",
       " '220,261',\n",
       " '206,694',\n",
       " '208,536',\n",
       " '199,423',\n",
       " '684,402',\n",
       " '121,823',\n",
       " '318,060',\n",
       " '223,359',\n",
       " '522,776',\n",
       " '423,393',\n",
       " '434,678',\n",
       " '59,078',\n",
       " '106,198',\n",
       " '327,567',\n",
       " '70,366',\n",
       " '99,000',\n",
       " '206,334',\n",
       " '85,831',\n",
       " '80,803',\n",
       " '44,012',\n",
       " '142,331',\n",
       " '346,562',\n",
       " '271,077',\n",
       " '103,803',\n",
       " '185,587',\n",
       " '526,936',\n",
       " '97,658',\n",
       " '122,270',\n",
       " '363,453',\n",
       " '102,602',\n",
       " '202,771',\n",
       " '78,230',\n",
       " '18,839',\n",
       " '120,307',\n",
       " '135,259',\n",
       " '121,655',\n",
       " '34,070',\n",
       " '248,045',\n",
       " '116,524',\n",
       " '122,488',\n",
       " '70,162',\n",
       " '97,090',\n",
       " '176,545',\n",
       " '25,399',\n",
       " '173,322',\n",
       " '178,437',\n",
       " '624,668',\n",
       " '64,046',\n",
       " '46,376',\n",
       " '57,196',\n",
       " '179,757',\n",
       " '37,662',\n",
       " '212,144']"
      ]
     },
     "execution_count": 881,
     "metadata": {},
     "output_type": "execute_result"
    }
   ],
   "source": [
    "votes"
   ]
  },
  {
   "cell_type": "code",
   "execution_count": 882,
   "metadata": {},
   "outputs": [],
   "source": [
    "top_series=pd.DataFrame({})"
   ]
  },
  {
   "cell_type": "code",
   "execution_count": 883,
   "metadata": {},
   "outputs": [],
   "source": [
    "top_series['Title']=title"
   ]
  },
  {
   "cell_type": "code",
   "execution_count": 884,
   "metadata": {},
   "outputs": [],
   "source": [
    "top_series['Runtime']=runtime"
   ]
  },
  {
   "cell_type": "code",
   "execution_count": 885,
   "metadata": {},
   "outputs": [],
   "source": [
    "top_series['Genre']=genre"
   ]
  },
  {
   "cell_type": "code",
   "execution_count": 886,
   "metadata": {},
   "outputs": [],
   "source": [
    "top_series['Rating']=rating"
   ]
  },
  {
   "cell_type": "code",
   "execution_count": 888,
   "metadata": {},
   "outputs": [],
   "source": [
    "top_series['Year Span']=yr_spn"
   ]
  },
  {
   "cell_type": "code",
   "execution_count": 889,
   "metadata": {},
   "outputs": [
    {
     "data": {
      "text/html": [
       "<div>\n",
       "<style scoped>\n",
       "    .dataframe tbody tr th:only-of-type {\n",
       "        vertical-align: middle;\n",
       "    }\n",
       "\n",
       "    .dataframe tbody tr th {\n",
       "        vertical-align: top;\n",
       "    }\n",
       "\n",
       "    .dataframe thead th {\n",
       "        text-align: right;\n",
       "    }\n",
       "</style>\n",
       "<table border=\"1\" class=\"dataframe\">\n",
       "  <thead>\n",
       "    <tr style=\"text-align: right;\">\n",
       "      <th></th>\n",
       "      <th>Title</th>\n",
       "      <th>Runtime</th>\n",
       "      <th>Genre</th>\n",
       "      <th>Rating</th>\n",
       "      <th>Year Span</th>\n",
       "    </tr>\n",
       "  </thead>\n",
       "  <tbody>\n",
       "    <tr>\n",
       "      <th>0</th>\n",
       "      <td>1. Game of Thrones (2011–2019)</td>\n",
       "      <td>57 min</td>\n",
       "      <td>Action, Adventure, Drama</td>\n",
       "      <td>9.2</td>\n",
       "      <td>(2011–2019)</td>\n",
       "    </tr>\n",
       "    <tr>\n",
       "      <th>1</th>\n",
       "      <td>2. Stranger Things (2016– )</td>\n",
       "      <td>51 min</td>\n",
       "      <td>Drama, Fantasy, Horror</td>\n",
       "      <td>8.7</td>\n",
       "      <td>(2016– )</td>\n",
       "    </tr>\n",
       "    <tr>\n",
       "      <th>2</th>\n",
       "      <td>3. The Walking Dead (2010–2022)</td>\n",
       "      <td>44 min</td>\n",
       "      <td>Drama, Horror, Thriller</td>\n",
       "      <td>8.2</td>\n",
       "      <td>(2010–2022)</td>\n",
       "    </tr>\n",
       "    <tr>\n",
       "      <th>3</th>\n",
       "      <td>4. 13 Reasons Why (2017–2020)</td>\n",
       "      <td>60 min</td>\n",
       "      <td>Drama, Mystery, Thriller</td>\n",
       "      <td>7.5</td>\n",
       "      <td>(2017–2020)</td>\n",
       "    </tr>\n",
       "    <tr>\n",
       "      <th>4</th>\n",
       "      <td>5. The 100 (2014–2020)</td>\n",
       "      <td>43 min</td>\n",
       "      <td>Drama, Mystery, Sci-Fi</td>\n",
       "      <td>7.6</td>\n",
       "      <td>(2014–2020)</td>\n",
       "    </tr>\n",
       "    <tr>\n",
       "      <th>...</th>\n",
       "      <td>...</td>\n",
       "      <td>...</td>\n",
       "      <td>...</td>\n",
       "      <td>...</td>\n",
       "      <td>...</td>\n",
       "    </tr>\n",
       "    <tr>\n",
       "      <th>95</th>\n",
       "      <td>96. Reign (2013–2017)</td>\n",
       "      <td>42 min</td>\n",
       "      <td>Drama, Fantasy</td>\n",
       "      <td>7.5</td>\n",
       "      <td>(2013–2017)</td>\n",
       "    </tr>\n",
       "    <tr>\n",
       "      <th>96</th>\n",
       "      <td>97. A Series of Unfortunate Events (2017–2019)</td>\n",
       "      <td>50 min</td>\n",
       "      <td>Adventure, Comedy, Drama</td>\n",
       "      <td>7.8</td>\n",
       "      <td>(2017–2019)</td>\n",
       "    </tr>\n",
       "    <tr>\n",
       "      <th>97</th>\n",
       "      <td>98. Criminal Minds (2005–2020)</td>\n",
       "      <td>42 min</td>\n",
       "      <td>Crime, Drama, Mystery</td>\n",
       "      <td>8.1</td>\n",
       "      <td>(2005–2020)</td>\n",
       "    </tr>\n",
       "    <tr>\n",
       "      <th>98</th>\n",
       "      <td>99. Scream: The TV Series (2015–2019)</td>\n",
       "      <td>45 min</td>\n",
       "      <td>Comedy, Crime, Drama</td>\n",
       "      <td>7.1</td>\n",
       "      <td>(2015–2019)</td>\n",
       "    </tr>\n",
       "    <tr>\n",
       "      <th>99</th>\n",
       "      <td>100. The Haunting of Hill House (2018)</td>\n",
       "      <td>572 min</td>\n",
       "      <td>Drama, Horror, Mystery</td>\n",
       "      <td>8.6</td>\n",
       "      <td>(2018)</td>\n",
       "    </tr>\n",
       "  </tbody>\n",
       "</table>\n",
       "<p>100 rows × 5 columns</p>\n",
       "</div>"
      ],
      "text/plain": [
       "                                             Title  Runtime  \\\n",
       "0                   1. Game of Thrones (2011–2019)   57 min   \n",
       "1                      2. Stranger Things (2016– )   51 min   \n",
       "2                  3. The Walking Dead (2010–2022)   44 min   \n",
       "3                    4. 13 Reasons Why (2017–2020)   60 min   \n",
       "4                           5. The 100 (2014–2020)   43 min   \n",
       "..                                             ...      ...   \n",
       "95                           96. Reign (2013–2017)   42 min   \n",
       "96  97. A Series of Unfortunate Events (2017–2019)   50 min   \n",
       "97                  98. Criminal Minds (2005–2020)   42 min   \n",
       "98           99. Scream: The TV Series (2015–2019)   45 min   \n",
       "99          100. The Haunting of Hill House (2018)  572 min   \n",
       "\n",
       "                       Genre Rating    Year Span  \n",
       "0   Action, Adventure, Drama    9.2  (2011–2019)  \n",
       "1     Drama, Fantasy, Horror    8.7     (2016– )  \n",
       "2    Drama, Horror, Thriller    8.2  (2010–2022)  \n",
       "3   Drama, Mystery, Thriller    7.5  (2017–2020)  \n",
       "4     Drama, Mystery, Sci-Fi    7.6  (2014–2020)  \n",
       "..                       ...    ...          ...  \n",
       "95            Drama, Fantasy    7.5  (2013–2017)  \n",
       "96  Adventure, Comedy, Drama    7.8  (2017–2019)  \n",
       "97     Crime, Drama, Mystery    8.1  (2005–2020)  \n",
       "98      Comedy, Crime, Drama    7.1  (2015–2019)  \n",
       "99    Drama, Horror, Mystery    8.6       (2018)  \n",
       "\n",
       "[100 rows x 5 columns]"
      ]
     },
     "execution_count": 889,
     "metadata": {},
     "output_type": "execute_result"
    }
   ],
   "source": [
    "top_series"
   ]
  },
  {
   "cell_type": "markdown",
   "metadata": {},
   "source": [
    "# Solution6"
   ]
  },
  {
   "cell_type": "code",
   "execution_count": 908,
   "metadata": {},
   "outputs": [
    {
     "name": "stderr",
     "output_type": "stream",
     "text": [
      "<ipython-input-908-ec23c7972a0a>:1: DeprecationWarning: executable_path has been deprecated, please pass in a Service object\n",
      "  driver=webdriver.Chrome('chromedriver.exe')\n"
     ]
    }
   ],
   "source": [
    "driver=webdriver.Chrome('chromedriver.exe')"
   ]
  },
  {
   "cell_type": "code",
   "execution_count": 909,
   "metadata": {},
   "outputs": [],
   "source": [
    "driver.get('https://www.billboard.com/')"
   ]
  },
  {
   "cell_type": "code",
   "execution_count": 910,
   "metadata": {},
   "outputs": [
    {
     "name": "stderr",
     "output_type": "stream",
     "text": [
      "<ipython-input-910-5d6aa0853c2f>:1: DeprecationWarning: find_element_by_* commands are deprecated. Please use find_element() instead\n",
      "  hot_100=driver.find_element_by_xpath('//ul[@class=\"header__subnav__list display--flex flex--left-center flex-md--center-center\"]/li[2]')\n"
     ]
    }
   ],
   "source": [
    "hot_100=driver.find_element_by_xpath('//ul[@class=\"header__subnav__list display--flex flex--left-center flex-md--center-center\"]/li[2]')"
   ]
  },
  {
   "cell_type": "code",
   "execution_count": 911,
   "metadata": {},
   "outputs": [],
   "source": [
    "hot_100.click()"
   ]
  },
  {
   "cell_type": "code",
   "execution_count": 912,
   "metadata": {},
   "outputs": [],
   "source": [
    "song_name=[]"
   ]
  },
  {
   "cell_type": "code",
   "execution_count": 913,
   "metadata": {},
   "outputs": [],
   "source": [
    "artist=[]"
   ]
  },
  {
   "cell_type": "code",
   "execution_count": 914,
   "metadata": {},
   "outputs": [],
   "source": [
    "last_week_rank=[]"
   ]
  },
  {
   "cell_type": "code",
   "execution_count": 915,
   "metadata": {},
   "outputs": [],
   "source": [
    "peak_rank=[]"
   ]
  },
  {
   "cell_type": "code",
   "execution_count": 916,
   "metadata": {},
   "outputs": [],
   "source": [
    "weeks_board=[]"
   ]
  },
  {
   "cell_type": "code",
   "execution_count": 922,
   "metadata": {},
   "outputs": [
    {
     "name": "stderr",
     "output_type": "stream",
     "text": [
      "<ipython-input-922-561dbef03887>:1: DeprecationWarning: find_elements_by_* commands are deprecated. Please use find_elements() instead\n",
      "  song_tit=driver.find_elements_by_xpath('//button[@class=\"chart-element__wrapper display--flex flex--grow sort--this-week\"]/span[2]')\n"
     ]
    }
   ],
   "source": [
    "song_tit=driver.find_elements_by_xpath('//button[@class=\"chart-element__wrapper display--flex flex--grow sort--this-week\"]/span[2]')"
   ]
  },
  {
   "cell_type": "code",
   "execution_count": 925,
   "metadata": {},
   "outputs": [],
   "source": [
    "for i in song_tit:\n",
    "    son=i.text\n",
    "    song_name.append(son)"
   ]
  },
  {
   "cell_type": "code",
   "execution_count": 926,
   "metadata": {},
   "outputs": [
    {
     "data": {
      "text/plain": [
       "['Easy On Me',\n",
       " 'Adele',\n",
       " '',\n",
       " 'Stay',\n",
       " 'The Kid LAROI & Justin Bieber',\n",
       " '',\n",
       " 'Industry Baby',\n",
       " 'Lil Nas X & Jack Harlow',\n",
       " '',\n",
       " 'Bad Habits',\n",
       " 'Ed Sheeran',\n",
       " '',\n",
       " 'Fancy Like',\n",
       " 'Walker Hayes',\n",
       " '',\n",
       " 'Shivers',\n",
       " 'Ed Sheeran',\n",
       " '',\n",
       " 'Way 2 Sexy',\n",
       " 'Drake Featuring Future & Young Thug',\n",
       " '',\n",
       " 'Need To Know',\n",
       " 'Doja Cat',\n",
       " '',\n",
       " 'Good 4 U',\n",
       " 'Olivia Rodrigo',\n",
       " '',\n",
       " 'Heat Waves',\n",
       " 'Glass Animals',\n",
       " '',\n",
       " 'Levitating',\n",
       " 'Dua Lipa',\n",
       " '',\n",
       " 'Essence',\n",
       " 'Wizkid Featuring Justin Bieber & Tems',\n",
       " '',\n",
       " \"Beggin'\",\n",
       " 'Maneskin',\n",
       " '',\n",
       " 'Cold Heart (PNAU Remix)',\n",
       " 'Elton John & Dua Lipa',\n",
       " '',\n",
       " 'Kiss Me More',\n",
       " 'Doja Cat Featuring SZA',\n",
       " '',\n",
       " 'You Right',\n",
       " 'Doja Cat & The Weeknd',\n",
       " '',\n",
       " 'Save Your Tears',\n",
       " 'The Weeknd & Ariana Grande',\n",
       " '',\n",
       " \"If I Didn't Love You\",\n",
       " 'Jason Aldean & Carrie Underwood',\n",
       " '',\n",
       " 'Thriller',\n",
       " 'Michael Jackson',\n",
       " '',\n",
       " 'Traitor',\n",
       " 'Olivia Rodrigo',\n",
       " '',\n",
       " 'Meet Me At Our Spot',\n",
       " 'THE ANXIETY: WILLOW & Tyler Cole',\n",
       " '',\n",
       " 'Knife Talk',\n",
       " 'Drake Featuring 21 Savage & Project Pat',\n",
       " '',\n",
       " 'My Universe',\n",
       " 'Coldplay x BTS',\n",
       " '',\n",
       " 'Who Want Smoke??',\n",
       " 'Nardo Wick Featuring G Herbo, Lil Durk & 21 Savage',\n",
       " '',\n",
       " 'Chasing After You',\n",
       " 'Ryan Hurd With Maren Morris',\n",
       " '',\n",
       " 'Girls Want Girls',\n",
       " 'Drake Featuring Lil Baby',\n",
       " '',\n",
       " 'Montero (Call Me By Your Name)',\n",
       " 'Lil Nas X',\n",
       " '',\n",
       " 'Happier Than Ever',\n",
       " 'Billie Eilish',\n",
       " '',\n",
       " 'Better Days',\n",
       " 'NEIKED X Mae Muller X Polo G',\n",
       " '',\n",
       " 'Pepas',\n",
       " 'Farruko',\n",
       " '',\n",
       " 'Buy Dirt',\n",
       " 'Jordan Davis Featuring Luke Bryan',\n",
       " '',\n",
       " 'Thats What I Want',\n",
       " 'Lil Nas X',\n",
       " '',\n",
       " 'Love Nwantiti (Ah Ah Ah)',\n",
       " 'CKay',\n",
       " '',\n",
       " 'Cold As You',\n",
       " 'Luke Combs',\n",
       " '',\n",
       " 'Ghost',\n",
       " 'Justin Bieber',\n",
       " '',\n",
       " \"Thinking 'Bout You\",\n",
       " 'Dustin Lynch Featuring Lauren Alaina Or MacKenzie Porter',\n",
       " '',\n",
       " 'Monster Mash',\n",
       " 'Bobby \"Boris\" Pickett And The Crypt-Kickers',\n",
       " '',\n",
       " 'Wockesha',\n",
       " 'Moneybagg Yo',\n",
       " '',\n",
       " 'You Should Probably Leave',\n",
       " 'Chris Stapleton',\n",
       " '',\n",
       " 'Ghostbusters',\n",
       " 'Ray Parker Jr.',\n",
       " '',\n",
       " 'Overpass Graffiti',\n",
       " 'Ed Sheeran',\n",
       " '',\n",
       " \"Somebody's Watching Me\",\n",
       " 'Rockwell',\n",
       " '',\n",
       " 'Wild Side',\n",
       " 'Normani Featuring Cardi B',\n",
       " '',\n",
       " 'Leave The Door Open',\n",
       " 'Silk Sonic (Bruno Mars & Anderson .Paak)',\n",
       " '',\n",
       " 'Take My Breath',\n",
       " 'The Weeknd',\n",
       " '',\n",
       " 'Gyalis',\n",
       " 'Capella Grey',\n",
       " '',\n",
       " 'I Was On A Boat That Day',\n",
       " 'Old Dominion',\n",
       " '',\n",
       " 'Same Boat',\n",
       " 'Zac Brown Band',\n",
       " '',\n",
       " 'Family Ties',\n",
       " 'Baby Keem & Kendrick Lamar',\n",
       " '',\n",
       " 'Sharing Locations',\n",
       " 'Meek Mill Featuring Lil Baby & Lil Durk',\n",
       " '',\n",
       " 'Have Mercy',\n",
       " 'Chloe',\n",
       " '',\n",
       " 'A-O-K',\n",
       " 'Tai Verdes',\n",
       " '',\n",
       " 'Chosen',\n",
       " 'Blxst & Tyga Featuring Ty Dolla $ign',\n",
       " '',\n",
       " 'Moth To A Flame',\n",
       " 'Swedish House Mafia & The Weeknd',\n",
       " '',\n",
       " 'Fair Trade',\n",
       " 'Drake Featuring Travis Scott',\n",
       " '',\n",
       " 'Bubbly',\n",
       " 'Young Thug With Drake & Travis Scott',\n",
       " '',\n",
       " 'Knowing You',\n",
       " 'Kenny Chesney',\n",
       " '',\n",
       " \"Memory I Don't Mess With\",\n",
       " 'Lee Brice',\n",
       " '',\n",
       " 'One Mississippi',\n",
       " 'Kane Brown',\n",
       " '',\n",
       " 'Memory',\n",
       " 'Kane Brown X blackbear',\n",
       " '',\n",
       " 'Demon High',\n",
       " 'Lil Uzi Vert',\n",
       " '',\n",
       " 'Sand In My Boots',\n",
       " 'Morgan Wallen',\n",
       " '',\n",
       " 'Hurricane',\n",
       " 'Kanye West',\n",
       " '',\n",
       " 'Woman',\n",
       " 'Doja Cat',\n",
       " '',\n",
       " 'Baddest',\n",
       " 'Yung Bleu, Chris Brown & 2 Chainz',\n",
       " '',\n",
       " 'Cold Beer Calling My Name',\n",
       " 'Jameson Rodgers Featuring Luke Combs',\n",
       " '',\n",
       " 'Whiskey And Rain',\n",
       " 'Michael Ray',\n",
       " '',\n",
       " 'Tequila Little Time',\n",
       " 'Jon Pardi',\n",
       " '',\n",
       " 'Too Easy',\n",
       " 'Gunna & Future',\n",
       " '',\n",
       " \"'Til You Can't\",\n",
       " 'Cody Johnson',\n",
       " '',\n",
       " 'Jugaste y Sufri',\n",
       " 'Eslabon Armado Featuring DannyLux',\n",
       " '',\n",
       " 'Volvi',\n",
       " 'Aventura x Bad Bunny',\n",
       " '',\n",
       " 'Love Again',\n",
       " 'Dua Lipa',\n",
       " '',\n",
       " 'Maybach',\n",
       " '42 Dugg Featuring Future',\n",
       " '',\n",
       " 'My Boy',\n",
       " 'Elvie Shane',\n",
       " '',\n",
       " 'Big Energy',\n",
       " 'Latto',\n",
       " '',\n",
       " '2055',\n",
       " 'Sleepy Hallow',\n",
       " '',\n",
       " 'Praise God',\n",
       " 'Kanye West',\n",
       " '',\n",
       " 'Poke It Out',\n",
       " 'Wale Featuring J. Cole',\n",
       " '',\n",
       " 'For Tonight',\n",
       " 'Giveon',\n",
       " '',\n",
       " 'Rap Freaks',\n",
       " 'Yung Miami',\n",
       " '',\n",
       " 'Eat It',\n",
       " 'Megan Thee Stallion',\n",
       " '',\n",
       " 'Esta Danada',\n",
       " 'Ivan Cornejo',\n",
       " '',\n",
       " 'Freedom Was A Highway',\n",
       " 'Jimmie Allen & Brad Paisley',\n",
       " '',\n",
       " 'Whole Lotta Money',\n",
       " 'BIA Featuring Nicki Minaj',\n",
       " '',\n",
       " 'Switches & Dracs',\n",
       " 'Moneybagg Yo Featuring Lil Durk & EST Gee',\n",
       " '',\n",
       " 'Half Of My Hometown',\n",
       " 'Kelsea Ballerini Featuring Kenny Chesney',\n",
       " '',\n",
       " 'Get Into It (Yuh)',\n",
       " 'Doja Cat',\n",
       " '',\n",
       " 'Pissed Me Off',\n",
       " 'Lil Durk',\n",
       " '',\n",
       " 'Lo Siento BB:/',\n",
       " 'Tainy, Bad Bunny & Julieta Venegas',\n",
       " '',\n",
       " 'Ya Superame (En Vivo Desde Culiacan, Sinaloa)',\n",
       " 'Grupo Firme',\n",
       " '',\n",
       " \"Who's In Your Head\",\n",
       " 'Jonas Brothers',\n",
       " '',\n",
       " 'Money',\n",
       " 'Lisa',\n",
       " '',\n",
       " 'Come Through',\n",
       " 'H.E.R. Featuring Chris Brown',\n",
       " '',\n",
       " 'WFM',\n",
       " 'Realestk',\n",
       " '',\n",
       " 'Lets Go Brandon',\n",
       " 'Loza Alexander',\n",
       " '',\n",
       " 'Just About Over You',\n",
       " 'Priscilla Block',\n",
       " '',\n",
       " 'To Be Loved By You',\n",
       " 'Parker McCollum',\n",
       " '',\n",
       " \"Let's Go Brandon\",\n",
       " 'Bryson Gray Featuring Tyson James & Chandler Crump',\n",
       " '',\n",
       " 'Ghost Town',\n",
       " 'Benson Boone',\n",
       " '',\n",
       " 'Easy On Me\\nAdele',\n",
       " 'Stay\\nThe Kid LAROI & Justin Bieber',\n",
       " 'Industry Baby\\nLil Nas X & Jack Harlow',\n",
       " 'Bad Habits\\nEd Sheeran',\n",
       " 'Fancy Like\\nWalker Hayes',\n",
       " 'Shivers\\nEd Sheeran',\n",
       " 'Way 2 Sexy\\nDrake Featuring Future & Young Thug',\n",
       " 'Need To Know\\nDoja Cat',\n",
       " 'Good 4 U\\nOlivia Rodrigo',\n",
       " 'Heat Waves\\nGlass Animals',\n",
       " 'Levitating\\nDua Lipa',\n",
       " 'Essence\\nWizkid Featuring Justin Bieber & Tems',\n",
       " \"Beggin'\\nManeskin\",\n",
       " 'Cold Heart (PNAU Remix)\\nElton John & Dua Lipa',\n",
       " 'Kiss Me More\\nDoja Cat Featuring SZA',\n",
       " 'You Right\\nDoja Cat & The Weeknd',\n",
       " 'Save Your Tears\\nThe Weeknd & Ariana Grande',\n",
       " \"If I Didn't Love You\\nJason Aldean & Carrie Underwood\",\n",
       " 'Thriller\\nMichael Jackson',\n",
       " 'Traitor\\nOlivia Rodrigo',\n",
       " 'Meet Me At Our Spot\\nTHE ANXIETY: WILLOW & Tyler Cole',\n",
       " 'Knife Talk\\nDrake Featuring 21 Savage & Project Pat',\n",
       " 'My Universe\\nColdplay x BTS',\n",
       " 'Who Want Smoke??\\nNardo Wick Featuring G Herbo, Lil Durk & 21 Savage',\n",
       " 'Chasing After You\\nRyan Hurd With Maren Morris',\n",
       " 'Girls Want Girls\\nDrake Featuring Lil Baby',\n",
       " 'Montero (Call Me By Your Name)\\nLil Nas X',\n",
       " 'Happier Than Ever\\nBillie Eilish',\n",
       " 'Better Days\\nNEIKED X Mae Muller X Polo G',\n",
       " 'Pepas\\nFarruko',\n",
       " 'Buy Dirt\\nJordan Davis Featuring Luke Bryan',\n",
       " 'Thats What I Want\\nLil Nas X',\n",
       " 'Love Nwantiti (Ah Ah Ah)\\nCKay',\n",
       " 'Cold As You\\nLuke Combs',\n",
       " 'Ghost\\nJustin Bieber',\n",
       " \"Thinking 'Bout You\\nDustin Lynch Featuring Lauren Alaina Or MacKenzie Porter\",\n",
       " 'Monster Mash\\nBobby \"Boris\" Pickett And The Crypt-Kickers',\n",
       " 'Wockesha\\nMoneybagg Yo',\n",
       " 'You Should Probably Leave\\nChris Stapleton',\n",
       " 'Ghostbusters\\nRay Parker Jr.',\n",
       " 'Overpass Graffiti\\nEd Sheeran',\n",
       " \"Somebody's Watching Me\\nRockwell\",\n",
       " 'Wild Side\\nNormani Featuring Cardi B',\n",
       " 'Leave The Door Open\\nSilk Sonic (Bruno Mars & Anderson .Paak)',\n",
       " 'Take My Breath\\nThe Weeknd',\n",
       " 'Gyalis\\nCapella Grey',\n",
       " 'I Was On A Boat That Day\\nOld Dominion',\n",
       " 'Same Boat\\nZac Brown Band',\n",
       " 'Family Ties\\nBaby Keem & Kendrick Lamar',\n",
       " 'Sharing Locations\\nMeek Mill Featuring Lil Baby & Lil Durk',\n",
       " 'Have Mercy\\nChloe',\n",
       " 'A-O-K\\nTai Verdes',\n",
       " 'Chosen\\nBlxst & Tyga Featuring Ty Dolla $ign',\n",
       " 'Moth To A Flame\\nSwedish House Mafia & The Weeknd',\n",
       " 'Fair Trade\\nDrake Featuring Travis Scott',\n",
       " 'Bubbly\\nYoung Thug With Drake & Travis Scott',\n",
       " 'Knowing You\\nKenny Chesney',\n",
       " \"Memory I Don't Mess With\\nLee Brice\",\n",
       " 'One Mississippi\\nKane Brown',\n",
       " 'Memory\\nKane Brown X blackbear',\n",
       " 'Demon High\\nLil Uzi Vert',\n",
       " 'Sand In My Boots\\nMorgan Wallen',\n",
       " 'Hurricane\\nKanye West',\n",
       " 'Woman\\nDoja Cat',\n",
       " 'Baddest\\nYung Bleu, Chris Brown & 2 Chainz',\n",
       " 'Cold Beer Calling My Name\\nJameson Rodgers Featuring Luke Combs',\n",
       " 'Whiskey And Rain\\nMichael Ray',\n",
       " 'Tequila Little Time\\nJon Pardi',\n",
       " 'Too Easy\\nGunna & Future',\n",
       " \"'Til You Can't\\nCody Johnson\",\n",
       " 'Jugaste y Sufri\\nEslabon Armado Featuring DannyLux',\n",
       " 'Volvi\\nAventura x Bad Bunny',\n",
       " 'Love Again\\nDua Lipa',\n",
       " 'Maybach\\n42 Dugg Featuring Future',\n",
       " 'My Boy\\nElvie Shane',\n",
       " 'Big Energy\\nLatto',\n",
       " '2055\\nSleepy Hallow',\n",
       " 'Praise God\\nKanye West',\n",
       " 'Poke It Out\\nWale Featuring J. Cole',\n",
       " 'For Tonight\\nGiveon',\n",
       " 'Rap Freaks\\nYung Miami',\n",
       " 'Eat It\\nMegan Thee Stallion',\n",
       " 'Esta Danada\\nIvan Cornejo',\n",
       " 'Freedom Was A Highway\\nJimmie Allen & Brad Paisley',\n",
       " 'Whole Lotta Money\\nBIA Featuring Nicki Minaj',\n",
       " 'Switches & Dracs\\nMoneybagg Yo Featuring Lil Durk & EST Gee',\n",
       " 'Half Of My Hometown\\nKelsea Ballerini Featuring Kenny Chesney',\n",
       " 'Get Into It (Yuh)\\nDoja Cat',\n",
       " 'Pissed Me Off\\nLil Durk',\n",
       " 'Lo Siento BB:/\\nTainy, Bad Bunny & Julieta Venegas',\n",
       " 'Ya Superame (En Vivo Desde Culiacan, Sinaloa)\\nGrupo Firme',\n",
       " \"Who's In Your Head\\nJonas Brothers\",\n",
       " 'Money\\nLisa',\n",
       " 'Come Through\\nH.E.R. Featuring Chris Brown',\n",
       " 'WFM\\nRealestk',\n",
       " 'Lets Go Brandon\\nLoza Alexander',\n",
       " 'Just About Over You\\nPriscilla Block',\n",
       " 'To Be Loved By You\\nParker McCollum',\n",
       " \"Let's Go Brandon\\nBryson Gray Featuring Tyson James & Chandler Crump\",\n",
       " 'Ghost Town\\nBenson Boone',\n",
       " 'Easy On Me\\nAdele',\n",
       " 'Stay\\nThe Kid LAROI & Justin Bieber',\n",
       " 'Industry Baby\\nLil Nas X & Jack Harlow',\n",
       " 'Bad Habits\\nEd Sheeran',\n",
       " 'Fancy Like\\nWalker Hayes',\n",
       " 'Shivers\\nEd Sheeran',\n",
       " 'Way 2 Sexy\\nDrake Featuring Future & Young Thug',\n",
       " 'Need To Know\\nDoja Cat',\n",
       " 'Good 4 U\\nOlivia Rodrigo',\n",
       " 'Heat Waves\\nGlass Animals',\n",
       " 'Levitating\\nDua Lipa',\n",
       " 'Essence\\nWizkid Featuring Justin Bieber & Tems',\n",
       " \"Beggin'\\nManeskin\",\n",
       " 'Cold Heart (PNAU Remix)\\nElton John & Dua Lipa',\n",
       " 'Kiss Me More\\nDoja Cat Featuring SZA',\n",
       " 'You Right\\nDoja Cat & The Weeknd',\n",
       " 'Save Your Tears\\nThe Weeknd & Ariana Grande',\n",
       " \"If I Didn't Love You\\nJason Aldean & Carrie Underwood\",\n",
       " 'Thriller\\nMichael Jackson',\n",
       " 'Traitor\\nOlivia Rodrigo',\n",
       " 'Meet Me At Our Spot\\nTHE ANXIETY: WILLOW & Tyler Cole',\n",
       " 'Knife Talk\\nDrake Featuring 21 Savage & Project Pat',\n",
       " 'My Universe\\nColdplay x BTS',\n",
       " 'Who Want Smoke??\\nNardo Wick Featuring G Herbo, Lil Durk & 21 Savage',\n",
       " 'Chasing After You\\nRyan Hurd With Maren Morris',\n",
       " 'Girls Want Girls\\nDrake Featuring Lil Baby',\n",
       " 'Montero (Call Me By Your Name)\\nLil Nas X',\n",
       " 'Happier Than Ever\\nBillie Eilish',\n",
       " 'Better Days\\nNEIKED X Mae Muller X Polo G',\n",
       " 'Pepas\\nFarruko',\n",
       " 'Buy Dirt\\nJordan Davis Featuring Luke Bryan',\n",
       " 'Thats What I Want\\nLil Nas X',\n",
       " 'Love Nwantiti (Ah Ah Ah)\\nCKay',\n",
       " 'Cold As You\\nLuke Combs',\n",
       " 'Ghost\\nJustin Bieber',\n",
       " \"Thinking 'Bout You\\nDustin Lynch Featuring Lauren Alaina Or MacKenzie Porter\",\n",
       " 'Monster Mash\\nBobby \"Boris\" Pickett And The Crypt-Kickers',\n",
       " 'Wockesha\\nMoneybagg Yo',\n",
       " 'You Should Probably Leave\\nChris Stapleton',\n",
       " 'Ghostbusters\\nRay Parker Jr.',\n",
       " 'Overpass Graffiti\\nEd Sheeran',\n",
       " \"Somebody's Watching Me\\nRockwell\",\n",
       " 'Wild Side\\nNormani Featuring Cardi B',\n",
       " 'Leave The Door Open\\nSilk Sonic (Bruno Mars & Anderson .Paak)',\n",
       " 'Take My Breath\\nThe Weeknd',\n",
       " 'Gyalis\\nCapella Grey',\n",
       " 'I Was On A Boat That Day\\nOld Dominion',\n",
       " 'Same Boat\\nZac Brown Band',\n",
       " 'Family Ties\\nBaby Keem & Kendrick Lamar',\n",
       " 'Sharing Locations\\nMeek Mill Featuring Lil Baby & Lil Durk',\n",
       " 'Have Mercy\\nChloe',\n",
       " 'A-O-K\\nTai Verdes',\n",
       " 'Chosen\\nBlxst & Tyga Featuring Ty Dolla $ign',\n",
       " 'Moth To A Flame\\nSwedish House Mafia & The Weeknd',\n",
       " 'Fair Trade\\nDrake Featuring Travis Scott',\n",
       " 'Bubbly\\nYoung Thug With Drake & Travis Scott',\n",
       " 'Knowing You\\nKenny Chesney',\n",
       " \"Memory I Don't Mess With\\nLee Brice\",\n",
       " 'One Mississippi\\nKane Brown',\n",
       " 'Memory\\nKane Brown X blackbear',\n",
       " 'Demon High\\nLil Uzi Vert',\n",
       " 'Sand In My Boots\\nMorgan Wallen',\n",
       " 'Hurricane\\nKanye West',\n",
       " 'Woman\\nDoja Cat',\n",
       " 'Baddest\\nYung Bleu, Chris Brown & 2 Chainz',\n",
       " 'Cold Beer Calling My Name\\nJameson Rodgers Featuring Luke Combs',\n",
       " 'Whiskey And Rain\\nMichael Ray',\n",
       " 'Tequila Little Time\\nJon Pardi',\n",
       " 'Too Easy\\nGunna & Future',\n",
       " \"'Til You Can't\\nCody Johnson\",\n",
       " 'Jugaste y Sufri\\nEslabon Armado Featuring DannyLux',\n",
       " 'Volvi\\nAventura x Bad Bunny',\n",
       " 'Love Again\\nDua Lipa',\n",
       " 'Maybach\\n42 Dugg Featuring Future',\n",
       " 'My Boy\\nElvie Shane',\n",
       " 'Big Energy\\nLatto',\n",
       " '2055\\nSleepy Hallow',\n",
       " 'Praise God\\nKanye West',\n",
       " 'Poke It Out\\nWale Featuring J. Cole',\n",
       " 'For Tonight\\nGiveon',\n",
       " 'Rap Freaks\\nYung Miami',\n",
       " 'Eat It\\nMegan Thee Stallion',\n",
       " 'Esta Danada\\nIvan Cornejo',\n",
       " 'Freedom Was A Highway\\nJimmie Allen & Brad Paisley',\n",
       " 'Whole Lotta Money\\nBIA Featuring Nicki Minaj',\n",
       " 'Switches & Dracs\\nMoneybagg Yo Featuring Lil Durk & EST Gee',\n",
       " 'Half Of My Hometown\\nKelsea Ballerini Featuring Kenny Chesney',\n",
       " 'Get Into It (Yuh)\\nDoja Cat',\n",
       " 'Pissed Me Off\\nLil Durk',\n",
       " 'Lo Siento BB:/\\nTainy, Bad Bunny & Julieta Venegas',\n",
       " 'Ya Superame (En Vivo Desde Culiacan, Sinaloa)\\nGrupo Firme',\n",
       " \"Who's In Your Head\\nJonas Brothers\",\n",
       " 'Money\\nLisa',\n",
       " 'Come Through\\nH.E.R. Featuring Chris Brown',\n",
       " 'WFM\\nRealestk',\n",
       " 'Lets Go Brandon\\nLoza Alexander',\n",
       " 'Just About Over You\\nPriscilla Block',\n",
       " 'To Be Loved By You\\nParker McCollum',\n",
       " \"Let's Go Brandon\\nBryson Gray Featuring Tyson James & Chandler Crump\",\n",
       " 'Ghost Town\\nBenson Boone']"
      ]
     },
     "execution_count": 926,
     "metadata": {},
     "output_type": "execute_result"
    }
   ],
   "source": [
    "song_name"
   ]
  },
  {
   "cell_type": "code",
   "execution_count": 921,
   "metadata": {},
   "outputs": [
    {
     "data": {
      "text/plain": [
       "300"
      ]
     },
     "execution_count": 921,
     "metadata": {},
     "output_type": "execute_result"
    }
   ],
   "source": [
    "len(song_name)"
   ]
  },
  {
   "cell_type": "code",
   "execution_count": 927,
   "metadata": {},
   "outputs": [
    {
     "name": "stderr",
     "output_type": "stream",
     "text": [
      "<ipython-input-927-7a58fc6a1e2e>:1: DeprecationWarning: find_elements_by_* commands are deprecated. Please use find_elements() instead\n",
      "  tit_lst=driver.find_elements_by_xpath('//div[@class=\"chart-element__metas chart-element__metas--large display--flex flex--y-center\"]/div[2]')\n"
     ]
    }
   ],
   "source": [
    "tit_lst=driver.find_elements_by_xpath('//div[@class=\"chart-element__metas chart-element__metas--large display--flex flex--y-center\"]/div[2]')"
   ]
  },
  {
   "cell_type": "code",
   "execution_count": 928,
   "metadata": {},
   "outputs": [],
   "source": [
    "for u in tit_lst:\n",
    "    lst=i.text\n",
    "    last_week_rank.append(lst)"
   ]
  },
  {
   "cell_type": "code",
   "execution_count": 929,
   "metadata": {},
   "outputs": [
    {
     "data": {
      "text/plain": [
       "['Ghost Town\\nBenson Boone',\n",
       " 'Ghost Town\\nBenson Boone',\n",
       " 'Ghost Town\\nBenson Boone',\n",
       " 'Ghost Town\\nBenson Boone',\n",
       " 'Ghost Town\\nBenson Boone',\n",
       " 'Ghost Town\\nBenson Boone',\n",
       " 'Ghost Town\\nBenson Boone',\n",
       " 'Ghost Town\\nBenson Boone',\n",
       " 'Ghost Town\\nBenson Boone',\n",
       " 'Ghost Town\\nBenson Boone',\n",
       " 'Ghost Town\\nBenson Boone',\n",
       " 'Ghost Town\\nBenson Boone',\n",
       " 'Ghost Town\\nBenson Boone',\n",
       " 'Ghost Town\\nBenson Boone',\n",
       " 'Ghost Town\\nBenson Boone',\n",
       " 'Ghost Town\\nBenson Boone',\n",
       " 'Ghost Town\\nBenson Boone',\n",
       " 'Ghost Town\\nBenson Boone',\n",
       " 'Ghost Town\\nBenson Boone',\n",
       " 'Ghost Town\\nBenson Boone',\n",
       " 'Ghost Town\\nBenson Boone',\n",
       " 'Ghost Town\\nBenson Boone',\n",
       " 'Ghost Town\\nBenson Boone',\n",
       " 'Ghost Town\\nBenson Boone',\n",
       " 'Ghost Town\\nBenson Boone',\n",
       " 'Ghost Town\\nBenson Boone',\n",
       " 'Ghost Town\\nBenson Boone',\n",
       " 'Ghost Town\\nBenson Boone',\n",
       " 'Ghost Town\\nBenson Boone',\n",
       " 'Ghost Town\\nBenson Boone',\n",
       " 'Ghost Town\\nBenson Boone',\n",
       " 'Ghost Town\\nBenson Boone',\n",
       " 'Ghost Town\\nBenson Boone',\n",
       " 'Ghost Town\\nBenson Boone',\n",
       " 'Ghost Town\\nBenson Boone',\n",
       " 'Ghost Town\\nBenson Boone',\n",
       " 'Ghost Town\\nBenson Boone',\n",
       " 'Ghost Town\\nBenson Boone',\n",
       " 'Ghost Town\\nBenson Boone',\n",
       " 'Ghost Town\\nBenson Boone',\n",
       " 'Ghost Town\\nBenson Boone',\n",
       " 'Ghost Town\\nBenson Boone',\n",
       " 'Ghost Town\\nBenson Boone',\n",
       " 'Ghost Town\\nBenson Boone',\n",
       " 'Ghost Town\\nBenson Boone',\n",
       " 'Ghost Town\\nBenson Boone',\n",
       " 'Ghost Town\\nBenson Boone',\n",
       " 'Ghost Town\\nBenson Boone',\n",
       " 'Ghost Town\\nBenson Boone',\n",
       " 'Ghost Town\\nBenson Boone',\n",
       " 'Ghost Town\\nBenson Boone',\n",
       " 'Ghost Town\\nBenson Boone',\n",
       " 'Ghost Town\\nBenson Boone',\n",
       " 'Ghost Town\\nBenson Boone',\n",
       " 'Ghost Town\\nBenson Boone',\n",
       " 'Ghost Town\\nBenson Boone',\n",
       " 'Ghost Town\\nBenson Boone',\n",
       " 'Ghost Town\\nBenson Boone',\n",
       " 'Ghost Town\\nBenson Boone',\n",
       " 'Ghost Town\\nBenson Boone',\n",
       " 'Ghost Town\\nBenson Boone',\n",
       " 'Ghost Town\\nBenson Boone',\n",
       " 'Ghost Town\\nBenson Boone',\n",
       " 'Ghost Town\\nBenson Boone',\n",
       " 'Ghost Town\\nBenson Boone',\n",
       " 'Ghost Town\\nBenson Boone',\n",
       " 'Ghost Town\\nBenson Boone',\n",
       " 'Ghost Town\\nBenson Boone',\n",
       " 'Ghost Town\\nBenson Boone',\n",
       " 'Ghost Town\\nBenson Boone',\n",
       " 'Ghost Town\\nBenson Boone',\n",
       " 'Ghost Town\\nBenson Boone',\n",
       " 'Ghost Town\\nBenson Boone',\n",
       " 'Ghost Town\\nBenson Boone',\n",
       " 'Ghost Town\\nBenson Boone',\n",
       " 'Ghost Town\\nBenson Boone',\n",
       " 'Ghost Town\\nBenson Boone',\n",
       " 'Ghost Town\\nBenson Boone',\n",
       " 'Ghost Town\\nBenson Boone',\n",
       " 'Ghost Town\\nBenson Boone',\n",
       " 'Ghost Town\\nBenson Boone',\n",
       " 'Ghost Town\\nBenson Boone',\n",
       " 'Ghost Town\\nBenson Boone',\n",
       " 'Ghost Town\\nBenson Boone',\n",
       " 'Ghost Town\\nBenson Boone',\n",
       " 'Ghost Town\\nBenson Boone',\n",
       " 'Ghost Town\\nBenson Boone',\n",
       " 'Ghost Town\\nBenson Boone',\n",
       " 'Ghost Town\\nBenson Boone',\n",
       " 'Ghost Town\\nBenson Boone',\n",
       " 'Ghost Town\\nBenson Boone',\n",
       " 'Ghost Town\\nBenson Boone',\n",
       " 'Ghost Town\\nBenson Boone',\n",
       " 'Ghost Town\\nBenson Boone',\n",
       " 'Ghost Town\\nBenson Boone',\n",
       " 'Ghost Town\\nBenson Boone',\n",
       " 'Ghost Town\\nBenson Boone',\n",
       " 'Ghost Town\\nBenson Boone',\n",
       " 'Ghost Town\\nBenson Boone',\n",
       " 'Ghost Town\\nBenson Boone']"
      ]
     },
     "execution_count": 929,
     "metadata": {},
     "output_type": "execute_result"
    }
   ],
   "source": [
    "last_week_rank"
   ]
  },
  {
   "cell_type": "markdown",
   "metadata": {},
   "source": [
    "# Solution 10"
   ]
  },
  {
   "cell_type": "code",
   "execution_count": 930,
   "metadata": {},
   "outputs": [
    {
     "name": "stderr",
     "output_type": "stream",
     "text": [
      "<ipython-input-930-ec23c7972a0a>:1: DeprecationWarning: executable_path has been deprecated, please pass in a Service object\n",
      "  driver=webdriver.Chrome('chromedriver.exe')\n"
     ]
    }
   ],
   "source": [
    "driver=webdriver.Chrome('chromedriver.exe')"
   ]
  },
  {
   "cell_type": "code",
   "execution_count": 931,
   "metadata": {},
   "outputs": [],
   "source": [
    "driver.get('https://archive.ics.uci.edu/ml/index.php')"
   ]
  },
  {
   "cell_type": "code",
   "execution_count": 932,
   "metadata": {},
   "outputs": [
    {
     "name": "stderr",
     "output_type": "stream",
     "text": [
      "<ipython-input-932-c557402781ff>:1: DeprecationWarning: find_element_by_* commands are deprecated. Please use find_element() instead\n",
      "  search=driver.find_element_by_xpath('/html/body/table[1]/tbody/tr/td[2]/span[2]')\n"
     ]
    }
   ],
   "source": [
    "search=driver.find_element_by_xpath('/html/body/table[1]/tbody/tr/td[2]/span[2]')"
   ]
  },
  {
   "cell_type": "code",
   "execution_count": 933,
   "metadata": {},
   "outputs": [],
   "source": [
    "search.click()"
   ]
  },
  {
   "cell_type": "code",
   "execution_count": 934,
   "metadata": {},
   "outputs": [],
   "source": [
    "name=[]"
   ]
  },
  {
   "cell_type": "code",
   "execution_count": 942,
   "metadata": {},
   "outputs": [],
   "source": [
    "type_data=[]"
   ]
  },
  {
   "cell_type": "code",
   "execution_count": 936,
   "metadata": {},
   "outputs": [],
   "source": [
    "task=[]"
   ]
  },
  {
   "cell_type": "code",
   "execution_count": 937,
   "metadata": {},
   "outputs": [],
   "source": [
    "attribute=[]"
   ]
  },
  {
   "cell_type": "code",
   "execution_count": 939,
   "metadata": {},
   "outputs": [],
   "source": [
    "instance_no=[]"
   ]
  },
  {
   "cell_type": "code",
   "execution_count": 940,
   "metadata": {},
   "outputs": [],
   "source": [
    "attribute_no=[]"
   ]
  },
  {
   "cell_type": "code",
   "execution_count": 941,
   "metadata": {},
   "outputs": [],
   "source": [
    "year=[]"
   ]
  },
  {
   "cell_type": "code",
   "execution_count": 943,
   "metadata": {},
   "outputs": [
    {
     "name": "stderr",
     "output_type": "stream",
     "text": [
      "<ipython-input-943-48fbe798b18f>:1: DeprecationWarning: find_elements_by_* commands are deprecated. Please use find_elements() instead\n",
      "  titl_name=driver.find_elements_by_xpath('//table[@border=\"1\"]/tbody/tr/td/p[@class=\"normal\"][1]')\n"
     ]
    }
   ],
   "source": [
    "titl_name=driver.find_elements_by_xpath('//table[@border=\"1\"]/tbody/tr/td/p[@class=\"normal\"][1]')"
   ]
  },
  {
   "cell_type": "code",
   "execution_count": 944,
   "metadata": {},
   "outputs": [],
   "source": [
    "for i in titl_name:\n",
    "    typ=i.text\n",
    "    type_data.append(typ)"
   ]
  },
  {
   "cell_type": "code",
   "execution_count": 945,
   "metadata": {},
   "outputs": [
    {
     "data": {
      "text/plain": [
       "['Multivariate ',\n",
       " 'Classification ',\n",
       " 'Categorical, Integer, Real ',\n",
       " '4177 ',\n",
       " '8 ',\n",
       " '1995 ',\n",
       " 'Multivariate ',\n",
       " 'Classification ',\n",
       " 'Categorical, Integer ',\n",
       " '48842 ',\n",
       " '14 ',\n",
       " '1996 ',\n",
       " 'Multivariate ',\n",
       " 'Classification ',\n",
       " 'Categorical, Integer, Real ',\n",
       " '798 ',\n",
       " '38 ',\n",
       " ' ',\n",
       " ' ',\n",
       " 'Recommender-Systems ',\n",
       " 'Categorical ',\n",
       " '37711 ',\n",
       " '294 ',\n",
       " '1998 ',\n",
       " 'Multivariate ',\n",
       " 'Classification ',\n",
       " 'Categorical, Integer, Real ',\n",
       " '452 ',\n",
       " '279 ',\n",
       " '1998 ',\n",
       " 'Multivariate ',\n",
       " 'Classification ',\n",
       " 'Categorical, Integer, Real ',\n",
       " '6000 ',\n",
       " '7 ',\n",
       " '1992 ',\n",
       " 'Multivariate ',\n",
       " 'Classification ',\n",
       " 'Categorical ',\n",
       " '226 ',\n",
       " ' ',\n",
       " '1987 ',\n",
       " 'Multivariate ',\n",
       " 'Classification ',\n",
       " 'Categorical ',\n",
       " '226 ',\n",
       " '69 ',\n",
       " '1992 ',\n",
       " 'Multivariate ',\n",
       " 'Regression ',\n",
       " 'Categorical, Real ',\n",
       " '398 ',\n",
       " '8 ',\n",
       " '1993 ',\n",
       " 'Multivariate ',\n",
       " 'Regression ',\n",
       " 'Categorical, Integer, Real ',\n",
       " '205 ',\n",
       " '26 ',\n",
       " '1987 ',\n",
       " 'Univariate, Text ',\n",
       " 'Classification ',\n",
       " ' ',\n",
       " '294 ',\n",
       " '1 ',\n",
       " '1994 ',\n",
       " 'Multivariate ',\n",
       " 'Classification ',\n",
       " 'Categorical ',\n",
       " '625 ',\n",
       " '4 ',\n",
       " '1994 ',\n",
       " 'Multivariate ',\n",
       " 'Classification ',\n",
       " 'Categorical ',\n",
       " '16 ',\n",
       " '4 ',\n",
       " ' ',\n",
       " 'Multivariate ',\n",
       " 'Classification ',\n",
       " 'Categorical ',\n",
       " '286 ',\n",
       " '9 ',\n",
       " '1988 ',\n",
       " 'Multivariate ',\n",
       " 'Classification ',\n",
       " 'Integer ',\n",
       " '699 ',\n",
       " '10 ',\n",
       " '1992 ',\n",
       " 'Multivariate ',\n",
       " 'Classification, Regression ',\n",
       " 'Real ',\n",
       " '198 ',\n",
       " '34 ',\n",
       " '1995 ',\n",
       " 'Multivariate ',\n",
       " 'Classification ',\n",
       " 'Real ',\n",
       " '569 ',\n",
       " '32 ',\n",
       " '1995 ',\n",
       " 'Multivariate ',\n",
       " 'Classification ',\n",
       " 'Categorical, Integer ',\n",
       " '108 ',\n",
       " '13 ',\n",
       " '1990 ',\n",
       " 'Multivariate ',\n",
       " 'Classification ',\n",
       " 'Categorical ',\n",
       " '1728 ',\n",
       " '6 ',\n",
       " '1997 ',\n",
       " 'Multivariate ',\n",
       " 'Classification ',\n",
       " 'Categorical, Integer ',\n",
       " '48842 ',\n",
       " '14 ',\n",
       " '1996 ',\n",
       " 'Multivariate, Data-Generator ',\n",
       " 'Classification ',\n",
       " 'Categorical, Integer ',\n",
       " ' ',\n",
       " '22 ',\n",
       " '1988 ',\n",
       " 'Multivariate ',\n",
       " 'Classification ',\n",
       " 'Categorical ',\n",
       " '3196 ',\n",
       " '36 ',\n",
       " '1989 ',\n",
       " 'Multivariate ',\n",
       " 'Classification ',\n",
       " 'Categorical, Integer ',\n",
       " '28056 ',\n",
       " '6 ',\n",
       " '1994 ',\n",
       " 'Domain-Theory ',\n",
       " ' ',\n",
       " ' ',\n",
       " ' ',\n",
       " ' ',\n",
       " ' ',\n",
       " 'Univariate, Time-Series ',\n",
       " ' ',\n",
       " 'Categorical, Integer ',\n",
       " '100 ',\n",
       " '6 ',\n",
       " ' ',\n",
       " 'Multivariate, Spatial ',\n",
       " 'Classification ',\n",
       " 'Categorical ',\n",
       " '67557 ',\n",
       " '42 ',\n",
       " '1995 ',\n",
       " 'Multivariate ',\n",
       " 'Classification ',\n",
       " 'Categorical, Integer, Real ',\n",
       " '690 ',\n",
       " '15 ',\n",
       " ' ',\n",
       " 'Multivariate, Domain-Theory ',\n",
       " 'Classification ',\n",
       " 'Categorical, Real, Integer ',\n",
       " '125 ',\n",
       " ' ',\n",
       " '1992 ',\n",
       " 'Multivariate ',\n",
       " 'Regression ',\n",
       " 'Integer ',\n",
       " '209 ',\n",
       " '9 ',\n",
       " '1987 ',\n",
       " 'Multivariate ',\n",
       " 'Classification ',\n",
       " 'Categorical, Integer ',\n",
       " '1473 ',\n",
       " '9 ',\n",
       " '1997 ',\n",
       " 'Multivariate ',\n",
       " 'Classification ',\n",
       " 'Categorical, Integer ',\n",
       " '581012 ',\n",
       " '54 ',\n",
       " '1998 ',\n",
       " 'Multivariate ',\n",
       " 'Classification ',\n",
       " 'Categorical, Integer, Real ',\n",
       " '512 ',\n",
       " '39 ',\n",
       " '1995 ',\n",
       " 'Multivariate ',\n",
       " 'Classification ',\n",
       " 'Categorical, Integer ',\n",
       " '366 ',\n",
       " '33 ',\n",
       " '1998 ',\n",
       " 'Multivariate, Time-Series ',\n",
       " ' ',\n",
       " 'Categorical, Integer ',\n",
       " ' ',\n",
       " '20 ',\n",
       " ' ',\n",
       " 'Data-Generator ',\n",
       " ' ',\n",
       " 'Real ',\n",
       " ' ',\n",
       " ' ',\n",
       " ' ',\n",
       " ' ',\n",
       " ' ',\n",
       " ' ',\n",
       " ' ',\n",
       " ' ',\n",
       " '1994 ',\n",
       " ' ',\n",
       " ' ',\n",
       " ' ',\n",
       " ' ',\n",
       " ' ',\n",
       " ' ',\n",
       " 'Multivariate ',\n",
       " 'Classification ',\n",
       " 'Categorical, Integer, Real ',\n",
       " '132 ',\n",
       " '12 ',\n",
       " '1989 ',\n",
       " 'Multivariate ',\n",
       " 'Classification ',\n",
       " 'Real ',\n",
       " '336 ',\n",
       " '8 ',\n",
       " '1996 ',\n",
       " 'Multivariate ',\n",
       " 'Classification ',\n",
       " 'Categorical, Integer ',\n",
       " '194 ',\n",
       " '30 ',\n",
       " '1990 ',\n",
       " ' ',\n",
       " 'Function-Learning ',\n",
       " 'Real ',\n",
       " '352 ',\n",
       " ' ',\n",
       " '1990 ',\n",
       " 'Multivariate ',\n",
       " 'Classification ',\n",
       " 'Real ',\n",
       " '214 ',\n",
       " '10 ',\n",
       " '1987 ',\n",
       " 'Multivariate ',\n",
       " 'Classification ',\n",
       " 'Integer ',\n",
       " '306 ',\n",
       " '3 ',\n",
       " '1999 ',\n",
       " 'Multivariate ',\n",
       " 'Classification ',\n",
       " 'Categorical ',\n",
       " '160 ',\n",
       " '5 ',\n",
       " '1989 ',\n",
       " 'Multivariate ',\n",
       " 'Classification ',\n",
       " 'Categorical, Integer, Real ',\n",
       " '303 ',\n",
       " '75 ',\n",
       " '1988 ',\n",
       " 'Multivariate ',\n",
       " 'Classification ',\n",
       " 'Categorical, Integer, Real ',\n",
       " '155 ',\n",
       " '19 ',\n",
       " '1988 ',\n",
       " 'Multivariate ',\n",
       " 'Classification ',\n",
       " 'Categorical, Integer, Real ',\n",
       " '368 ',\n",
       " '27 ',\n",
       " '1989 ',\n",
       " 'Multivariate, Time-Series ',\n",
       " ' ',\n",
       " 'Real ',\n",
       " ' ',\n",
       " ' ',\n",
       " ' ',\n",
       " 'Multivariate ',\n",
       " 'Classification ',\n",
       " 'Real ',\n",
       " '2310 ',\n",
       " '19 ',\n",
       " '1990 ',\n",
       " 'Multivariate ',\n",
       " 'Classification ',\n",
       " 'Categorical, Integer, Real ',\n",
       " '3279 ',\n",
       " '1558 ',\n",
       " '1998 ',\n",
       " 'Multivariate ',\n",
       " 'Classification ',\n",
       " 'Integer, Real ',\n",
       " '351 ',\n",
       " '34 ',\n",
       " '1989 ',\n",
       " 'Multivariate ',\n",
       " 'Classification ',\n",
       " 'Real ',\n",
       " '150 ',\n",
       " '4 ',\n",
       " '1988 ',\n",
       " 'Multivariate ',\n",
       " 'Classification ',\n",
       " 'Real ',\n",
       " '7797 ',\n",
       " '617 ',\n",
       " '1994 ',\n",
       " 'Relational ',\n",
       " 'Relational-Learning ',\n",
       " 'Categorical ',\n",
       " '104 ',\n",
       " '12 ',\n",
       " '1990 ',\n",
       " 'Multivariate ',\n",
       " ' ',\n",
       " 'Categorical, Integer, Real ',\n",
       " '57 ',\n",
       " '16 ',\n",
       " '1988 ',\n",
       " 'Multivariate, Data-Generator ',\n",
       " 'Classification ',\n",
       " 'Categorical ',\n",
       " ' ',\n",
       " '7 ',\n",
       " '1988 ',\n",
       " 'Multivariate ',\n",
       " 'Classification ',\n",
       " 'Categorical ',\n",
       " '24 ',\n",
       " '4 ',\n",
       " '1990 ',\n",
       " 'Multivariate ',\n",
       " 'Classification ',\n",
       " 'Integer ',\n",
       " '20000 ',\n",
       " '16 ',\n",
       " '1991 ',\n",
       " 'Multivariate ',\n",
       " ' ',\n",
       " 'Categorical, Integer, Real ',\n",
       " '345 ',\n",
       " '7 ',\n",
       " '1990 ',\n",
       " 'Domain-Theory ',\n",
       " ' ',\n",
       " ' ',\n",
       " ' ',\n",
       " ' ',\n",
       " ' ',\n",
       " 'Multivariate ',\n",
       " 'Classification ',\n",
       " 'Integer ',\n",
       " '32 ',\n",
       " '56 ',\n",
       " '1992 ',\n",
       " 'Multivariate ',\n",
       " 'Classification ',\n",
       " 'Categorical ',\n",
       " '148 ',\n",
       " '18 ',\n",
       " '1988 ',\n",
       " 'Multivariate ',\n",
       " 'Classification ',\n",
       " 'Categorical, Integer, Real ',\n",
       " '209 ',\n",
       " '8 ',\n",
       " '1990 ',\n",
       " 'Multivariate ',\n",
       " 'Classification ',\n",
       " 'Categorical, Integer, Real ',\n",
       " '528 ',\n",
       " '22 ',\n",
       " '1996 ',\n",
       " 'Domain-Theory ',\n",
       " ' ',\n",
       " 'Categorical, Integer, Real ',\n",
       " ' ',\n",
       " ' ',\n",
       " '1995 ',\n",
       " 'Sequential, Domain-Theory ',\n",
       " 'Classification ',\n",
       " 'Categorical ',\n",
       " '106 ',\n",
       " '58 ',\n",
       " '1990 ',\n",
       " 'Sequential ',\n",
       " 'Classification ',\n",
       " 'Categorical ',\n",
       " '128 ',\n",
       " ' ',\n",
       " ' ',\n",
       " 'Sequential, Domain-Theory ',\n",
       " 'Classification ',\n",
       " 'Categorical ',\n",
       " '3190 ',\n",
       " '61 ',\n",
       " '1992 ',\n",
       " 'Multivariate ',\n",
       " 'Classification ',\n",
       " 'Categorical ',\n",
       " '432 ',\n",
       " '7 ',\n",
       " '1992 ',\n",
       " 'Domain-Theory ',\n",
       " ' ',\n",
       " ' ',\n",
       " '202 ',\n",
       " ' ',\n",
       " '1994 ',\n",
       " 'Multivariate ',\n",
       " 'Classification ',\n",
       " 'Integer, Real ',\n",
       " '2000 ',\n",
       " '649 ',\n",
       " ' ',\n",
       " 'Multivariate ',\n",
       " 'Classification ',\n",
       " 'Categorical ',\n",
       " '8124 ',\n",
       " '22 ',\n",
       " '1987 ',\n",
       " 'Multivariate ',\n",
       " 'Classification ',\n",
       " 'Integer ',\n",
       " '476 ',\n",
       " '168 ',\n",
       " '1994 ',\n",
       " 'Multivariate ',\n",
       " 'Classification ',\n",
       " 'Integer ',\n",
       " '6598 ',\n",
       " '168 ',\n",
       " '1994 ',\n",
       " 'Multivariate ',\n",
       " 'Classification ',\n",
       " 'Categorical ',\n",
       " '12960 ',\n",
       " '8 ',\n",
       " '1997 ',\n",
       " 'Domain-Theory ',\n",
       " ' ',\n",
       " ' ',\n",
       " ' ',\n",
       " ' ',\n",
       " '1991 ',\n",
       " 'Multivariate ',\n",
       " 'Classification ',\n",
       " 'Integer, Real ',\n",
       " '5473 ',\n",
       " '10 ',\n",
       " '1995 ',\n",
       " 'Multivariate ',\n",
       " 'Classification ',\n",
       " 'Integer ',\n",
       " '5620 ',\n",
       " '64 ',\n",
       " '1998 ',\n",
       " 'Multivariate ',\n",
       " 'Classification ',\n",
       " 'Integer ',\n",
       " '10992 ',\n",
       " '16 ',\n",
       " '1998 ',\n",
       " 'Multivariate ',\n",
       " 'Classification ',\n",
       " 'Categorical, Integer ',\n",
       " '90 ',\n",
       " '8 ',\n",
       " '1993 ',\n",
       " 'Multivariate ',\n",
       " 'Classification ',\n",
       " 'Categorical ',\n",
       " '339 ',\n",
       " '17 ',\n",
       " '1988 ',\n",
       " 'Domain-Theory ',\n",
       " ' ',\n",
       " ' ',\n",
       " ' ',\n",
       " ' ',\n",
       " ' ',\n",
       " 'Domain-Theory ',\n",
       " ' ',\n",
       " ' ',\n",
       " ' ',\n",
       " ' ',\n",
       " ' ',\n",
       " 'Multivariate, Data-Generator ',\n",
       " 'Classification ',\n",
       " 'Real ',\n",
       " ' ',\n",
       " '72 ',\n",
       " '1992 ',\n",
       " 'Multivariate ',\n",
       " 'Regression ',\n",
       " 'Categorical, Integer ',\n",
       " '167 ',\n",
       " '4 ',\n",
       " '1993 ',\n",
       " 'Multivariate ',\n",
       " 'Classification ',\n",
       " 'Categorical ',\n",
       " '15 ',\n",
       " '6 ',\n",
       " '1988 ',\n",
       " 'Multivariate ',\n",
       " 'Regression ',\n",
       " 'Categorical ',\n",
       " '1389 ',\n",
       " '10 ',\n",
       " '1989 ',\n",
       " 'Multivariate ',\n",
       " 'Classification ',\n",
       " 'Categorical ',\n",
       " '307 ',\n",
       " '35 ',\n",
       " '1988 ',\n",
       " 'Multivariate ',\n",
       " 'Classification ',\n",
       " 'Categorical ',\n",
       " '47 ',\n",
       " '35 ',\n",
       " '1987 ',\n",
       " 'Multivariate ',\n",
       " 'Regression ',\n",
       " 'Integer ',\n",
       " '23 ',\n",
       " '4 ',\n",
       " '1993 ',\n",
       " 'Multivariate ',\n",
       " 'Classification ',\n",
       " 'Integer, Real ',\n",
       " '531 ',\n",
       " '102 ',\n",
       " '1988 ',\n",
       " 'Multivariate ',\n",
       " 'Classification ',\n",
       " 'Integer, Real ',\n",
       " '4601 ',\n",
       " '57 ',\n",
       " '1999 ',\n",
       " 'Multivariate ',\n",
       " 'Classification ',\n",
       " 'Categorical ',\n",
       " '267 ',\n",
       " '22 ',\n",
       " '2001 ',\n",
       " 'Multivariate ',\n",
       " 'Classification ',\n",
       " 'Integer ',\n",
       " '267 ',\n",
       " '44 ',\n",
       " '2001 ',\n",
       " 'Multivariate ',\n",
       " 'Clustering ',\n",
       " 'Categorical, Integer ',\n",
       " '76 ',\n",
       " '45 ',\n",
       " ' ',\n",
       " ' ',\n",
       " ' ',\n",
       " ' ',\n",
       " ' ',\n",
       " ' ',\n",
       " '1992 ',\n",
       " 'Domain-Theory ',\n",
       " ' ',\n",
       " ' ',\n",
       " '1000 ',\n",
       " ' ',\n",
       " '1993 ',\n",
       " 'Multivariate ',\n",
       " 'Classification ',\n",
       " 'Categorical, Integer ',\n",
       " '151 ',\n",
       " '5 ',\n",
       " '1997 ',\n",
       " 'Multivariate ',\n",
       " 'Classification ',\n",
       " 'Categorical ',\n",
       " '958 ',\n",
       " '9 ',\n",
       " '1991 ',\n",
       " 'Multivariate, Domain-Theory ',\n",
       " 'Classification ',\n",
       " 'Categorical, Real ',\n",
       " '7200 ',\n",
       " '21 ',\n",
       " '1987 ',\n",
       " 'Multivariate ',\n",
       " 'Classification ',\n",
       " 'Categorical ',\n",
       " '10 ',\n",
       " '32 ',\n",
       " '1994 ',\n",
       " 'Multivariate ',\n",
       " 'Classification ',\n",
       " 'Categorical, Integer ',\n",
       " '285 ',\n",
       " '17 ',\n",
       " '1988 ',\n",
       " 'Multivariate ',\n",
       " 'Classification ',\n",
       " 'Categorical ',\n",
       " '435 ',\n",
       " '16 ',\n",
       " '1987 ',\n",
       " 'Multivariate ',\n",
       " 'Clustering ',\n",
       " 'Integer, Real ',\n",
       " '527 ',\n",
       " '38 ',\n",
       " '1993 ',\n",
       " 'Multivariate, Data-Generator ',\n",
       " 'Classification ',\n",
       " 'Real ',\n",
       " '5000 ',\n",
       " '21 ',\n",
       " '1988 ',\n",
       " 'Multivariate, Data-Generator ',\n",
       " 'Classification ',\n",
       " 'Real ',\n",
       " '5000 ',\n",
       " '40 ',\n",
       " '1988 ',\n",
       " 'Multivariate ',\n",
       " 'Classification ',\n",
       " 'Integer, Real ',\n",
       " '178 ',\n",
       " '13 ',\n",
       " '1991 ',\n",
       " 'Multivariate ',\n",
       " 'Classification ',\n",
       " 'Real ',\n",
       " '1484 ',\n",
       " '8 ',\n",
       " '1996 ',\n",
       " 'Multivariate ',\n",
       " 'Classification ',\n",
       " 'Categorical, Integer ',\n",
       " '101 ',\n",
       " '17 ',\n",
       " '1990 ',\n",
       " ' ',\n",
       " ' ',\n",
       " ' ',\n",
       " ' ',\n",
       " ' ',\n",
       " ' ',\n",
       " 'Text ',\n",
       " ' ',\n",
       " ' ',\n",
       " '20000 ',\n",
       " ' ',\n",
       " '1999 ',\n",
       " 'Multivariate, Time-Series ',\n",
       " 'Classification ',\n",
       " 'Categorical, Real ',\n",
       " '6650 ',\n",
       " '15 ',\n",
       " '1999 ',\n",
       " 'Multivariate, Time-Series ',\n",
       " 'Classification ',\n",
       " 'Real ',\n",
       " '2565 ',\n",
       " '22 ',\n",
       " '2002 ',\n",
       " 'Multivariate ',\n",
       " 'Clustering ',\n",
       " 'Categorical ',\n",
       " '2458285 ',\n",
       " '68 ',\n",
       " ' ',\n",
       " 'Multivariate ',\n",
       " 'Classification ',\n",
       " 'Categorical, Integer ',\n",
       " '299285 ',\n",
       " '40 ',\n",
       " '2000 ',\n",
       " 'Multivariate ',\n",
       " ' ',\n",
       " 'Categorical, Real ',\n",
       " '340 ',\n",
       " '17 ',\n",
       " '1999 ',\n",
       " 'Multivariate ',\n",
       " ' ',\n",
       " 'Real ',\n",
       " '68040 ',\n",
       " '89 ',\n",
       " '1999 ',\n",
       " 'Relational ',\n",
       " ' ',\n",
       " ' ',\n",
       " ' ',\n",
       " ' ',\n",
       " '2001 ',\n",
       " 'Multivariate, Time-Series ',\n",
       " ' ',\n",
       " 'Categorical, Integer, Real ',\n",
       " '122 ',\n",
       " '4 ',\n",
       " '1999 ',\n",
       " 'Spatio-temporal ',\n",
       " ' ',\n",
       " 'Integer, Real ',\n",
       " '178080 ',\n",
       " '12 ',\n",
       " '1999 ',\n",
       " 'Transactional, Sequential ',\n",
       " 'Recommender-Systems ',\n",
       " 'Categorical ',\n",
       " '50672 ',\n",
       " ' ',\n",
       " '2000 ',\n",
       " 'Image ',\n",
       " 'Classification ',\n",
       " 'Integer ',\n",
       " '640 ',\n",
       " ' ',\n",
       " '1999 ',\n",
       " 'Multivariate ',\n",
       " 'Regression, Description ',\n",
       " 'Categorical, Integer ',\n",
       " '9000 ',\n",
       " '86 ',\n",
       " '2000 ',\n",
       " 'Multivariate ',\n",
       " ' ',\n",
       " 'Categorical, Integer ',\n",
       " '10104 ',\n",
       " '72 ',\n",
       " '1999 ',\n",
       " 'Multivariate ',\n",
       " ' ',\n",
       " 'Categorical, Integer ',\n",
       " '256932 ',\n",
       " '61 ',\n",
       " '1999 ',\n",
       " 'Multivariate, Time-Series ',\n",
       " 'Classification ',\n",
       " 'Real ',\n",
       " '640 ',\n",
       " '12 ',\n",
       " ' ',\n",
       " 'Multivariate ',\n",
       " 'Regression ',\n",
       " 'Categorical, Integer ',\n",
       " '191779 ',\n",
       " '481 ',\n",
       " '1998 ',\n",
       " 'Multivariate ',\n",
       " 'Classification ',\n",
       " 'Categorical, Integer ',\n",
       " '4000000 ',\n",
       " '42 ',\n",
       " '1999 ',\n",
       " 'Relational ',\n",
       " ' ',\n",
       " ' ',\n",
       " ' ',\n",
       " ' ',\n",
       " '2001 ',\n",
       " 'Multivariate, Relational ',\n",
       " ' ',\n",
       " ' ',\n",
       " '10000 ',\n",
       " ' ',\n",
       " '1999 ',\n",
       " 'Sequential ',\n",
       " ' ',\n",
       " 'Categorical ',\n",
       " '989818 ',\n",
       " ' ',\n",
       " ' ',\n",
       " 'Text ',\n",
       " ' ',\n",
       " ' ',\n",
       " '129000 ',\n",
       " ' ',\n",
       " '2003 ',\n",
       " 'Multivariate, Time-Series ',\n",
       " ' ',\n",
       " 'Categorical, Real ',\n",
       " ' ',\n",
       " ' ',\n",
       " '1999 ',\n",
       " 'Univariate, Time-Series ',\n",
       " ' ',\n",
       " ' ',\n",
       " '100000 ',\n",
       " ' ',\n",
       " '1999 ',\n",
       " 'Text ',\n",
       " 'Classification ',\n",
       " 'Categorical ',\n",
       " '21578 ',\n",
       " '5 ',\n",
       " '1997 ',\n",
       " 'Multivariate, Time-Series ',\n",
       " 'Classification ',\n",
       " 'Integer ',\n",
       " '463 ',\n",
       " '90 ',\n",
       " '1999 ',\n",
       " 'Time-Series ',\n",
       " 'Classification, Clustering ',\n",
       " 'Real ',\n",
       " '600 ',\n",
       " ' ',\n",
       " '1999 ',\n",
       " 'Multivariate, Text ',\n",
       " 'Classification ',\n",
       " 'Categorical ',\n",
       " '332 ',\n",
       " '5 ',\n",
       " '1998 ',\n",
       " 'Text, Sequential ',\n",
       " ' ',\n",
       " ' ',\n",
       " ' ',\n",
       " ' ',\n",
       " ' ',\n",
       " 'Image ',\n",
       " 'Classification ',\n",
       " ' ',\n",
       " ' ',\n",
       " ' ',\n",
       " ' ',\n",
       " 'Multivariate ',\n",
       " 'Classification ',\n",
       " 'Categorical, Integer, Real ',\n",
       " '690 ',\n",
       " '14 ',\n",
       " ' ',\n",
       " 'Multivariate ',\n",
       " 'Classification ',\n",
       " 'Categorical, Integer ',\n",
       " '1000 ',\n",
       " '20 ',\n",
       " '1994 ',\n",
       " 'Multivariate ',\n",
       " 'Classification ',\n",
       " 'Categorical, Real ',\n",
       " '270 ',\n",
       " '13 ',\n",
       " ' ',\n",
       " 'Multivariate ',\n",
       " 'Classification ',\n",
       " 'Integer ',\n",
       " '6435 ',\n",
       " '36 ',\n",
       " '1993 ',\n",
       " 'Multivariate ',\n",
       " 'Classification ',\n",
       " 'Real ',\n",
       " '2310 ',\n",
       " '19 ',\n",
       " '1990 ',\n",
       " 'Multivariate ',\n",
       " 'Classification ',\n",
       " 'Integer ',\n",
       " '58000 ',\n",
       " '9 ',\n",
       " ' ',\n",
       " 'Multivariate ',\n",
       " 'Classification ',\n",
       " 'Integer ',\n",
       " '946 ',\n",
       " '18 ',\n",
       " ' ',\n",
       " 'Multivariate ',\n",
       " ' ',\n",
       " 'Categorical ',\n",
       " '20008 ',\n",
       " '4 ',\n",
       " ' ',\n",
       " 'Multivariate ',\n",
       " 'Classification ',\n",
       " 'Real ',\n",
       " '208 ',\n",
       " '60 ',\n",
       " ' ',\n",
       " ' ',\n",
       " 'Classification ',\n",
       " 'Real ',\n",
       " '528 ',\n",
       " '10 ',\n",
       " ' ',\n",
       " 'Domain-Theory ',\n",
       " ' ',\n",
       " ' ',\n",
       " ' ',\n",
       " ' ',\n",
       " ' ',\n",
       " ' ',\n",
       " ' ',\n",
       " ' ',\n",
       " ' ',\n",
       " ' ',\n",
       " ' ',\n",
       " 'Multivariate ',\n",
       " ' ',\n",
       " 'Real ',\n",
       " '1024 ',\n",
       " '10 ',\n",
       " '1989 ',\n",
       " 'Multivariate, Time-Series ',\n",
       " ' ',\n",
       " 'Categorical, Integer ',\n",
       " '10080 ',\n",
       " '4 ',\n",
       " '2006 ',\n",
       " 'Multivariate, Time-Series ',\n",
       " ' ',\n",
       " 'Categorical, Integer ',\n",
       " '50400 ',\n",
       " '3 ',\n",
       " '2006 ',\n",
       " 'Multivariate ',\n",
       " 'Classification ',\n",
       " 'Categorical, Integer ',\n",
       " '1025010 ',\n",
       " '11 ',\n",
       " '2007 ',\n",
       " 'Multivariate ',\n",
       " 'Classification ',\n",
       " 'Real ',\n",
       " '19020 ',\n",
       " '11 ',\n",
       " '2007 ',\n",
       " 'Multivariate, Sequential ',\n",
       " 'Classification ',\n",
       " 'Integer ',\n",
       " '1364 ',\n",
       " ' ',\n",
       " '2007 ',\n",
       " 'Multivariate ',\n",
       " 'Classification ',\n",
       " 'Integer ',\n",
       " '961 ',\n",
       " '6 ',\n",
       " '2007 ',\n",
       " 'Multivariate ',\n",
       " 'Regression ',\n",
       " 'Real ',\n",
       " '517 ',\n",
       " '13 ',\n",
       " '2008 ',\n",
       " 'Text ',\n",
       " 'Classification ',\n",
       " ' ',\n",
       " '200 ',\n",
       " ' ',\n",
       " '2008 ',\n",
       " 'Text ',\n",
       " 'Clustering ',\n",
       " 'Integer ',\n",
       " '8000000 ',\n",
       " '100000 ',\n",
       " '2008 ',\n",
       " 'Multivariate ',\n",
       " 'Regression ',\n",
       " 'Real ',\n",
       " '1030 ',\n",
       " '9 ',\n",
       " '2007 ',\n",
       " 'Sequential ',\n",
       " 'Classification ',\n",
       " 'Real ',\n",
       " '606 ',\n",
       " '101 ',\n",
       " '2008 ',\n",
       " 'Multivariate ',\n",
       " 'Classification ',\n",
       " 'Real ',\n",
       " '900 ',\n",
       " '10000 ',\n",
       " '2008 ',\n",
       " 'Multivariate ',\n",
       " 'Classification ',\n",
       " 'Integer ',\n",
       " '2600 ',\n",
       " '20000 ',\n",
       " '2008 ',\n",
       " 'Multivariate ',\n",
       " 'Classification ',\n",
       " 'Integer ',\n",
       " '1950 ',\n",
       " ...]"
      ]
     },
     "execution_count": 945,
     "metadata": {},
     "output_type": "execute_result"
    }
   ],
   "source": [
    "type_data"
   ]
  },
  {
   "cell_type": "markdown",
   "metadata": {},
   "source": [
    "Solution 7"
   ]
  },
  {
   "cell_type": "code",
   "execution_count": 1,
   "metadata": {},
   "outputs": [],
   "source": [
    "import selenium"
   ]
  },
  {
   "cell_type": "code",
   "execution_count": 2,
   "metadata": {},
   "outputs": [],
   "source": [
    "from selenium import webdriver"
   ]
  },
  {
   "cell_type": "code",
   "execution_count": 3,
   "metadata": {},
   "outputs": [],
   "source": [
    "import pandas as pd"
   ]
  },
  {
   "cell_type": "code",
   "execution_count": 4,
   "metadata": {},
   "outputs": [],
   "source": [
    "import time"
   ]
  },
  {
   "cell_type": "code",
   "execution_count": 7,
   "metadata": {},
   "outputs": [
    {
     "name": "stderr",
     "output_type": "stream",
     "text": [
      "<ipython-input-7-ec23c7972a0a>:1: DeprecationWarning: executable_path has been deprecated, please pass in a Service object\n",
      "  driver=webdriver.Chrome('chromedriver.exe')\n"
     ]
    }
   ],
   "source": [
    "driver=webdriver.Chrome('chromedriver.exe')"
   ]
  },
  {
   "cell_type": "code",
   "execution_count": 8,
   "metadata": {},
   "outputs": [],
   "source": [
    "driver.get('https://www.naukri.com/')"
   ]
  },
  {
   "cell_type": "code",
   "execution_count": 11,
   "metadata": {},
   "outputs": [
    {
     "name": "stderr",
     "output_type": "stream",
     "text": [
      "<ipython-input-11-8f31f5940977>:1: DeprecationWarning: find_element_by_* commands are deprecated. Please use find_element() instead\n",
      "  ignore_btn=driver.find_element_by_xpath('/html/body/div[3]/span[1]')\n"
     ]
    }
   ],
   "source": [
    "ignore_btn=driver.find_element_by_xpath('/html/body/div[3]/span[1]')\n",
    "ignore_btn.click()"
   ]
  },
  {
   "cell_type": "code",
   "execution_count": 12,
   "metadata": {},
   "outputs": [
    {
     "name": "stderr",
     "output_type": "stream",
     "text": [
      "<ipython-input-12-c0e9281f1bfa>:1: DeprecationWarning: find_element_by_* commands are deprecated. Please use find_element() instead\n",
      "  rec_btn=driver.find_element_by_xpath('/html/body/div[1]/div[1]/div/ul[1]/li[2]/a/div')\n"
     ]
    }
   ],
   "source": [
    "rec_btn=driver.find_element_by_xpath('/html/body/div[1]/div[1]/div/ul[1]/li[2]/a/div')"
   ]
  },
  {
   "cell_type": "code",
   "execution_count": 13,
   "metadata": {},
   "outputs": [],
   "source": [
    "rec_btn.click()"
   ]
  },
  {
   "cell_type": "code",
   "execution_count": 17,
   "metadata": {},
   "outputs": [
    {
     "name": "stderr",
     "output_type": "stream",
     "text": [
      "<ipython-input-17-d7261cdcd1bf>:1: DeprecationWarning: executable_path has been deprecated, please pass in a Service object\n",
      "  go_driver=webdriver.Chrome('chromedriver.exe')\n"
     ]
    }
   ],
   "source": [
    "go_driver=webdriver.Chrome('chromedriver.exe')"
   ]
  },
  {
   "cell_type": "code",
   "execution_count": 18,
   "metadata": {},
   "outputs": [],
   "source": [
    "go_driver.get('https://www.naukri.com/hr-recruiters-consultants')"
   ]
  },
  {
   "cell_type": "code",
   "execution_count": 21,
   "metadata": {},
   "outputs": [
    {
     "name": "stderr",
     "output_type": "stream",
     "text": [
      "<ipython-input-21-b9887f6eb1b9>:1: DeprecationWarning: find_element_by_* commands are deprecated. Please use find_element() instead\n",
      "  input_go=driver.find_element_by_xpath('/html/body/div[2]/div[2]/div[1]/div[1]/form/div[1]/div/div[1]/div[1]/div[2]')\n"
     ]
    }
   ],
   "source": [
    "input_go=driver.find_element_by_xpath('/html/body/div[2]/div[2]/div[1]/div[1]/form/div[1]/div/div[1]/div[1]/div[2]')"
   ]
  },
  {
   "cell_type": "code",
   "execution_count": 22,
   "metadata": {},
   "outputs": [
    {
     "ename": "ElementNotInteractableException",
     "evalue": "Message: element not interactable\n  (Session info: chrome=95.0.4638.69)\nStacktrace:\nBacktrace:\n\tOrdinal0 [0x005CBDE3+2473443]\n\tOrdinal0 [0x00566661+2057825]\n\tOrdinal0 [0x00472300+1057536]\n\tOrdinal0 [0x00497E43+1211971]\n\tOrdinal0 [0x0049758A+1209738]\n\tOrdinal0 [0x004B56E3+1332963]\n\tOrdinal0 [0x00493386+1192838]\n\tOrdinal0 [0x004B57CA+1333194]\n\tOrdinal0 [0x004C4ABF+1395391]\n\tOrdinal0 [0x004B55AB+1332651]\n\tOrdinal0 [0x00492104+1188100]\n\tOrdinal0 [0x00492F59+1191769]\n\tGetHandleVerifier [0x00752266+1549718]\n\tGetHandleVerifier [0x007FD4A7+2250711]\n\tGetHandleVerifier [0x0065718B+521403]\n\tGetHandleVerifier [0x00656229+517465]\n\tOrdinal0 [0x0056B79D+2078621]\n\tOrdinal0 [0x0056FB58+2095960]\n\tOrdinal0 [0x0056FC92+2096274]\n\tOrdinal0 [0x00579541+2135361]\n\tBaseThreadInitThunk [0x770EFA29+25]\n\tRtlGetAppContainerNamedObjectPath [0x77757A9E+286]\n\tRtlGetAppContainerNamedObjectPath [0x77757A6E+238]\n",
     "output_type": "error",
     "traceback": [
      "\u001b[1;31m---------------------------------------------------------------------------\u001b[0m",
      "\u001b[1;31mElementNotInteractableException\u001b[0m           Traceback (most recent call last)",
      "\u001b[1;32m<ipython-input-22-9793dbf596a6>\u001b[0m in \u001b[0;36m<module>\u001b[1;34m\u001b[0m\n\u001b[1;32m----> 1\u001b[1;33m \u001b[0minput_go\u001b[0m\u001b[1;33m.\u001b[0m\u001b[0msend_keys\u001b[0m\u001b[1;33m(\u001b[0m\u001b[1;34m'Data science'\u001b[0m\u001b[1;33m)\u001b[0m\u001b[1;33m\u001b[0m\u001b[1;33m\u001b[0m\u001b[0m\n\u001b[0m",
      "\u001b[1;32m~\\anaconda3\\lib\\site-packages\\selenium\\webdriver\\remote\\webelement.py\u001b[0m in \u001b[0;36msend_keys\u001b[1;34m(self, *value)\u001b[0m\n\u001b[0;32m    537\u001b[0m                 \u001b[0mvalue\u001b[0m \u001b[1;33m=\u001b[0m \u001b[1;34m'\\n'\u001b[0m\u001b[1;33m.\u001b[0m\u001b[0mjoin\u001b[0m\u001b[1;33m(\u001b[0m\u001b[0mremote_files\u001b[0m\u001b[1;33m)\u001b[0m\u001b[1;33m\u001b[0m\u001b[1;33m\u001b[0m\u001b[0m\n\u001b[0;32m    538\u001b[0m \u001b[1;33m\u001b[0m\u001b[0m\n\u001b[1;32m--> 539\u001b[1;33m         self._execute(Command.SEND_KEYS_TO_ELEMENT,\n\u001b[0m\u001b[0;32m    540\u001b[0m                       {'text': \"\".join(keys_to_typing(value)),\n\u001b[0;32m    541\u001b[0m                        'value': keys_to_typing(value)})\n",
      "\u001b[1;32m~\\anaconda3\\lib\\site-packages\\selenium\\webdriver\\remote\\webelement.py\u001b[0m in \u001b[0;36m_execute\u001b[1;34m(self, command, params)\u001b[0m\n\u001b[0;32m    691\u001b[0m             \u001b[0mparams\u001b[0m \u001b[1;33m=\u001b[0m \u001b[1;33m{\u001b[0m\u001b[1;33m}\u001b[0m\u001b[1;33m\u001b[0m\u001b[1;33m\u001b[0m\u001b[0m\n\u001b[0;32m    692\u001b[0m         \u001b[0mparams\u001b[0m\u001b[1;33m[\u001b[0m\u001b[1;34m'id'\u001b[0m\u001b[1;33m]\u001b[0m \u001b[1;33m=\u001b[0m \u001b[0mself\u001b[0m\u001b[1;33m.\u001b[0m\u001b[0m_id\u001b[0m\u001b[1;33m\u001b[0m\u001b[1;33m\u001b[0m\u001b[0m\n\u001b[1;32m--> 693\u001b[1;33m         \u001b[1;32mreturn\u001b[0m \u001b[0mself\u001b[0m\u001b[1;33m.\u001b[0m\u001b[0m_parent\u001b[0m\u001b[1;33m.\u001b[0m\u001b[0mexecute\u001b[0m\u001b[1;33m(\u001b[0m\u001b[0mcommand\u001b[0m\u001b[1;33m,\u001b[0m \u001b[0mparams\u001b[0m\u001b[1;33m)\u001b[0m\u001b[1;33m\u001b[0m\u001b[1;33m\u001b[0m\u001b[0m\n\u001b[0m\u001b[0;32m    694\u001b[0m \u001b[1;33m\u001b[0m\u001b[0m\n\u001b[0;32m    695\u001b[0m     \u001b[1;32mdef\u001b[0m \u001b[0mfind_element\u001b[0m\u001b[1;33m(\u001b[0m\u001b[0mself\u001b[0m\u001b[1;33m,\u001b[0m \u001b[0mby\u001b[0m\u001b[1;33m=\u001b[0m\u001b[0mBy\u001b[0m\u001b[1;33m.\u001b[0m\u001b[0mID\u001b[0m\u001b[1;33m,\u001b[0m \u001b[0mvalue\u001b[0m\u001b[1;33m=\u001b[0m\u001b[1;32mNone\u001b[0m\u001b[1;33m)\u001b[0m\u001b[1;33m:\u001b[0m\u001b[1;33m\u001b[0m\u001b[1;33m\u001b[0m\u001b[0m\n",
      "\u001b[1;32m~\\anaconda3\\lib\\site-packages\\selenium\\webdriver\\remote\\webdriver.py\u001b[0m in \u001b[0;36mexecute\u001b[1;34m(self, driver_command, params)\u001b[0m\n\u001b[0;32m    416\u001b[0m         \u001b[0mresponse\u001b[0m \u001b[1;33m=\u001b[0m \u001b[0mself\u001b[0m\u001b[1;33m.\u001b[0m\u001b[0mcommand_executor\u001b[0m\u001b[1;33m.\u001b[0m\u001b[0mexecute\u001b[0m\u001b[1;33m(\u001b[0m\u001b[0mdriver_command\u001b[0m\u001b[1;33m,\u001b[0m \u001b[0mparams\u001b[0m\u001b[1;33m)\u001b[0m\u001b[1;33m\u001b[0m\u001b[1;33m\u001b[0m\u001b[0m\n\u001b[0;32m    417\u001b[0m         \u001b[1;32mif\u001b[0m \u001b[0mresponse\u001b[0m\u001b[1;33m:\u001b[0m\u001b[1;33m\u001b[0m\u001b[1;33m\u001b[0m\u001b[0m\n\u001b[1;32m--> 418\u001b[1;33m             \u001b[0mself\u001b[0m\u001b[1;33m.\u001b[0m\u001b[0merror_handler\u001b[0m\u001b[1;33m.\u001b[0m\u001b[0mcheck_response\u001b[0m\u001b[1;33m(\u001b[0m\u001b[0mresponse\u001b[0m\u001b[1;33m)\u001b[0m\u001b[1;33m\u001b[0m\u001b[1;33m\u001b[0m\u001b[0m\n\u001b[0m\u001b[0;32m    419\u001b[0m             response['value'] = self._unwrap_value(\n\u001b[0;32m    420\u001b[0m                 response.get('value', None))\n",
      "\u001b[1;32m~\\anaconda3\\lib\\site-packages\\selenium\\webdriver\\remote\\errorhandler.py\u001b[0m in \u001b[0;36mcheck_response\u001b[1;34m(self, response)\u001b[0m\n\u001b[0;32m    241\u001b[0m                 \u001b[0malert_text\u001b[0m \u001b[1;33m=\u001b[0m \u001b[0mvalue\u001b[0m\u001b[1;33m[\u001b[0m\u001b[1;34m'alert'\u001b[0m\u001b[1;33m]\u001b[0m\u001b[1;33m.\u001b[0m\u001b[0mget\u001b[0m\u001b[1;33m(\u001b[0m\u001b[1;34m'text'\u001b[0m\u001b[1;33m)\u001b[0m\u001b[1;33m\u001b[0m\u001b[1;33m\u001b[0m\u001b[0m\n\u001b[0;32m    242\u001b[0m             \u001b[1;32mraise\u001b[0m \u001b[0mexception_class\u001b[0m\u001b[1;33m(\u001b[0m\u001b[0mmessage\u001b[0m\u001b[1;33m,\u001b[0m \u001b[0mscreen\u001b[0m\u001b[1;33m,\u001b[0m \u001b[0mstacktrace\u001b[0m\u001b[1;33m,\u001b[0m \u001b[0malert_text\u001b[0m\u001b[1;33m)\u001b[0m  \u001b[1;31m# type: ignore[call-arg]  # mypy is not smart enough here\u001b[0m\u001b[1;33m\u001b[0m\u001b[1;33m\u001b[0m\u001b[0m\n\u001b[1;32m--> 243\u001b[1;33m         \u001b[1;32mraise\u001b[0m \u001b[0mexception_class\u001b[0m\u001b[1;33m(\u001b[0m\u001b[0mmessage\u001b[0m\u001b[1;33m,\u001b[0m \u001b[0mscreen\u001b[0m\u001b[1;33m,\u001b[0m \u001b[0mstacktrace\u001b[0m\u001b[1;33m)\u001b[0m\u001b[1;33m\u001b[0m\u001b[1;33m\u001b[0m\u001b[0m\n\u001b[0m\u001b[0;32m    244\u001b[0m \u001b[1;33m\u001b[0m\u001b[0m\n\u001b[0;32m    245\u001b[0m     \u001b[1;32mdef\u001b[0m \u001b[0m_value_or_default\u001b[0m\u001b[1;33m(\u001b[0m\u001b[0mself\u001b[0m\u001b[1;33m,\u001b[0m \u001b[0mobj\u001b[0m\u001b[1;33m:\u001b[0m \u001b[0mMapping\u001b[0m\u001b[1;33m[\u001b[0m\u001b[0m_KT\u001b[0m\u001b[1;33m,\u001b[0m \u001b[0m_VT\u001b[0m\u001b[1;33m]\u001b[0m\u001b[1;33m,\u001b[0m \u001b[0mkey\u001b[0m\u001b[1;33m:\u001b[0m \u001b[0m_KT\u001b[0m\u001b[1;33m,\u001b[0m \u001b[0mdefault\u001b[0m\u001b[1;33m:\u001b[0m \u001b[0m_VT\u001b[0m\u001b[1;33m)\u001b[0m \u001b[1;33m->\u001b[0m \u001b[0m_VT\u001b[0m\u001b[1;33m:\u001b[0m\u001b[1;33m\u001b[0m\u001b[1;33m\u001b[0m\u001b[0m\n",
      "\u001b[1;31mElementNotInteractableException\u001b[0m: Message: element not interactable\n  (Session info: chrome=95.0.4638.69)\nStacktrace:\nBacktrace:\n\tOrdinal0 [0x005CBDE3+2473443]\n\tOrdinal0 [0x00566661+2057825]\n\tOrdinal0 [0x00472300+1057536]\n\tOrdinal0 [0x00497E43+1211971]\n\tOrdinal0 [0x0049758A+1209738]\n\tOrdinal0 [0x004B56E3+1332963]\n\tOrdinal0 [0x00493386+1192838]\n\tOrdinal0 [0x004B57CA+1333194]\n\tOrdinal0 [0x004C4ABF+1395391]\n\tOrdinal0 [0x004B55AB+1332651]\n\tOrdinal0 [0x00492104+1188100]\n\tOrdinal0 [0x00492F59+1191769]\n\tGetHandleVerifier [0x00752266+1549718]\n\tGetHandleVerifier [0x007FD4A7+2250711]\n\tGetHandleVerifier [0x0065718B+521403]\n\tGetHandleVerifier [0x00656229+517465]\n\tOrdinal0 [0x0056B79D+2078621]\n\tOrdinal0 [0x0056FB58+2095960]\n\tOrdinal0 [0x0056FC92+2096274]\n\tOrdinal0 [0x00579541+2135361]\n\tBaseThreadInitThunk [0x770EFA29+25]\n\tRtlGetAppContainerNamedObjectPath [0x77757A9E+286]\n\tRtlGetAppContainerNamedObjectPath [0x77757A6E+238]\n"
     ]
    }
   ],
   "source": [
    "input_go.send_keys('Data science')"
   ]
  },
  {
   "cell_type": "code",
   "execution_count": null,
   "metadata": {},
   "outputs": [],
   "source": []
  }
 ],
 "metadata": {
  "kernelspec": {
   "display_name": "Python 3",
   "language": "python",
   "name": "python3"
  },
  "language_info": {
   "codemirror_mode": {
    "name": "ipython",
    "version": 3
   },
   "file_extension": ".py",
   "mimetype": "text/x-python",
   "name": "python",
   "nbconvert_exporter": "python",
   "pygments_lexer": "ipython3",
   "version": "3.8.3"
  }
 },
 "nbformat": 4,
 "nbformat_minor": 4
}
